{
 "cells": [
  {
   "cell_type": "markdown",
   "id": "49ebf050-e802-491a-a748-3b0a803f843e",
   "metadata": {},
   "source": [
    "# 2.2 OpenAI等SDK调用"
   ]
  },
  {
   "cell_type": "markdown",
   "id": "ef03dbe6-b171-44b1-9ffa-515cc2a83654",
   "metadata": {},
   "source": [
    "### 一、OpenAI Chat SDK 核心特性\n",
    "OpenAI 提供了多种语言的官方及社区维护的 SDK，支持快速集成 ChatGPT 功能到应用程序中，核心特性包括：\n",
    "1. **多语言支持**：覆盖 Python、Java、.NET 等主流开发语言  \n",
    "2. **功能完备性**：支持聊天补全、函数调用、流式响应等核心 API 功能  \n",
    "3. **开发友好性**：提供同步/异步接口、预构建请求对象、自动错误重试等机制\n",
    "\n",
    "OpenAI 标准 Python SDK 的核心功能与参数设置,兼容主流大模型调用场景（如 ChatGPT、GPT-4 等），且参数逻辑可扩展至其他兼容 OpenAI API 的国产大模型：\n",
    "\n",
    "---\n",
    "\n",
    "### 一、SDK 核心功能与兼容性设计\n",
    "1. **统一接口规范**  \n",
    "   OpenAI SDK 通过标准化的 `ChatCompletion.create()` 方法提供模型调用，兼容所有遵循 OpenAI 接口规范的服务（如百度文心、智谱清言等国产大模型）。  \n",
    "   ```python\n",
    "   from openai import OpenAI\n",
    "   client = OpenAI(api_key=\"YOUR_KEY\", base_url=\"https://国产模型API地址\")  # 兼容性关键参数\n",
    "   ```\n",
    "\n",
    "2. **跨模型参数映射**  \n",
    "   核心参数（如 `temperature`、`max_tokens`）在不同模型中语义一致，仅需调整数值范围即可适配不同模型特性。\n",
    "\n",
    "---\n",
    "\n",
    "### 二、关键参数设置指南\n",
    "| 参数             | 作用                                                                 | 推荐值域       | 应用场景                     |\n",
    "|------------------|----------------------------------------------------------------------|----------------|------------------------------|\n",
    "| **model**        | 指定模型版本（如 `gpt-3.5-turbo`）                                   | 模型支持列表 | 控制模型能力与成本           |\n",
    "| **temperature**  | 输出随机性：低值更确定，高值更创意                                   | 0.2-1.0        | 事实问答（0.2）、创作（0.8） |\n",
    "| **max_tokens**   | 生成文本最大长度（含输入+输出）                                      | 50-4096        | 控制响应篇幅与 API 成本      |\n",
    "| **top_p**        | 核采样阈值：仅从累计概率达标的候选词中采样                           | 0.7-0.95       | 平衡多样性与相关性           |\n",
    "| **stream**       | 启用流式响应（逐字输出）                                             | True/False     | 提升交互体验                 |\n",
    "| **presence_penalty** | 抑制重复内容（正值抑制，负值允许）                               | -2.0-2.0       | 避免冗余回答                 |\n",
    "\n",
    "#### 示例：多模型兼容调用\n",
    "```python\n",
    "# 调用 GPT-3.5（官方模型）\n",
    "response = client.chat.completions.create(\n",
    "    model=\"gpt-3.5-turbo\",\n",
    "    messages=[{\"role\": \"user\", \"content\": \"解释量子纠缠\"}],\n",
    "    temperature=0.5,\n",
    "    max_tokens=500\n",
    ")\n",
    "\n",
    "# 调用通义千问（国产模型）\n",
    "response = client.chat.completions.create(\n",
    "    model=\"qwen-max\", \n",
    "    messages=[{\"role\": \"user\", \"content\": \"写一首七言绝句\"}],\n",
    "    temperature=0.7,\n",
    "    top_p=0.9\n",
    ")\n",
    "```\n",
    "\n",
    "---\n",
    "\n",
    "### 三、最佳实践与注意事项\n",
    "1. **参数调优策略**  \n",
    "   • 组合使用 `temperature`+`top_p` 实现精确控制（如 `temperature=0.8` + `top_p=0.9` 平衡创意与逻辑）\n",
    "   • 通过 `max_tokens` 限制输出长度，避免超出模型上下文限制（如 GPT-3.5 的 4096 tokens）\n",
    "\n",
    "2. **异常处理机制**  \n",
    "   ```python\n",
    "   try:\n",
    "       response = client.chat.completions.create(...)\n",
    "   except openai.APIError as e:\n",
    "       print(f\"API 错误: {e}\")\n",
    "   except openai.RateLimitError:\n",
    "       print(\"请求频率超限，请稍后重试\")\n",
    "   ```\n"
   ]
  },
  {
   "cell_type": "markdown",
   "id": "f8d41faa-1c9b-4897-908a-ed1b076c8966",
   "metadata": {},
   "source": [
    "这里我们以火山方舟的sdk申请为例，其他的都类似：\n",
    "https://console.volcengine.com/ark/\n",
    "\n",
    "<img src=\"img/huoshan.png\" width=\"600px\" />"
   ]
  },
  {
   "cell_type": "code",
   "execution_count": 1,
   "id": "4de4a218-fea3-46ce-9a29-83590140903d",
   "metadata": {},
   "outputs": [
    {
     "name": "stdout",
     "output_type": "stream",
     "text": [
      "Collecting openai>=1.0\n",
      "  Downloading openai-1.65.4-py3-none-any.whl.metadata (27 kB)\n",
      "Requirement already satisfied: anyio<5,>=3.5.0 in c:\\users\\wangl\\miniconda3\\envs\\airsim_agent\\lib\\site-packages (from openai>=1.0) (4.8.0)\n",
      "Collecting distro<2,>=1.7.0 (from openai>=1.0)\n",
      "  Downloading distro-1.9.0-py3-none-any.whl.metadata (6.8 kB)\n",
      "Requirement already satisfied: httpx<1,>=0.23.0 in c:\\users\\wangl\\miniconda3\\envs\\airsim_agent\\lib\\site-packages (from openai>=1.0) (0.28.1)\n",
      "Collecting jiter<1,>=0.4.0 (from openai>=1.0)\n",
      "  Downloading jiter-0.8.2-cp310-cp310-win_amd64.whl.metadata (5.3 kB)\n",
      "Collecting pydantic<3,>=1.9.0 (from openai>=1.0)\n",
      "  Downloading pydantic-2.10.6-py3-none-any.whl.metadata (30 kB)\n",
      "Requirement already satisfied: sniffio in c:\\users\\wangl\\miniconda3\\envs\\airsim_agent\\lib\\site-packages (from openai>=1.0) (1.3.1)\n",
      "Collecting tqdm>4 (from openai>=1.0)\n",
      "  Downloading tqdm-4.67.1-py3-none-any.whl.metadata (57 kB)\n",
      "Requirement already satisfied: typing-extensions<5,>=4.11 in c:\\users\\wangl\\miniconda3\\envs\\airsim_agent\\lib\\site-packages (from openai>=1.0) (4.12.2)\n",
      "Requirement already satisfied: exceptiongroup>=1.0.2 in c:\\users\\wangl\\miniconda3\\envs\\airsim_agent\\lib\\site-packages (from anyio<5,>=3.5.0->openai>=1.0) (1.2.2)\n",
      "Requirement already satisfied: idna>=2.8 in c:\\users\\wangl\\miniconda3\\envs\\airsim_agent\\lib\\site-packages (from anyio<5,>=3.5.0->openai>=1.0) (3.10)\n",
      "Requirement already satisfied: certifi in c:\\users\\wangl\\miniconda3\\envs\\airsim_agent\\lib\\site-packages (from httpx<1,>=0.23.0->openai>=1.0) (2025.1.31)\n",
      "Requirement already satisfied: httpcore==1.* in c:\\users\\wangl\\miniconda3\\envs\\airsim_agent\\lib\\site-packages (from httpx<1,>=0.23.0->openai>=1.0) (1.0.7)\n",
      "Requirement already satisfied: h11<0.15,>=0.13 in c:\\users\\wangl\\miniconda3\\envs\\airsim_agent\\lib\\site-packages (from httpcore==1.*->httpx<1,>=0.23.0->openai>=1.0) (0.14.0)\n",
      "Collecting annotated-types>=0.6.0 (from pydantic<3,>=1.9.0->openai>=1.0)\n",
      "  Downloading annotated_types-0.7.0-py3-none-any.whl.metadata (15 kB)\n",
      "Collecting pydantic-core==2.27.2 (from pydantic<3,>=1.9.0->openai>=1.0)\n",
      "  Downloading pydantic_core-2.27.2-cp310-cp310-win_amd64.whl.metadata (6.7 kB)\n",
      "Requirement already satisfied: colorama in c:\\users\\wangl\\miniconda3\\envs\\airsim_agent\\lib\\site-packages (from tqdm>4->openai>=1.0) (0.4.6)\n",
      "Downloading openai-1.65.4-py3-none-any.whl (473 kB)\n",
      "Downloading distro-1.9.0-py3-none-any.whl (20 kB)\n",
      "Downloading jiter-0.8.2-cp310-cp310-win_amd64.whl (204 kB)\n",
      "Downloading pydantic-2.10.6-py3-none-any.whl (431 kB)\n",
      "Downloading pydantic_core-2.27.2-cp310-cp310-win_amd64.whl (2.0 MB)\n",
      "   ---------------------------------------- 0.0/2.0 MB ? eta -:--:--\n",
      "   ---------------------------------------- 2.0/2.0 MB 13.8 MB/s eta 0:00:00\n",
      "Downloading tqdm-4.67.1-py3-none-any.whl (78 kB)\n",
      "Downloading annotated_types-0.7.0-py3-none-any.whl (13 kB)\n",
      "Installing collected packages: tqdm, pydantic-core, jiter, distro, annotated-types, pydantic, openai\n",
      "Successfully installed annotated-types-0.7.0 distro-1.9.0 jiter-0.8.2 openai-1.65.4 pydantic-2.10.6 pydantic-core-2.27.2 tqdm-4.67.1\n"
     ]
    }
   ],
   "source": [
    "!pip install --upgrade \"openai>=1.0\""
   ]
  },
  {
   "cell_type": "code",
   "execution_count": 35,
   "id": "e12551b5-16ff-44de-9b20-843ab5634a10",
   "metadata": {},
   "outputs": [],
   "source": [
    "ARK_API_KEY=\"\""
   ]
  },
  {
   "cell_type": "code",
   "execution_count": 36,
   "id": "8ee8ef79-bd88-4760-8449-54d64f8b7724",
   "metadata": {},
   "outputs": [],
   "source": [
    "import os\n",
    "from openai import OpenAI\n",
    "\n",
    "# 请确保您已将 API Key 存储在环境变量 ARK_API_KEY 中\n",
    "# 初始化Openai客户端\n",
    "client = OpenAI(\n",
    "    # 此为默认路径，您可根据业务所在地域进行配置\n",
    "    base_url=\"https://ark.cn-beijing.volces.com/api/v3\",\n",
    "    api_key=ARK_API_KEY,\n",
    ")"
   ]
  },
  {
   "cell_type": "code",
   "execution_count": 37,
   "id": "fa478844-b7d1-458a-b734-d0583f1fb9fc",
   "metadata": {},
   "outputs": [
    {
     "name": "stdout",
     "output_type": "stream",
     "text": [
      "常见的无人机模拟仿真系统可以分为商业软件、开源软件和企业自研系统，以下是详细介绍：\n",
      "\n",
      "### 商业软件\n",
      "- **FlightGear**\n",
      "    - **简介**：一款开源的飞行模拟软件，但也具备强大的商业应用潜力。它提供了高度逼真的飞行物理模型和丰富的地形、气象条件模拟。\n",
      "    - **应用场景**：可用于各种类型无人机的飞行模拟，包括固定翼、旋翼无人机等。在无人机研发过程中，可用于验证飞行控制算法、测试飞行性能等。\n",
      "- **X-Plane**\n",
      "    - **简介**：以其精确的飞行模拟引擎而闻名，能够模拟各种复杂的飞行场景和物理现象。它拥有大量的飞行器模型和全球地形数据。\n",
      "    - **应用场景**：在无人机领域，可用于飞行员培训、无人机系统设计和性能评估。通过模拟不同的气象条件和飞行任务，帮助用户更好地了解无人机的飞行特性。\n",
      "- **AirSim**\n",
      "    - **简介**：由微软开发的开源跨平台无人机仿真器，它基于虚幻引擎（Unreal Engine）和Unity引擎构建，提供了逼真的视觉效果和物理模拟。\n",
      "    - **应用场景**：支持多种编程语言，如Python、C++等，方便开发人员进行算法开发和测试。可用于无人机的计算机视觉、机器学习算法研究，以及自主飞行系统的开发。\n",
      "\n",
      "### 开源软件\n",
      "- **Gazebo**\n",
      "    - **简介**：一款广泛使用的开源机器人仿真平台，也可用于无人机的模拟仿真。它提供了丰富的物理引擎和传感器模型，能够模拟各种复杂的环境和场景。\n",
      "    - **应用场景**：与ROS（机器人操作系统）紧密集成，方便开发人员进行无人机的控制算法开发、传感器融合测试等。在科研领域，常用于无人机的自主导航、编队飞行等研究。\n",
      "- **JSBSim**\n",
      "    - **简介**：一个开源的飞行动力学模型库，可用于创建各种飞行器的仿真模型。它具有高度的可扩展性和灵活性，支持多种输入输出接口。\n",
      "    - **应用场景**：可用于无人机的飞行性能分析、飞行控制律设计等。开发人员可以根据需要自定义飞行器的参数和模型，进行个性化的仿真实验。\n",
      "\n",
      "### 企业自研系统\n",
      "- **大疆模拟飞行系统**\n",
      "    - **简介**：由大疆公司为自家无人机产品量身打造的模拟仿真系统。该系统高度还原了大疆各系列无人机的操作手感和飞行性能。\n",
      "    - **应用场景**：主要用于大疆无人机用户的飞行培训，让新手用户在不实际操控无人机的情况下，熟悉遥控器的操作和无人机的飞行特性，降低新手在实际飞行中因操作不当而导致的风险。\n",
      "- **极飞农业无人机模拟系统**\n",
      "    - **简介**：极飞科技针对其农业无人机开发的模拟系统，重点模拟了农业无人机在农田作业时的各种场景。\n",
      "    - **应用场景**：帮助农业飞手快速掌握农业无人机的操作技巧，熟悉农药喷洒、播撒等作业流程。通过模拟不同的农田地形、作物类型和作业要求，让飞手能够在虚拟环境中进行反复练习，提高作业效率和质量。 \n"
     ]
    }
   ],
   "source": [
    "# Non-streaming:\n",
    "completion = client.chat.completions.create(\n",
    "    model=\"doubao-1-5-pro-32k-250115\",\n",
    "    messages=[\n",
    "        {\"role\": \"user\", \"content\": \"常见的无人机模拟仿真系统都有哪些？\"},\n",
    "    ],\n",
    "    temperature=0.1,\n",
    ")\n",
    "print(completion.choices[0].message.content)"
   ]
  },
  {
   "cell_type": "markdown",
   "id": "2cbc5727-9dc6-4d7d-ac0a-d11d50f84725",
   "metadata": {},
   "source": [
    "## role的使用\n",
    "\n",
    "\n",
    "\n",
    "是OpenAI SDK中消息角色（Role）的对比表格如下，展示了不同角色的核心功能、典型用途及示例：\n",
    "\n",
    "| 角色 (Role) | 核心功能                                     | 典型用途                                                                 | 示例                                                                                  | 引用  |\n",
    "|-------------|---------------------------------------------|-------------------------------------------------------------------------|---------------------------------------------------------------------------------------|-------|\n",
    "| **`system`** | 设定AI的行为模式、响应规则及操作限制         | - 定义AI身份（如命令行专家）<br>- 控制输出格式（JSON/自然语言）<br>- 设置安全权限 | `{\"role\": \"system\", \"content\": \"你需以用户视角判断应执行的命令，当前系统是linux\"}`       |   |\n",
    "| **`user`**   | 传递用户的实际请求或对话输入                 | - 单轮直接提问（如“查看文件”）<br>- 多轮追问（如“具体步骤是什么？”）              | `{\"role\": \"user\", \"content\": \"帮我看下当前目录下有没有main.go文件?\"}`                   |   |\n",
    "| **`assistant`** | 存储AI的历史回复内容，用于上下文连贯性维护 | - 多轮对话中提供连贯回答<br>- 开发者可修改历史回复以修正错误                        | `{\"role\": \"assistant\", \"content\": \"执行命令：`ls main.go`\"}`                          |   |\n",
    "\n",
    "---\n",
    "\n",
    "### 补充说明：\n",
    "1. **角色交互规则**  \n",
    "   • **消息顺序**：最后一条必须为`user`角色以触发响应，且每次请求需包含完整上下文。\n",
    "   • **动态调整**：通过插入新的`system`消息可切换AI身份（如从翻译助手变为数据分析师）。\n",
    "\n",
    "2. **性能优化**  \n",
    "   • `system`内容建议简洁（200 tokens内），避免冗余影响模型处理效率。\n",
    "\n",
    "3. **扩展应用**  \n",
    "   • 结合`function calling`功能，可通过`system`设定函数调用规则，`user`触发请求，`assistant`返回结构化参数以执行外部操作（如调用API）。\n"
   ]
  },
  {
   "cell_type": "code",
   "execution_count": 38,
   "id": "90b8c95a-75c5-4ae4-8981-2387c3c2532f",
   "metadata": {},
   "outputs": [
    {
     "name": "stdout",
     "output_type": "stream",
     "text": [
      "cat /etc/os-release\n"
     ]
    }
   ],
   "source": [
    "#系统角色\n",
    "completion = client.chat.completions.create(\n",
    "    model=\"doubao-1-5-pro-32k-250115\",\n",
    "    messages=[\n",
    "        {\"role\": \"system\", \"content\": \"你需以用户视角判断应执行的命令，仅返回最优选项，当前系统是linux\"},\n",
    "        {\"role\": \"user\", \"content\": \"如何查看操作系统类型\"},\n",
    "    ]\n",
    ")\n",
    "print(completion.choices[0].message.content)"
   ]
  },
  {
   "cell_type": "markdown",
   "id": "602dcbb0-b554-4416-adfa-7804e31a6f8a",
   "metadata": {},
   "source": [
    "## 多轮对话\n",
    "\n",
    "以下是单轮对话与多轮对话的核心区别及特点总结：\n",
    "\n",
    "---\n",
    "\n",
    "### **单轮对话**  \n",
    "**定义**：用户与AI仅进行一次交互，AI仅基于当前输入生成响应，不保留历史对话信息。  \n",
    "**特点**：  \n",
    "1. **无上下文依赖**：每次请求独立处理，适合简单问答或一次性任务（如生成文章、翻译短句）。  \n",
    "2. **实现简单**：无需管理对话历史，API调用仅需包含`system`指令和`user`输入。  \n",
    "3. **资源消耗低**：适用于短文本（<500 tokens），响应速度快。  \n",
    "\n",
    "**示例场景**：  \n",
    "• 生成文章大纲：用户输入主题，AI直接输出完整结构。  \n",
    "• 翻译单句：用户提供待翻译文本，AI返回目标语言结果。  \n",
    "**代码示例**（OpenAI）：  \n",
    "```python\n",
    "messages = [\n",
    "    {\"role\": \"system\", \"content\": \"你是一个翻译助手\"},\n",
    "    {\"role\": \"user\", \"content\": \"将'Hello'翻译为中文\"}\n",
    "]\n",
    "```\n",
    "\n",
    "---\n",
    "\n",
    "### **多轮对话**  \n",
    "**定义**：用户与AI进行多次交互，AI需维护上下文以实现连贯对话。  \n",
    "**特点**：  \n",
    "1. **上下文管理**：通过`messages`数组传递历史对话（包含`user`和`assistant`角色），使AI理解当前对话状态。  \n",
    "2. **动态调整能力**：可插入新的`system`指令或修改历史消息，灵活控制AI行为。  \n",
    "3. **复杂场景支持**：适用于需多步骤交互的任务（如客服问答、代码调试）。  \n",
    "\n",
    "**实现挑战**：  \n",
    "• **Token限制**：模型对输入长度有上限（如DeepSeek支持128K tokens），需通过截断历史或生成摘要优化。  \n",
    "• **性能优化**：流式调用（逐块返回）可提升长文本交互体验，但需处理数据拼接逻辑。  \n",
    "\n",
    "**示例场景**：  \n",
    "• 客服系统：用户多次追问订单状态，AI基于历史记录逐步解答。  \n",
    "• 编程助手：用户逐步描述需求，AI生成并修正代码片段。  \n",
    "\n",
    "**代码示例**（上下文截断策略）：  \n",
    "```python\n",
    "# 仅保留最近5组对话以控制Token数\n",
    "messages = chat_history[-10:]  \n",
    "```\n",
    "\n",
    "---\n",
    "\n",
    "### **技术对比**  \n",
    "| **维度**       | 单轮对话                     | 多轮对话                      |  \n",
    "|----------------|-----------------------------|-----------------------------|  \n",
    "| **上下文依赖** | 无                          | 强依赖历史对话               |  \n",
    "| **适用场景**   | 简单任务（翻译、摘要）       | 复杂交互（客服、多步骤推理） |  \n",
    "| **实现复杂度** | 低                          | 高（需管理上下文、Token限制）|  \n",
    "| **API调用模式**| 同步调用（直接返回完整响应） | 支持流式调用（逐块返回） |  \n",
    "\n",
    "---\n",
    "\n",
    "### **选择建议**  \n",
    "• **优先单轮对话**：任务简单、无需历史参考时（如生成随机菜谱）。  \n",
    "• **选择多轮对话**：需连贯交互、动态调整AI行为时（如教学辅导、技术排查）。  \n",
    "• **结合实时API**：使用OpenAI实时API可自动缓存上下文，降低管理复杂度。  \n",
    "\n"
   ]
  },
  {
   "cell_type": "code",
   "execution_count": 39,
   "id": "b9165c73-a382-4ca4-a5c3-7a2d3d360ba9",
   "metadata": {},
   "outputs": [
    {
     "data": {
      "text/plain": [
       "[{'role': 'user', 'content': '世界上最高的山是什么？'}]"
      ]
     },
     "execution_count": 39,
     "metadata": {},
     "output_type": "execute_result"
    }
   ],
   "source": [
    "chat_history = []  # 用于保存完整的对话记录\n",
    "\n",
    "# 第一轮对话\n",
    "user_input_1 = \"世界上最高的山是什么？\"\n",
    "chat_history.append({\"role\": \"user\", \"content\": user_input_1})\n",
    "\n",
    "response_1 = client.chat.completions.create(\n",
    "    model=\"doubao-1-5-pro-32k-250115\",\n",
    "    messages=chat_history\n",
    ")\n",
    "chat_history"
   ]
  },
  {
   "cell_type": "code",
   "execution_count": 40,
   "id": "855b6c46-f435-492e-b19a-81339283894a",
   "metadata": {},
   "outputs": [
    {
     "data": {
      "text/plain": [
       "[{'role': 'user', 'content': '世界上最高的山是什么？'},\n",
       " {'role': 'assistant',\n",
       "  'content': '世界上最高的山是珠穆朗玛峰，以下为你展开介绍：\\n### 高度数据\\n它的岩面高程为8844.43米，雪面高程为8848.86米。这一高度让它雄踞地球之巅，是当之无愧的世界最高峰。\\n### 地理位置\\n位于中国与尼泊尔边界上，它的北坡在中国西藏定日县，南坡在尼泊尔境内。\\n### 地质成因\\n它的形成是印度板块与欧亚板块碰撞挤压的结果。两大板块的猛烈碰撞，使得地壳不断隆升，经过漫长的地质年代，最终造就了这座雄伟的山峰，而且由于板块运动仍在继续，珠峰的高度也在缓慢变化。\\n### 攀登情况\\n因其是世界最高峰，吸引了众多登山爱好者前往挑战。1953年5月29日，新西兰登山家埃德蒙·希拉里和尼泊尔向导丹增·诺尔盖首次成功登顶。此后，越来越多的人尝试征服珠峰，但攀登珠峰是一项极具挑战性和危险性的任务，需要攀登者具备丰富的经验、良好的身体素质和专业的装备。 '}]"
      ]
     },
     "execution_count": 40,
     "metadata": {},
     "output_type": "execute_result"
    }
   ],
   "source": [
    "#assistant回复加入记录\n",
    "ai_response_1 = response_1.choices[0].message.content\n",
    "chat_history.append({\"role\": \"assistant\", \"content\": ai_response_1})  # 保存AI回复\n",
    "\n",
    "chat_history"
   ]
  },
  {
   "cell_type": "code",
   "execution_count": 41,
   "id": "bd7389c0-cf08-4bc1-be85-24016766d99a",
   "metadata": {},
   "outputs": [
    {
     "data": {
      "text/plain": [
       "[{'role': 'user', 'content': '世界上最高的山是什么？'},\n",
       " {'role': 'assistant',\n",
       "  'content': '世界上最高的山是珠穆朗玛峰，以下为你展开介绍：\\n### 高度数据\\n它的岩面高程为8844.43米，雪面高程为8848.86米。这一高度让它雄踞地球之巅，是当之无愧的世界最高峰。\\n### 地理位置\\n位于中国与尼泊尔边界上，它的北坡在中国西藏定日县，南坡在尼泊尔境内。\\n### 地质成因\\n它的形成是印度板块与欧亚板块碰撞挤压的结果。两大板块的猛烈碰撞，使得地壳不断隆升，经过漫长的地质年代，最终造就了这座雄伟的山峰，而且由于板块运动仍在继续，珠峰的高度也在缓慢变化。\\n### 攀登情况\\n因其是世界最高峰，吸引了众多登山爱好者前往挑战。1953年5月29日，新西兰登山家埃德蒙·希拉里和尼泊尔向导丹增·诺尔盖首次成功登顶。此后，越来越多的人尝试征服珠峰，但攀登珠峰是一项极具挑战性和危险性的任务，需要攀登者具备丰富的经验、良好的身体素质和专业的装备。 '},\n",
       " {'role': 'user', 'content': '第二高的呢？'},\n",
       " {'role': 'assistant',\n",
       "  'content': '世界第二高的山是乔戈里峰，以下为你详细介绍：\\n### 基本高度信息\\n乔戈里峰的海拔高度是8611米，以绝对的高度差仅次于珠穆朗玛峰，其高度在世界十四座海拔超过8000米的高峰中位列第二。\\n### 地理位置\\n它坐落在喀喇昆仑山脉的中段，具体位于中国新疆维吾尔自治区塔什库尔干塔吉克自治县与巴基斯坦吉尔吉特-巴尔蒂斯坦交界处，其中中国方面拥有其北坡部分。\\n### 攀登难度\\n乔戈里峰攀登难度极高，被公认为是世界上最难攀登的山峰之一，有着“野蛮巨峰”的称号。其攀登死亡率非常高，远高于珠穆朗玛峰等其他高峰，对攀登者的技术、体能、心理素质以及天气条件等都有着极为苛刻的要求。 \\n### 首次登顶时间\\n1954年7月31日，意大利登山队的里诺·雷斯德里和阿奇里·科帕哥诺尼两人首次成功登顶乔戈里峰。 '}]"
      ]
     },
     "execution_count": 41,
     "metadata": {},
     "output_type": "execute_result"
    }
   ],
   "source": [
    "# 第二轮对话（依赖上下文）\n",
    "user_input_2 = \"第二高的呢？\"\n",
    "chat_history.append({\"role\": \"user\", \"content\": user_input_2})\n",
    "\n",
    "response_2 = client.chat.completions.create(\n",
    "    model=\"doubao-1-5-pro-32k-250115\",\n",
    "    messages=chat_history[-10:]  # 截断策略：仅保留最近10条消息控制Token消耗\n",
    ")\n",
    "\n",
    "ai_response_2 = response_2.choices[0].message.content\n",
    "\n",
    "#assistant回复加入记录\n",
    "chat_history.append({\"role\": \"assistant\", \"content\": ai_response_2})\n",
    "\n",
    "chat_history"
   ]
  },
  {
   "cell_type": "code",
   "execution_count": 42,
   "id": "17d814c1-154a-474b-b29d-9dbbe6d0a6f2",
   "metadata": {},
   "outputs": [
    {
     "name": "stdout",
     "output_type": "stream",
     "text": [
      "User: 世界上最高的山是什么？\n",
      "Assistant: 世界上最高的山是珠穆朗玛峰，以下为你展开介绍：\n",
      "### 高度数据\n",
      "它的岩面高程为8844.43米，雪面高程为8848.86米。这一高度让它雄踞地球之巅，是当之无愧的世界最高峰。\n",
      "### 地理位置\n",
      "位于中国与尼泊尔边界上，它的北坡在中国西藏定日县，南坡在尼泊尔境内。\n",
      "### 地质成因\n",
      "它的形成是印度板块与欧亚板块碰撞挤压的结果。两大板块的猛烈碰撞，使得地壳不断隆升，经过漫长的地质年代，最终造就了这座雄伟的山峰，而且由于板块运动仍在继续，珠峰的高度也在缓慢变化。\n",
      "### 攀登情况\n",
      "因其是世界最高峰，吸引了众多登山爱好者前往挑战。1953年5月29日，新西兰登山家埃德蒙·希拉里和尼泊尔向导丹增·诺尔盖首次成功登顶。此后，越来越多的人尝试征服珠峰，但攀登珠峰是一项极具挑战性和危险性的任务，需要攀登者具备丰富的经验、良好的身体素质和专业的装备。 \n",
      "User: 第二高的呢？\n",
      "Assistant: 世界第二高的山是乔戈里峰，以下为你详细介绍：\n",
      "### 基本高度信息\n",
      "乔戈里峰的海拔高度是8611米，以绝对的高度差仅次于珠穆朗玛峰，其高度在世界十四座海拔超过8000米的高峰中位列第二。\n",
      "### 地理位置\n",
      "它坐落在喀喇昆仑山脉的中段，具体位于中国新疆维吾尔自治区塔什库尔干塔吉克自治县与巴基斯坦吉尔吉特-巴尔蒂斯坦交界处，其中中国方面拥有其北坡部分。\n",
      "### 攀登难度\n",
      "乔戈里峰攀登难度极高，被公认为是世界上最难攀登的山峰之一，有着“野蛮巨峰”的称号。其攀登死亡率非常高，远高于珠穆朗玛峰等其他高峰，对攀登者的技术、体能、心理素质以及天气条件等都有着极为苛刻的要求。 \n",
      "### 首次登顶时间\n",
      "1954年7月31日，意大利登山队的里诺·雷斯德里和阿奇里·科帕哥诺尼两人首次成功登顶乔戈里峰。 \n"
     ]
    }
   ],
   "source": [
    "# 打印完整对话记录\n",
    "for msg in chat_history:\n",
    "    print(f\"{msg['role'].capitalize()}: {msg['content']}\")"
   ]
  },
  {
   "cell_type": "markdown",
   "id": "956b8408-45b5-43c9-95f7-de6f7e1144a3",
   "metadata": {},
   "source": [
    "## 火山云邀请码\n",
    "\n",
    "HGE53IOF\n",
    "\n",
    "DeepSeek满血版免费领啦！邀请好友注册和使用，最高双方可获得145元代金券，免费抵扣3625万tokens，畅享R1与V3模型！参与入口：https://volcengine.com/L/y4kwAjebnK4/  邀请码：HGE53IOF\n",
    "\n",
    "<img src='img/huoshan2.png' width='640px' />"
   ]
  },
  {
   "cell_type": "code",
   "execution_count": null,
   "id": "c84d437e-5cc4-4a63-b452-db690eea8d4d",
   "metadata": {},
   "outputs": [],
   "source": []
  }
 ],
 "metadata": {
  "kernelspec": {
   "display_name": "Python 3 (ipykernel)",
   "language": "python",
   "name": "python3"
  },
  "language_info": {
   "codemirror_mode": {
    "name": "ipython",
    "version": 3
   },
   "file_extension": ".py",
   "mimetype": "text/x-python",
   "name": "python",
   "nbconvert_exporter": "python",
   "pygments_lexer": "ipython3",
   "version": "3.10.16"
  }
 },
 "nbformat": 4,
 "nbformat_minor": 5
}
