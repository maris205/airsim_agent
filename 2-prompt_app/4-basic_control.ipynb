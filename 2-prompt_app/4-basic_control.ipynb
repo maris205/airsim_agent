{
 "cells": [
  {
   "cell_type": "markdown",
   "id": "52a68514-d295-49e3-ab03-d01f357bf23b",
   "metadata": {},
   "source": [
    "# 2.4 基本飞行控制-飞到汽车上"
   ]
  },
  {
   "cell_type": "markdown",
   "id": "babe5dcf-fbe8-4a97-9c61-59b0767516c1",
   "metadata": {},
   "source": [
    "## 大模型函数封装\n",
    "我们把上一节的大模型调用函数封装成适用于无人机控制的形式，arism_agent.py\n",
    "\n",
    "主要使用1个函数即可："
   ]
  },
  {
   "cell_type": "code",
   "execution_count": null,
   "id": "776b1d5b-7416-46c7-8462-388979e2f494",
   "metadata": {
    "jupyter": {
     "is_executing": true
    }
   },
   "outputs": [],
   "source": [
    "def process(self, command,run_python_code=True):\n",
    "    #step 1, 询问语言模型\n",
    "    response = self.ask(command)\n",
    "\n",
    "    #step 2, 提取Python代码\n",
    "    python_code = self.extract_python_code(response)\n",
    "\n",
    "    #step 3, 执行Python代码\n",
    "    if run_python_code and python_code:\n",
    "        exec(python_code)\n",
    "    return python_code"
   ]
  },
  {
   "cell_type": "markdown",
   "id": "4758d689-e194-4aa0-911a-7b7cd510a587",
   "metadata": {},
   "source": [
    "调用方式："
   ]
  },
  {
   "cell_type": "code",
   "execution_count": 2,
   "id": "d4c997f2-9146-4984-a9b5-c77b20ef9a62",
   "metadata": {
    "ExecuteTime": {
     "start_time": "2025-03-18T13:53:58.653814Z"
    },
    "jupyter": {
     "is_executing": true
    }
   },
   "outputs": [
    {
     "name": "stdout",
     "output_type": "stream",
     "text": [
      "python_code: aw.takeoff()\n",
      "\n"
     ]
    }
   ],
   "source": [
    "import airsim_agent\n",
    "my_agent = airsim_agent.AirSimAgent()\n",
    "command = \"起飞\"\n",
    "python_code = my_agent.process(command) #默认不执行代码\n",
    "print(\"python_code:\", python_code)"
   ]
  },
  {
   "cell_type": "code",
   "execution_count": null,
   "id": "204a2105-4244-4e6d-bdda-1174dc58dd9a",
   "metadata": {},
   "outputs": [],
   "source": [
    "# agent初始化函数：\n",
    "# def __init__(self, system_prompts=\"system_prompts/airsim_basic_cn.txt\", knowledge_prompt=\"prompts/airsim_basic_cn.txt\", chat_history=[]):\n",
    "    "
   ]
  },
  {
   "cell_type": "code",
   "execution_count": 3,
   "id": "dcaa1c2d-c4d2-4051-8f74-3f562c28fafa",
   "metadata": {
    "ExecuteTime": {
     "end_time": "2025-03-15T08:40:36.690570Z",
     "start_time": "2025-03-15T08:40:36.669045Z"
    }
   },
   "outputs": [],
   "source": [
    "#知识库写入aisim_lession23.txt\n",
    "kg_promot_file = \"prompts/aisim_lession23.txt\"\n",
    "\n",
    "kg_prompt = \"\"\"\n",
    "以下是您可以用来命令无人机的一些功能。\n",
    "\n",
    "aw.takeoff() - 起飞无人机。\n",
    "aw.land() - 无人机着陆。\n",
    "\n",
    "回复均按照如下例子的格式： \n",
    "```python\n",
    "i=1#这里输出python代码\n",
    "```\n",
    "此代码功能为赋值\n",
    "\n",
    "你无需考虑aw的import问题，在环境中已经声明\n",
    "\"\"\"\n",
    "\n",
    "pt_file = open(kg_promot_file, \"w\", encoding=\"utf-8\")\n",
    "pt_file.write(kg_prompt)\n",
    "pt_file.close()"
   ]
  },
  {
   "cell_type": "code",
   "execution_count": 4,
   "id": "11c3b77c-6005-496e-8f2f-7c8725f73434",
   "metadata": {
    "ExecuteTime": {
     "end_time": "2025-03-15T08:40:53.570964Z",
     "start_time": "2025-03-15T08:40:47.199533Z"
    }
   },
   "outputs": [
    {
     "name": "stdout",
     "output_type": "stream",
     "text": [
      "python_code: aw.takeoff()#起飞无人机\n",
      "\n"
     ]
    }
   ],
   "source": [
    "import airsim_agent\n",
    "my_agent = airsim_agent.AirSimAgent(knowledge_prompt=\"prompts/aisim_lession23.txt\")\n",
    "command = \"起飞\"\n",
    "python_code = my_agent.process(command, True) #执行代码\n",
    "print(\"python_code:\", python_code)"
   ]
  },
  {
   "cell_type": "markdown",
   "id": "75dc74d4-ff30-4fc3-a15b-b992d071f974",
   "metadata": {},
   "source": [
    "## 飞到汽车上\n",
    "\n",
    "因为目前无人机还没有视觉，因此，我们直接给定目标位置的坐标即可\n",
    "\n",
    "通过如下函数获得：\n",
    "client.simGetObjectPose(object_name)\n",
    "\n",
    "因为这个目标名称是UE里面的命名，一般和物体实际的名称并不一致，我们做一个字典转换即可：\n",
    "\n",
    "``` python\n",
    "objects_dict = {\n",
    "    \"turbine1\": \"BP_Wind_Turbines_C_1\",\n",
    "    \"turbine2\": \"StaticMeshActor_2\",\n",
    "    \"solarpanels\": \"StaticMeshActor_146\",\n",
    "    \"crowd\": \"StaticMeshActor_6\",\n",
    "    \"car\": \"StaticMeshActor_10\",\n",
    "    \"tower1\": \"SM_Electric_trellis_179\",\n",
    "    \"tower2\": \"SM_Electric_trellis_7\",\n",
    "    \"tower3\": \"SM_Electric_trellis_8\",\n",
    "}\n",
    "\n",
    "```\n",
    "\n",
    "进一步的，我们一般代码中不使用中文作为变量名称，我们就需要再提示词中再给出中文目标名称和英文目标名称的对应即可\n"
   ]
  },
  {
   "cell_type": "code",
   "execution_count": 5,
   "id": "240b4778-775a-494c-8190-41a7811429ad",
   "metadata": {
    "ExecuteTime": {
     "end_time": "2025-03-15T08:41:05.537131Z",
     "start_time": "2025-03-15T08:41:05.525028Z"
    }
   },
   "outputs": [],
   "source": [
    "#构建新的提示词，知识库写入aisim_lession24.txt\n",
    "kg_promot_file = \"prompts/aisim_lession24.txt\"\n",
    "\n",
    "kg_prompt = \"\"\"\n",
    "以下是您可以用来命令无人机的一些功能。\n",
    "\n",
    "aw.takeoff() - 起飞无人机。\n",
    "aw.land() - 无人机着陆。\n",
    "aw.get_drone_position() - 以与 X、Y、Z 坐标相对应的 3 个浮点数的列表形式返回无人机的当前位置。\n",
    "aw.fly_to([x, y, z]) - 将无人机飞到指定的位置，该位置由对应于 X、Y、Z 坐标的三个参数列表指定。\n",
    "aw.get_position(object_name)：采用字符串作为输入，指示感兴趣对象的名称，并返回 3 个浮点数的列表，指示其 X、Y、Z 坐标。\n",
    "\n",
    "场景中存在以下对象，您将使用这些确切的名称来引用它们：\n",
    "\n",
    "风力发电机1、风力发电机2、太阳能电池板、汽车、人群、塔1、塔2、塔3。\n",
    "\n",
    "请注意，在函数调用的时候，请使用对应的英文名称，具体对应如下：\n",
    "turbine1 ：风力发电机1\n",
    "turbine2 ：风力发电机2\n",
    "solarpanels：太阳能电池板\n",
    "car：汽车\n",
    "crowd:人群\n",
    "tower1:塔1\n",
    "tower2:塔2\n",
    "tower3:塔3\n",
    "\n",
    "例如，你需要获得风力发电机1的位置，你可以这样写：\n",
    "aw.get_position(\"turbine1\")\n",
    "而不是：\n",
    "aw.get_position(\"风力发电机1\")\n",
    "\n",
    "除了无人机本身之外，所有物体都不可移动。请记住，有两个涡轮机和三个塔。当有多个相同类型的对象时，\n",
    "如果我没有明确指定我指的是哪个对象，您应该始终要求我进行澄清。永远不要做出假设。\n",
    "\n",
    "回复均按照如下例子的格式： \n",
    "```python\n",
    "i=1#这里输出python代码\n",
    "```\n",
    "此代码功能为赋值\n",
    "\n",
    "你无需考虑aw的import问题，在环境中已经声明\n",
    "\"\"\"\n",
    "\n",
    "pt_file = open(kg_promot_file, \"w\", encoding=\"utf-8\")\n",
    "pt_file.write(kg_prompt)\n",
    "pt_file.close()"
   ]
  },
  {
   "cell_type": "code",
   "execution_count": 6,
   "id": "38b53c81-516e-41bc-ba45-a294c438b905",
   "metadata": {
    "ExecuteTime": {
     "end_time": "2025-03-15T08:41:10.597193Z",
     "start_time": "2025-03-15T08:41:10.576637Z"
    }
   },
   "outputs": [],
   "source": [
    "#构建新的提示词，知识库写入aisim_lession24.txt\n",
    "kg_promot_file = \"prompts/aisim_lession24.txt\"\n",
    "\n",
    "kg_prompt = \"\"\"\n",
    "以下是您可以用来命令无人机的一些功能。\n",
    "\n",
    "aw.takeoff() - 起飞无人机。\n",
    "aw.land() - 无人机着陆。\n",
    "aw.get_drone_position() - 以与 X、Y、Z 坐标相对应的 3 个浮点数的列表形式返回无人机的当前位置。\n",
    "aw.fly_to([x, y, z]) - 将无人机飞到指定的位置，该位置由对应于 X、Y、Z 坐标的三个参数列表指定。\n",
    "aw.get_position(object_name)：采用字符串作为输入，指示感兴趣对象的名称，并返回 3 个浮点数的列表，指示其 X、Y、Z 坐标。\n",
    "\n",
    "场景中存在以下对象，您将使用这些确切的名称来引用它们：\n",
    "\n",
    "风力发电机1、风力发电机2、太阳能电池板、汽车、人群、塔1、塔2、塔3。\n",
    "\n",
    "请注意，在函数调用的时候，请使用对应的英文名称，具体对应如下：\n",
    "turbine1 ：风力发电机1\n",
    "turbine2 ：风力发电机2\n",
    "solarpanels：太阳能电池板\n",
    "car：汽车\n",
    "crowd:人群\n",
    "tower1:塔1\n",
    "tower2:塔2\n",
    "tower3:塔3\n",
    "\n",
    "例如，你需要获得风力发电机1的位置，你可以这样写：\n",
    "aw.get_position(\"turbine1\")\n",
    "而不是：\n",
    "aw.get_position(\"风力发电机1\")\n",
    "\n",
    "就坐标轴约定而言，我们使用的NED，也就是\"北东地\"坐标系，\n",
    "，即+X是北，+Y是东，+Z是下。这意味着Z值越高越负，如果原点在地面上，z值是零，地面以上是负的！向上飞是z轴减去一个值\n",
    "\n",
    "\n",
    "除了无人机本身之外，所有物体都不可移动。请记住，有两个涡轮机和三个塔。当有多个相同类型的对象时，\n",
    "如果我没有明确指定我指的是哪个对象，您应该始终要求我进行澄清。永远不要做出假设。\n",
    "\n",
    "回复均按照如下例子的格式： \n",
    "```python\n",
    "i=1#这里输出python代码\n",
    "```\n",
    "此代码功能为赋值\n",
    "\n",
    "你无需考虑aw的import问题，在环境中已经声明\n",
    "\"\"\"\n",
    "\n",
    "pt_file = open(kg_promot_file, \"w\", encoding=\"utf-8\")\n",
    "pt_file.write(kg_prompt)\n",
    "pt_file.close()"
   ]
  },
  {
   "cell_type": "code",
   "execution_count": 7,
   "id": "f48cbce7-53ad-4090-ab99-8a8abb86484b",
   "metadata": {
    "ExecuteTime": {
     "end_time": "2025-03-15T08:41:21.389132Z",
     "start_time": "2025-03-15T08:41:13.928073Z"
    }
   },
   "outputs": [
    {
     "name": "stdout",
     "output_type": "stream",
     "text": [
      "python_code: \n",
      " aw.takeoff()\n",
      "\n"
     ]
    }
   ],
   "source": [
    "import airsim_agent\n",
    "my_agent = airsim_agent.AirSimAgent(knowledge_prompt=\"prompts/aisim_lession24.txt\")\n",
    "command = \"起飞\"\n",
    "python_code = my_agent.process(command, True) #执行代码\n",
    "print(\"python_code: \\n\", python_code)"
   ]
  },
  {
   "cell_type": "code",
   "execution_count": 8,
   "id": "1bef9619-41ff-45f1-976d-82cdc7ba7996",
   "metadata": {
    "ExecuteTime": {
     "end_time": "2025-03-15T08:41:25.876547Z",
     "start_time": "2025-03-15T08:41:23.178888Z"
    }
   },
   "outputs": [
    {
     "name": "stdout",
     "output_type": "stream",
     "text": [
      "python_code: \n",
      " car_position = aw.get_position(\"car\")\n",
      "# 假设飞到汽车上方 5 米处，根据 NED 坐标系，向上飞 z 轴减去一个值\n",
      "target_position = [car_position[0], car_position[1], car_position[2] - 5]\n",
      "aw.fly_to(target_position)\n",
      "\n"
     ]
    }
   ],
   "source": [
    "command = \"飞到汽车上方\"\n",
    "python_code = my_agent.process(command, False) #调试，不执行代码\n",
    "print(\"python_code: \\n\", python_code)"
   ]
  },
  {
   "cell_type": "code",
   "execution_count": 9,
   "id": "9939abca-e9c7-4b2a-b4fd-6b44f826680e",
   "metadata": {
    "ExecuteTime": {
     "end_time": "2025-03-15T08:41:53.890352Z",
     "start_time": "2025-03-15T08:41:37.102230Z"
    }
   },
   "outputs": [
    {
     "name": "stdout",
     "output_type": "stream",
     "text": [
      "python_code: \n",
      " # 获取汽车的位置\n",
      "car_pos = aw.get_position(\"car\")\n",
      "# 假设飞到汽车上方 3 米处，由于是 NED 坐标系，向上飞 z 轴值减小\n",
      "target = [car_pos[0], car_pos[1], car_pos[2] - 3]\n",
      "# 让无人机飞到目标位置\n",
      "aw.fly_to(target)\n",
      "\n"
     ]
    }
   ],
   "source": [
    "command = \"飞到汽车上方\"\n",
    "python_code = my_agent.process(command, True) #执行代码\n",
    "print(\"python_code: \\n\", python_code)"
   ]
  },
  {
   "metadata": {},
   "cell_type": "code",
   "outputs": [],
   "execution_count": null,
   "source": "2025",
   "id": "c3eebd1fc7174047"
  }
 ],
 "metadata": {
  "kernelspec": {
   "display_name": "Python 3 (ipykernel)",
   "language": "python",
   "name": "python3"
  },
  "language_info": {
   "codemirror_mode": {
    "name": "ipython",
    "version": 3
   },
   "file_extension": ".py",
   "mimetype": "text/x-python",
   "name": "python",
   "nbconvert_exporter": "python",
   "pygments_lexer": "ipython3",
   "version": "3.10.16"
  }
 },
 "nbformat": 4,
 "nbformat_minor": 5
}
