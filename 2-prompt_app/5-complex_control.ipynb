{
 "cells": [
  {
   "cell_type": "markdown",
   "id": "c07f8d53-124b-4a52-8dad-cd69cb0bbdad",
   "metadata": {},
   "source": [
    "# 2.5 复杂指令-检测风力发电机"
   ]
  },
  {
   "cell_type": "markdown",
   "id": "c042afa7-7888-46bc-964d-3440f23821f8",
   "metadata": {},
   "source": [
    "## 复杂任务执行方式\n",
    "- 人工观测，无人机一步一步执行。基本使用\n",
    "- 人工制定完整工作流程，无人机一步一步执行。workflow\n",
    "- 无人机自行观测，自行执行。Agent，具身智能。"
   ]
  },
  {
   "cell_type": "markdown",
   "id": "9d8cd84b-67d0-4c63-adaf-497ee25e58cc",
   "metadata": {},
   "source": [
    "## 本节任务-风电叶片检测\n",
    "\n",
    "具体需求：\n",
    "- 无人机需要能够在飞手配合下完成任务。完成叶片检测。\n",
    "- 接受一次指令，执行一次，然后等待下一次指令\n",
    "- 指令相对简单，没有复杂的任务"
   ]
  },
  {
   "cell_type": "code",
   "id": "aedce3ee-d709-4aa9-bdda-b05e3955146b",
   "metadata": {
    "ExecuteTime": {
     "end_time": "2025-03-15T09:06:30.963877Z",
     "start_time": "2025-03-15T09:06:30.941603Z"
    }
   },
   "source": [
    "#构建新的提示词，知识库写入aisim_lession25.txt\n",
    "kg_promot_file = \"prompts/aisim_lession25.txt\"\n",
    "\n",
    "kg_prompt = \"\"\"\n",
    "以下是您可以用来命令无人机的一些功能。\n",
    "\n",
    "aw.takeoff() - 起飞无人机。\n",
    "aw.land() - 无人机着陆。\n",
    "aw.get_drone_position() - 以与 X、Y、Z 坐标相对应的 3 个浮点数的列表形式返回无人机的当前位置。\n",
    "aw.fly_to([x, y, z]) - 将无人机飞到指定的位置，该位置由对应于 X、Y、Z 坐标的三个参数列表指定。\n",
    "aw.get_position(object_name)：采用字符串作为输入，指示感兴趣对象的名称，并返回 3 个浮点数的列表，指示其 X、Y、Z 坐标。\n",
    "\n",
    "场景中存在以下对象，您将使用这些确切的名称来引用它们：\n",
    "\n",
    "风力发电机1、风力发电机2、太阳能电池板、汽车、人群、塔1、塔2、塔3。\n",
    "\n",
    "请注意，在函数调用的时候，请使用对应的英文名称，具体对应如下：\n",
    "turbine1 ：风力发电机1\n",
    "turbine2 ：风力发电机2\n",
    "solarpanels：太阳能电池板\n",
    "car：汽车\n",
    "crowd:人群\n",
    "tower1:塔1\n",
    "tower2:塔2\n",
    "tower3:塔3\n",
    "\n",
    "例如，你需要获得风力发电机1的位置，你可以这样写：\n",
    "aw.get_position(\"turbine1\")\n",
    "而不是：\n",
    "aw.get_position(\"风力发电机1\")\n",
    "\n",
    "就坐标轴约定而言，我们使用的NED，也就是\"北东地\"坐标系，\n",
    "，即+X是北，+Y是东，+Z是下。这意味着Z值越高越负，如果原点在地面上，z值是零，地面以上是负的！向上飞是z轴减去一个值\n",
    "\n",
    "除了无人机本身之外，所有物体都不可移动。请记住，有两个涡轮机和三个塔。当有多个相同类型的对象时，\n",
    "如果我没有明确指定我指的是哪个对象，您应该始终要求我进行澄清。永远不要做出假设。\n",
    "\n",
    "回复均按照如下例子的格式： \n",
    "```python\n",
    "i=1#这里输出python代码\n",
    "```\n",
    "此代码功能为赋值\n",
    "\n",
    "你无需考虑aw的import问题，在环境中已经声明\n",
    "\"\"\"\n",
    "\n",
    "pt_file = open(kg_promot_file, \"w\", encoding=\"utf-8\")\n",
    "pt_file.write(kg_prompt)\n",
    "pt_file.close()"
   ],
   "outputs": [],
   "execution_count": 9
  },
  {
   "cell_type": "code",
   "id": "b1845a4d-0f62-4cd6-8546-325d08a885c3",
   "metadata": {
    "ExecuteTime": {
     "end_time": "2025-03-15T09:46:29.214115Z",
     "start_time": "2025-03-15T09:46:26.616914Z"
    }
   },
   "source": [
    "import airsim_agent\n",
    "my_agent = airsim_agent.AirSimAgent(knowledge_prompt=\"prompts/aisim_lession25.txt\")"
   ],
   "outputs": [
    {
     "name": "stdout",
     "output_type": "stream",
     "text": [
      "Connected!\n",
      "Client Ver:1 (Min Req: 1), Server Ver:1 (Min Req: 1)\n",
      "\n"
     ]
    }
   ],
   "execution_count": 1
  },
  {
   "cell_type": "code",
   "id": "4d8a7eae-474c-4af3-9dff-1a077ab7c4c9",
   "metadata": {
    "ExecuteTime": {
     "end_time": "2025-03-15T09:46:34.481963Z",
     "start_time": "2025-03-15T09:46:30.151687Z"
    }
   },
   "source": [
    "command = \"起飞\"\n",
    "python_code = my_agent.process(command, True) #执行代码\n",
    "print(\"python_code: \\n\", python_code)"
   ],
   "outputs": [
    {
     "name": "stdout",
     "output_type": "stream",
     "text": [
      "python_code: \n",
      " aw.takeoff()\n",
      "\n"
     ]
    }
   ],
   "execution_count": 2
  },
  {
   "cell_type": "code",
   "id": "46fea4e2-bcf3-4067-8e4b-49b9d9b08b14",
   "metadata": {
    "ExecuteTime": {
     "end_time": "2025-03-15T09:47:04.401015Z",
     "start_time": "2025-03-15T09:46:36.888539Z"
    }
   },
   "source": [
    "command = \"请飞向风力发电机1，沿X轴方向，在风力发电机10米之前停下来\"\n",
    "python_code = my_agent.process(command, True) #执行代码\n",
    "print(\"python_code: \\n\", python_code)"
   ],
   "outputs": [
    {
     "name": "stdout",
     "output_type": "stream",
     "text": [
      "python_code: \n",
      " # 获取风力发电机1的位置\n",
      "turbine1_position = aw.get_position(\"turbine1\")\n",
      "# 计算目标位置，沿X轴方向在风力发电机1位置前10米\n",
      "target_x = turbine1_position[0] - 10\n",
      "target_y = turbine1_position[1]\n",
      "target_z = turbine1_position[2]\n",
      "target_position = [target_x, target_y, target_z]\n",
      "# 让无人机飞到目标位置\n",
      "aw.fly_to(target_position)\n",
      "\n"
     ]
    }
   ],
   "execution_count": 3
  },
  {
   "cell_type": "code",
   "id": "80958d74-51d0-4574-a2ac-860bba460ea7",
   "metadata": {
    "ExecuteTime": {
     "end_time": "2025-03-15T09:31:30.153520Z",
     "start_time": "2025-03-15T09:31:08.582843Z"
    }
   },
   "source": [
    "command = \"继续向风力发电机2飞行。沿 X 轴保持距离风力发电机2 12米，飞向风力发电机2，高度达到 50 米。\"\n",
    "python_code = my_agent.process(command, True) #执行代码\n",
    "print(\"python_code: \\n\", python_code)"
   ],
   "outputs": [
    {
     "name": "stdout",
     "output_type": "stream",
     "text": [
      "python_code: \n",
      " turbine2_pos = aw.get_position(\"turbine2\")\n",
      "target_x = turbine2_pos[0] - 12\n",
      "target_y = turbine2_pos[1]\n",
      "target_z = -50  # 高度50米，因为+Z是下，所以取负\n",
      "aw.fly_to([target_x, target_y, target_z])#此代码功能为让无人机沿X轴保持距离风力发电机2 12米飞向它，且高度达到50米\n",
      "\n"
     ]
    }
   ],
   "execution_count": 4
  },
  {
   "metadata": {
    "ExecuteTime": {
     "end_time": "2025-03-15T09:31:51.444833Z",
     "start_time": "2025-03-15T09:31:34.873069Z"
    }
   },
   "cell_type": "code",
   "source": [
    "command = \"现在让我们开始检查风力发电机的叶片。第一个叶片垂直向上，请飞到当前位置上方 30 米，然后再次向下,注意向上飞Z轴是减。\"\n",
    "python_code = my_agent.process(command, True) #执行代码\n",
    "print(\"python_code:\", python_code)"
   ],
   "id": "2ee640445237a920",
   "outputs": [
    {
     "name": "stdout",
     "output_type": "stream",
     "text": [
      "python_code: current_pos = aw.get_drone_position()\n",
      "target_up_z = current_pos[2] - 30\n",
      "target_up_pos = [current_pos[0], current_pos[1], target_up_z]\n",
      "aw.fly_to(target_up_pos)\n",
      "aw.fly_to(current_pos)#此代码功能为让无人机飞到当前位置上方30米，然后再回到当前位置\n",
      "\n"
     ]
    }
   ],
   "execution_count": 5
  },
  {
   "metadata": {
    "ExecuteTime": {
     "end_time": "2025-03-15T09:32:26.398554Z",
     "start_time": "2025-03-15T09:32:06.939323Z"
    }
   },
   "cell_type": "code",
   "source": [
    "command = \"为了检查第二个叶片，我需要你以与水平轴Y成30度角的右下方向飞行。您应该在YZ 平面上飞行30 米的距离，然后返回当前位置。\"\n",
    "python_code = my_agent.process(command, True) #执行代码\n",
    "print(\"python_code:\", python_code)"
   ],
   "id": "1824140d1a31607",
   "outputs": [
    {
     "name": "stdout",
     "output_type": "stream",
     "text": [
      "python_code: import math\n",
      "\n",
      "# 获取当前无人机位置\n",
      "current_pos = aw.get_drone_position()\n",
      "\n",
      "# 计算目标位置\n",
      "distance = 30\n",
      "angle = math.radians(30)  # 将角度转换为弧度\n",
      "\n",
      "# 在YZ平面上计算偏移量\n",
      "delta_y = distance * math.cos(angle)\n",
      "delta_z = distance * math.sin(angle)\n",
      "\n",
      "# 计算目标位置\n",
      "target_y = current_pos[1] + delta_y\n",
      "target_z = current_pos[2] + delta_z\n",
      "target_x = current_pos[0]\n",
      "target_pos = [target_x, target_y, target_z]\n",
      "\n",
      "# 飞向目标位置\n",
      "aw.fly_to(target_pos)\n",
      "\n",
      "# 返回当前位置\n",
      "aw.fly_to(current_pos)\n",
      "# 此代码功能为让无人机以与水平轴Y成30度角的右下方向在YZ平面飞行30米，然后返回当前位置\n",
      "\n"
     ]
    }
   ],
   "execution_count": 6
  },
  {
   "metadata": {
    "ExecuteTime": {
     "end_time": "2025-03-15T09:33:16.294303Z",
     "start_time": "2025-03-15T09:32:56.318809Z"
    }
   },
   "cell_type": "code",
   "source": [
    "command = \"为了检查第三个叶片，我需要你以与水平轴Y成30度角的左下方向飞行。您应该在YZ 平面上飞行30 米的距离，然后返回当前位置。\"\n",
    "python_code = my_agent.process(command, True) #执行代码\n",
    "print(\"python_code:\", python_code)"
   ],
   "id": "48ba053c329efa80",
   "outputs": [
    {
     "name": "stdout",
     "output_type": "stream",
     "text": [
      "python_code: import math\n",
      "\n",
      "# 获取无人机当前位置\n",
      "current_pos = aw.get_drone_position()\n",
      "\n",
      "# 计算在 YZ 平面上飞行 30 米，与水平轴 Y 成 30 度角（左下方向）的偏移量\n",
      "distance = 30\n",
      "angle = math.radians(30)\n",
      "delta_y = distance * math.cos(angle)\n",
      "delta_z = distance * math.sin(angle)\n",
      "\n",
      "# 计算目标位置，左下方向 Y 轴是减少，Z 轴是增加\n",
      "target_y = current_pos[1] - delta_y\n",
      "target_z = current_pos[2] + delta_z\n",
      "target_x = current_pos[0]\n",
      "target_pos = [target_x, target_y, target_z]\n",
      "\n",
      "# 飞向目标位置\n",
      "aw.fly_to(target_pos)\n",
      "\n",
      "# 返回当前位置\n",
      "aw.fly_to(current_pos)\n",
      "# 此代码功能为让无人机以与水平轴 Y 成 30 度角的左下方向在 YZ 平面飞行 30 米，然后返回当前位置\n",
      "\n"
     ]
    }
   ],
   "execution_count": 7
  },
  {
   "metadata": {
    "ExecuteTime": {
     "end_time": "2025-03-15T09:34:58.796037Z",
     "start_time": "2025-03-15T09:33:33.256868Z"
    }
   },
   "cell_type": "code",
   "source": [
    "command = \"现在我们把检查叶片的三个动作串联起来。我需要你重复刚才所做的事情，但到了最后就停下来，无需返回。\"\n",
    "python_code = my_agent.process(command, True) #执行代码\n",
    "print(\"python_code:\", python_code)"
   ],
   "id": "83249dd28190fab",
   "outputs": [
    {
     "name": "stdout",
     "output_type": "stream",
     "text": [
      "python_code: import math\n",
      "\n",
      "# 起飞\n",
      "aw.takeoff()\n",
      "\n",
      "# 飞向风力发电机1沿X轴方向10米前的位置\n",
      "turbine1_pos = aw.get_position(\"turbine1\")\n",
      "target_x = turbine1_pos[0] - 10\n",
      "target_y = turbine1_pos[1]\n",
      "target_z = turbine1_pos[2]\n",
      "aw.fly_to([target_x, target_y, target_z])\n",
      "\n",
      "# 飞向风力发电机2，沿X轴保持距离12米，高度50米\n",
      "turbine2_pos = aw.get_position(\"turbine2\")\n",
      "target_x = turbine2_pos[0] - 12\n",
      "target_y = turbine2_pos[1]\n",
      "target_z = -50\n",
      "aw.fly_to([target_x, target_y, target_z])\n",
      "\n",
      "# 检查第一个叶片，飞到当前位置上方30米\n",
      "current_pos = aw.get_drone_position()\n",
      "target_up_z = current_pos[2] - 30\n",
      "target_up_pos = [current_pos[0], current_pos[1], target_up_z]\n",
      "aw.fly_to(target_up_pos)\n",
      "aw.fly_to(current_pos)\n",
      "\n",
      "# 检查第二个叶片，以与水平轴Y成30度角的右下方向飞行30米\n",
      "distance = 30\n",
      "angle = math.radians(30)\n",
      "delta_y = distance * math.cos(angle)\n",
      "delta_z = distance * math.sin(angle)\n",
      "target_y = current_pos[1] + delta_y\n",
      "target_z = current_pos[2] + delta_z\n",
      "target_x = current_pos[0]\n",
      "target_pos = [target_x, target_y, target_z]\n",
      "aw.fly_to(target_pos)\n",
      "aw.fly_to(current_pos)\n",
      "\n",
      "# 检查第三个叶片，以与水平轴Y成30度角的左下方向飞行30米，最后不返回\n",
      "distance = 30\n",
      "angle = math.radians(30)\n",
      "delta_y = distance * math.cos(angle)\n",
      "delta_z = distance * math.sin(angle)\n",
      "target_y = current_pos[1] - delta_y\n",
      "target_z = current_pos[2] + delta_z\n",
      "target_x = current_pos[0]\n",
      "target_pos = [target_x, target_y, target_z]\n",
      "aw.fly_to(target_pos)\n",
      "\n",
      "# 此代码功能为将之前的动作串联起来，最后检查第三个叶片飞行后不返回\n",
      "\n"
     ]
    }
   ],
   "execution_count": 9
  },
  {
   "metadata": {
    "ExecuteTime": {
     "end_time": "2025-03-15T09:35:29.743478Z",
     "start_time": "2025-03-15T09:35:14.417351Z"
    }
   },
   "cell_type": "code",
   "source": [
    "command = \"现在向前移动，飞到风力发电机后面。在 X 轴上飞行 20 米，再加上几米的间隙，然后将无人机旋转 180 度。您可以使用 set_yaw() 函数来旋转无人机。\"\n",
    "python_code = my_agent.process(command, True) #执行代码\n",
    "print(\"python_code:\", python_code)"
   ],
   "id": "a3f869781a294f7e",
   "outputs": [
    {
     "name": "stdout",
     "output_type": "stream",
     "text": [
      "python_code: # 获取当前无人机位置\n",
      "current_pos = aw.get_drone_position()\n",
      "\n",
      "# 假设间隙为 5 米，计算目标位置\n",
      "target_x = current_pos[0] + 20 + 5\n",
      "target_y = current_pos[1]\n",
      "target_z = current_pos[2]\n",
      "target_pos = [target_x, target_y, target_z]\n",
      "\n",
      "# 飞到目标位置\n",
      "aw.fly_to(target_pos)\n",
      "\n",
      "# 将无人机旋转 180 度\n",
      "aw.set_yaw(180)\n",
      "# 此代码功能为让无人机飞到风力发电机后面，在 X 轴上飞行 20 米并加上 5 米间隙，然后将无人机旋转 180 度\n",
      "\n"
     ]
    }
   ],
   "execution_count": 10
  },
  {
   "metadata": {
    "ExecuteTime": {
     "end_time": "2025-03-15T09:36:07.559374Z",
     "start_time": "2025-03-15T09:35:55.557458Z"
    }
   },
   "cell_type": "code",
   "source": [
    "command = \"太好了！现在我要你检查叶片的背面。这意味着你所做的与之前所做的完全相反，也就是说，首先朝右上角的方向飞行30米，然后停下。\"\n",
    "python_code = my_agent.process(command, True) #执行代码\n",
    "print(\"python_code:\", python_code)"
   ],
   "id": "92fee2c1bce5f18c",
   "outputs": [
    {
     "name": "stdout",
     "output_type": "stream",
     "text": [
      "python_code: import math\n",
      "\n",
      "# 获取当前无人机位置\n",
      "current_pos = aw.get_drone_position()\n",
      "\n",
      "# 计算在 YZ 平面上飞行 30 米，与水平轴 Y 成 30 度角（右上角方向）的偏移量\n",
      "distance = 30\n",
      "angle = math.radians(30)\n",
      "delta_y = distance * math.cos(angle)\n",
      "delta_z = -distance * math.sin(angle)  # 右上角方向 Z 轴是减少\n",
      "\n",
      "# 计算目标位置\n",
      "target_y = current_pos[1] + delta_y\n",
      "target_z = current_pos[2] + delta_z\n",
      "target_x = current_pos[0]\n",
      "target_pos = [target_x, target_y, target_z]\n",
      "\n",
      "# 飞向目标位置\n",
      "aw.fly_to(target_pos)\n",
      "# 此代码功能为让无人机朝右上角方向在 YZ 平面飞行 30 米后停下，用于检查叶片背面\n",
      "\n"
     ]
    }
   ],
   "execution_count": 11
  },
  {
   "metadata": {
    "ExecuteTime": {
     "end_time": "2025-03-15T09:37:45.058396Z",
     "start_time": "2025-03-15T09:37:27.120297Z"
    }
   },
   "cell_type": "code",
   "source": [
    "command = \"接下来巡检第一个叶片，其垂直向上，请飞到当前位置上方 30 米，然后再次向下,注意向上飞Z轴是减。\"\n",
    "python_code = my_agent.process(command, True) #执行代码\n",
    "print(\"python_code:\", python_code)"
   ],
   "id": "7c6acb6d13e346c2",
   "outputs": [
    {
     "name": "stdout",
     "output_type": "stream",
     "text": [
      "python_code: # 获取当前无人机位置\n",
      "current_pos = aw.get_drone_position()\n",
      "\n",
      "# 计算向上 30 米后的目标位置\n",
      "target_up_z = current_pos[2] - 30\n",
      "target_up_pos = [current_pos[0], current_pos[1], target_up_z]\n",
      "\n",
      "# 飞到上方 30 米处\n",
      "aw.fly_to(target_up_pos)\n",
      "\n",
      "# 飞回当前位置\n",
      "aw.fly_to(current_pos)\n",
      "# 此代码功能为让无人机飞到当前位置上方 30 米，然后再回到当前位置，用于巡检垂直向上的第一个叶片\n",
      "\n"
     ]
    }
   ],
   "execution_count": 12
  },
  {
   "metadata": {
    "ExecuteTime": {
     "end_time": "2025-03-15T09:40:00.932277Z",
     "start_time": "2025-03-15T09:39:41.481366Z"
    }
   },
   "cell_type": "code",
   "source": [
    "command = \"为了检查第二个叶片，我需要你以与水平轴Y成30度角的右下方向飞行。您应该在YZ 平面上飞行30 米的距离，然后返回当前位置。\"\n",
    "python_code = my_agent.process(command, True) #执行代码\n",
    "print(\"python_code:\", python_code)"
   ],
   "id": "441e6c47a391bfe2",
   "outputs": [
    {
     "name": "stdout",
     "output_type": "stream",
     "text": [
      "python_code: import math\n",
      "\n",
      "# 获取无人机当前位置\n",
      "current_pos = aw.get_drone_position()\n",
      "\n",
      "# 计算偏移量\n",
      "distance = 30\n",
      "angle = math.radians(30)\n",
      "delta_y = distance * math.cos(angle)\n",
      "delta_z = distance * math.sin(angle)\n",
      "\n",
      "# 计算目标位置，右下方向 Y 轴增加，Z 轴增加\n",
      "target_y = current_pos[1] + delta_y\n",
      "target_z = current_pos[2] + delta_z\n",
      "target_x = current_pos[0]\n",
      "target_pos = [target_x, target_y, target_z]\n",
      "\n",
      "# 飞向目标位置\n",
      "aw.fly_to(target_pos)\n",
      "\n",
      "# 返回当前位置\n",
      "aw.fly_to(current_pos)\n",
      "# 此代码功能为让无人机以与水平轴 Y 成 30 度角的右下方向在 YZ 平面飞行 30 米，然后返回当前位置，用于检查第二个叶片\n",
      "\n"
     ]
    }
   ],
   "execution_count": 14
  },
  {
   "metadata": {},
   "cell_type": "code",
   "outputs": [],
   "execution_count": null,
   "source": "",
   "id": "d44a79f2db614fa7"
  }
 ],
 "metadata": {
  "kernelspec": {
   "display_name": "Python 3 (ipykernel)",
   "language": "python",
   "name": "python3"
  },
  "language_info": {
   "codemirror_mode": {
    "name": "ipython",
    "version": 3
   },
   "file_extension": ".py",
   "mimetype": "text/x-python",
   "name": "python",
   "nbconvert_exporter": "python",
   "pygments_lexer": "ipython3",
   "version": "3.10.16"
  }
 },
 "nbformat": 4,
 "nbformat_minor": 5
}
