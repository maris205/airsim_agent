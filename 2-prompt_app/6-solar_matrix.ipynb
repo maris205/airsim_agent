{
 "cells": [
  {
   "cell_type": "markdown",
   "id": "f6c99ba6-a047-4105-a22b-9e0885ad2b57",
   "metadata": {},
   "source": [
    "# 2.6 完整任务-检测太阳能发电矩阵"
   ]
  },
  {
   "cell_type": "code",
   "id": "fbacd4fc-3a38-4f00-ad4c-3e2d21600888",
   "metadata": {},
   "source": [
    "#构建新的提示词，知识库写入aisim_lession26.txt\n",
    "kg_promot_file = \"prompts/aisim_lession26.txt\"\n",
    "\n",
    "kg_prompt = \"\"\"\n",
    "以下是您可以用来命令无人机的一些功能。\n",
    "\n",
    "aw.takeoff() - 起飞无人机。\n",
    "aw.land() - 无人机着陆。\n",
    "aw.get_drone_position() - 以与 X、Y、Z 坐标相对应的 3 个浮点数的列表形式返回无人机的当前位置。\n",
    "aw.fly_to([x, y, z]) - 将无人机飞到指定的位置，该位置由对应于 X、Y、Z 坐标的三个参数列表指定。\n",
    "aw.get_position(object_name)：采用字符串作为输入，指示感兴趣对象的名称，并返回 3 个浮点数的列表，指示其 X、Y、Z 坐标。\n",
    "\n",
    "场景中存在以下对象，您将使用这些确切的名称来引用它们：\n",
    "\n",
    "风力发电机1、风力发电机2、太阳能电池板、汽车、人群、塔1、塔2、塔3。\n",
    "\n",
    "请注意，在函数调用的时候，请使用对应的英文名称，具体对应如下：\n",
    "turbine1 ：风力发电机1\n",
    "turbine2 ：风力发电机2\n",
    "solarpanels：太阳能电池板\n",
    "car：汽车\n",
    "crowd:人群\n",
    "tower1:塔1\n",
    "tower2:塔2\n",
    "tower3:塔3\n",
    "\n",
    "例如，你需要获得风力发电机1的位置，你可以这样写：\n",
    "aw.get_position(\"turbine1\")\n",
    "而不是：\n",
    "aw.get_position(\"风力发电机1\")\n",
    "\n",
    "就坐标轴约定而言，我们使用的NED，也就是\"北东地\"坐标系，\n",
    "，即+X是北，+Y是东，+Z是下。这意味着Z值越高越负，如果原点在地面上，z值是零，地面以上是负的！向上飞是z轴减去一个值\n",
    "\n",
    "除了无人机本身之外，所有物体都不可移动。请记住，有两个涡轮机和三个塔。当有多个相同类型的对象时，\n",
    "如果我没有明确指定我指的是哪个对象，您应该始终要求我进行澄清。永远不要做出假设。\n",
    "\n",
    "回复均按照如下例子的格式： \n",
    "```python\n",
    "i=1#这里输出python代码\n",
    "```\n",
    "此代码功能为赋值\n",
    "\n",
    "你无需考虑aw的import问题，在环境中已经声明\n",
    "\"\"\"\n",
    "\n",
    "pt_file = open(kg_promot_file, \"w\", encoding=\"utf-8\")\n",
    "pt_file.write(kg_prompt)\n",
    "pt_file.close()"
   ],
   "outputs": [],
   "execution_count": null
  },
  {
   "metadata": {},
   "cell_type": "code",
   "source": [
    "import airsim_agent\n",
    "my_agent = airsim_agent.AirSimAgent(knowledge_prompt=\"prompts/aisim_lession26.txt\")"
   ],
   "id": "22a939a866859225",
   "outputs": [],
   "execution_count": null
  },
  {
   "metadata": {},
   "cell_type": "code",
   "source": [
    "command = \"起飞\"\n",
    "python_code = my_agent.process(command, True) #执行代码\n",
    "print(\"python_code: \\n\", python_code)"
   ],
   "id": "48e402e13101a9b5",
   "outputs": [],
   "execution_count": null
  },
  {
   "metadata": {},
   "cell_type": "code",
   "source": [
    "command = \"飞向太阳能电池板\"\n",
    "python_code = my_agent.process(command, True) #执行代码\n",
    "print(\"python_code: \\n\", python_code)"
   ],
   "id": "36351d5a9631ea9e",
   "outputs": [],
   "execution_count": null
  },
  {
   "metadata": {},
   "cell_type": "code",
   "source": [
    "command = \"\"\"\n",
    "当前无人机位于太阳能电池板阵列的的第一行左侧，请先获取无人机当前位置，然后开始巡检即可。\n",
    "\n",
    "按照当前朝向，向右飞行意味着当前位置的X坐标减去一个正数值，而向左飞行则增加一个正数值。同样的，向后飞行意味着当前Y坐标减去一个正数值，而向前飞行则增加一个正数值。\n",
    "\n",
    "这个太阳能电池板阵列宽30米（X方向），长50米(Y方向)。\n",
    "我希望你采用割草机模式驾驶无人机飞过这组太阳能电池板，在5米的高度对其进行检查。\n",
    "\n",
    "以下是正确执行割草机模式所涉及的步骤：\n",
    "\n",
    "1 将面板阵列按照长度分为 10 行。\n",
    "2 飞到第一行的最右端（沿宽度方向）。\n",
    "3 留在右侧，但稍微向后移动以到达下一行的末尾。\n",
    "4 飞到第二行的最左端。\n",
    "5 留在左侧，但稍微向后移动以到达下一行的开头。\n",
    "6 重复执行2到5的操作，直到覆盖其他行。\n",
    "\n",
    "飞行中请保持正好5米的高度\n",
    "\"\"\"\n",
    "python_code = my_agent.process(command, True) #执行代码\n",
    "print(\"python_code: \\n\", python_code)"
   ],
   "id": "49587662f79e5027",
   "outputs": [],
   "execution_count": null
  },
  {
   "metadata": {},
   "cell_type": "code",
   "source": [
    "command = \"飞向太阳能电池板\"\n",
    "python_code = my_agent.process(command, True) #执行代码\n",
    "print(\"python_code: \\n\", python_code)"
   ],
   "id": "d5f9d751e443fa56",
   "outputs": [],
   "execution_count": null
  },
  {
   "metadata": {},
   "cell_type": "code",
   "source": [
    "command = \"\"\"\n",
    "非常不错哦，但请注意，这里是要求对其他行重复类似2到5的操作，需要从左到右，再从右到左多次巡检\n",
    "\"\"\"\n",
    "python_code = my_agent.process(command, True) #执行代码\n",
    "print(\"python_code: \\n\", python_code)"
   ],
   "id": "e0c367724721528a",
   "outputs": [],
   "execution_count": null
  },
  {
   "metadata": {},
   "cell_type": "code",
   "source": [
    "command = \"飞向太阳能电池板\"\n",
    "python_code = my_agent.process(command, True) #执行代码\n",
    "print(\"python_code: \\n\", python_code)"
   ],
   "id": "f34170050eb9e34e",
   "outputs": [],
   "execution_count": null
  },
  {
   "metadata": {},
   "cell_type": "code",
   "source": [
    "command = \"\"\"\n",
    "当前无人机位于太阳能电池板阵列的的第一行左侧，请先获取无人机当前位置，然后开始巡检即可。\n",
    "\n",
    "按照当前朝向，向右飞行意味着当前位置的X坐标减去一个正数值，而向左飞行则增加一个正数值。同样的，向后飞行意味着当前Y坐标减去一个正数值，而向前飞行则增加一个正数值。\n",
    "\n",
    "这个太阳能电池板阵列宽30米（X方向），长50米(Y方向)。\n",
    "我希望你采用割草机模式驾驶无人机飞过这组太阳能电池板，在5米的高度对其进行检查。\n",
    "\n",
    "以下是正确执行割草机模式所涉及的步骤：\n",
    "\n",
    "1 将面板阵列按照长度分为 10 行。\n",
    "2 飞到第一行的最右端（沿宽度方向）。\n",
    "3 留在右侧，但稍微向后移动以到达下一行的末尾。\n",
    "4 需要从左到右，再从右到左多次巡检。\n",
    "5 留在左侧，但稍微向后移动以到达下一行的开头。\n",
    "6 重复执行2到5的操作，直到覆盖其他行。\n",
    "\n",
    "\n",
    "飞行中请保持正好5米的高度\n",
    "\"\"\"\n",
    "python_code = my_agent.process(command, True) #执行代码\n",
    "print(\"python_code: \\n\", python_code)"
   ],
   "id": "c03db67d0b12c509",
   "outputs": [],
   "execution_count": null
  },
  {
   "metadata": {},
   "cell_type": "code",
   "source": "",
   "id": "a02668651853e46f",
   "outputs": [],
   "execution_count": null
  }
 ],
 "metadata": {
  "kernelspec": {
   "display_name": "Python 3 (ipykernel)",
   "language": "python",
   "name": "python3"
  },
  "language_info": {
   "codemirror_mode": {
    "name": "ipython",
    "version": 3
   },
   "file_extension": ".py",
   "mimetype": "text/x-python",
   "name": "python",
   "nbconvert_exporter": "python",
   "pygments_lexer": "ipython3",
   "version": "3.10.16"
  }
 },
 "nbformat": 4,
 "nbformat_minor": 5
}
