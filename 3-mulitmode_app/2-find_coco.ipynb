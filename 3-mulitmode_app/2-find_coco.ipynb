{
 "cells": [
  {
   "cell_type": "markdown",
   "id": "1680825d-d907-4276-8f66-f4f879845095",
   "metadata": {},
   "source": [
    "# 3.2 基于感知的自主飞行-发现好喝的"
   ]
  },
  {
   "cell_type": "markdown",
   "id": "5d0ed406-3d98-4a76-a98f-c66444c06224",
   "metadata": {},
   "source": [
    "## 实验概述\n",
    "\n",
    "本节课程的典型流程就是，用户说“我渴了”，无人机开始在LLM驱动下，开始环顾四周看一看，找到“能喝”的物品，然后根据视觉定位，飞到物品上方。\n",
    "\n",
    "“看”这个行为，本项目通过豆包大模型实现的，利用其图片识别功能。\n",
    "\n",
    "具体实现方面，分成两阶段，\n",
    "\n",
    "阶段1，也就是本节课程，大模型可以看到自己的目标，但需要系统给的大模型“看到的”目标的位置，然后测试大模型的推理功能。\n",
    "\n",
    "阶段2  下一节课程，大模型需要能自己看到目标，还能自己估算目标的位置(目标检测),然后执行飞往目标的任务。\n"
   ]
  },
  {
   "cell_type": "markdown",
   "id": "b7392424-7a47-40f8-8584-414fdb8f0161",
   "metadata": {},
   "source": [
    "## 给无人机增加视觉功能\n",
    "\n",
    "基于airsim_wrapper修改即可，增加函数\n",
    "\n",
    "look()\n",
    "\n",
    "功能为：获得无人机前置摄像头的图片，并返回看到的目标列表\n",
    "\n",
    "在第一章的时候，我们已经知道如何获得无人机的摄像头图片了，这里仅需要根据上一节的内容，进行图片理解即可："
   ]
  },
  {
   "cell_type": "markdown",
   "id": "60a38bbb-c053-466b-a0c4-b74c7e0cfaab",
   "metadata": {},
   "source": [
    "``` python\n",
    "def look(self):\n",
    "    \"\"\"\n",
    "    获得前置摄像头渲染图像,并给出图像中主要物体列表\n",
    "    :return:字符串，目标名称用英文逗号分隔\n",
    "    \"\"\"\n",
    "    #step 1，读取摄像头图片，已经是RGB的了\n",
    "    rgb_image = self.get_image()\n",
    "    \n",
    "    #转成base64格式的png图片\n",
    "    base64_str = cv2_to_base64(rgb_image, format='.png')  # 或 '.jpg'\n",
    "\n",
    "    #step 2，进行图片理解\n",
    "    # Image input:\n",
    "    response = self.llm_client.chat.completions.create(\n",
    "        model=\"doubao-1-5-vision-pro-32k-250115\",\n",
    "        messages=[\n",
    "            {\n",
    "                \"role\": \"user\",\n",
    "                \"content\": [\n",
    "                    {\"type\": \"text\", \"text\": \"图片中有哪些目标，请给出名称即可，给出常见的，清晰可见的目标即可，多个目标名称之间用英文逗号分隔\"},\n",
    "                    {\n",
    "                        \"type\": \"image_url\",\n",
    "                        \"image_url\": {\n",
    "                            # \"url\": \"https://yt-shanghai.tos-cn-shanghai.volces.com/tello.jpg\"\n",
    "                            # 使用Base64编码的本地图片，注意img/png火鹤img/jpg不能错\n",
    "                            \"url\": f\"data:image/png;base64,{encode_image(local_image_path)}\"\n",
    "                        }\n",
    "                    },\n",
    "                ],\n",
    "            }\n",
    "        ],\n",
    "    )\n",
    "\n",
    "    content = response.choices[0].message.content\n",
    "    return content\n",
    "\n",
    "```"
   ]
  },
  {
   "cell_type": "markdown",
   "id": "27d1e245-3a4d-4cd9-9a9b-e90b976a9daa",
   "metadata": {},
   "source": [
    "## 构造提示词"
   ]
  },
  {
   "cell_type": "code",
   "execution_count": 1,
   "id": "36169c3a-bcbe-4450-ae40-5a932034083e",
   "metadata": {},
   "outputs": [],
   "source": [
    "#知识库写入aisim_lession32.txt\n",
    "kg_promot_file = \"prompts/aisim_lession32.txt\"\n",
    "\n",
    "kg_prompt = \"\"\"\n",
    "想象一下，您正在帮助我与 AirSim 无人机模拟器进行交互。在任何给定时间点，您都具有以下能力，每个能力都由一个唯一标签标识。您还需要为某些请求输出代码。\n",
    "\n",
    "问题：您可以向我询问一个澄清问题，只要您明确指出它是“问题”即可。\n",
    "代码：输出实现预期目标的代码命令。\n",
    "原因：输出代码后，您应该解释为什么这样做。\n",
    "\n",
    "模拟器包含一个无人机以及几个物体。除了无人机之外，没有任何物体可以移动。在代码中，我们可以使用以下命令。您不得使用任何其他假设函数。\n",
    "\n",
    "aw.takeoff() - 起飞无人机。\n",
    "aw.land() - 无人机着陆。\n",
    "\n",
    "aw.get_drone_position() - 以与 (X、Y、Z、角度) 坐标相对应的4个浮点数的列表形式返回无人机的当前位置和当前朝向的角度。\n",
    "aw.get_position(object_name)：接受一个字符串作为输入，指示感兴趣的对象的名称，并返回一个由 4 个浮点数组成的向量，指示其（X、Y、Z、角度）坐标。\n",
    "aw.fly_to(position)：采用 4 个浮点数的向量作为输入，指示(X、Y、Z、角度)坐标，并命令无人机沿着角度飞行坐标\n",
    "aw.fly_path(positions)：输入(X,Y,Z,角度)的位置坐标列表，也就是有多个路径点，表示沿路径的航路点，无人机沿这些路径点飞行\n",
    "aw.look_at(angle)：将角度作为输入，并将无人机朝这个角度偏转\n",
    "\n",
    "\n",
    "\n",
    "aw.look()：看一看，获得当前视角下的图像中的物体列表，多个列表为逗号分隔\n",
    "aw.look_at(angle)：将角度作为输入，并将无人机朝这个角度偏转\n",
    "\n",
    "模拟器世界中有一些物品，如镜子、椅子、小鸭子、椰子水、可乐、兰花，都在模拟器里面\n",
    "，您可以使用 get_position(object_name) 函数来获取它们的位置。\n",
    "例如，如果您想知道“椅子”的位置，您可以使用以下代码：\n",
    "aw.get_position('椅子')\n",
    "\n",
    "生成代码时，你无需考虑aw的import问题，在环境中已经声明\n",
    "\n",
    "\"\"\"\n",
    "\n",
    "pt_file = open(kg_promot_file, \"w\", encoding=\"utf-8\")\n",
    "pt_file.write(kg_prompt)\n",
    "pt_file.close()"
   ]
  },
  {
   "cell_type": "markdown",
   "id": "ff725bfa-4a7d-466f-9a1b-89465f1f0a49",
   "metadata": {},
   "source": [
    "## 设置分辨率\n",
    "\n",
    "airsim摄像头默认分辨率只有256*144，如果做图像识别，基本看不出啥东西\n",
    "\n",
    "因此，做视觉相关应用时，需要修改分辨率，设置720p(1280*720)，一般就可以了。\n",
    "\n",
    "具体可以通过修改配置文件settings.json\n",
    "\n",
    "``` json\n",
    "{\n",
    "  \"SettingsVersion\": 1.2,\n",
    "  \"CameraDefaults\": {\n",
    "      \"CaptureSettings\": [\n",
    "        {\n",
    "          \"ImageType\": 0,\n",
    "          \"Width\": 1280,\n",
    "          \"Height\": 720,\n",
    "          \"FOV_Degrees\": 90,\n",
    "          \"AutoExposureSpeed\": 100,\n",
    "          \"MotionBlurAmount\": 0\n",
    "        }\n",
    "    ]\n",
    "  }\n",
    "}\n",
    "```\n",
    "\n",
    "可选参数：  \"SimMode\": \"ComputerVision\"\n",
    "\n"
   ]
  },
  {
   "cell_type": "markdown",
   "id": "ab894db9-7ed5-4243-86cb-269ef618bcd5",
   "metadata": {},
   "source": [
    "## 交互式执行\n",
    "\n",
    "因为多模态大模型的输出有很大的不确定性，因此，如果让语言模型基于多模态大模型获取的结果执行全部代码，很可能出现不符合预期的情况\n",
    "\n",
    "因此，在现阶段多模态实验中，我们一般参与人机结合的方法，大模型生成的代码，由人工确认后执行，分步骤给大模型任务\n",
    "\n",
    "也就是说，我们在调用大模型生成代码时，不直接执行\n",
    "```python\n",
    "python_code = my_agent.process(command, False) #不执行\n",
    "```\n",
    "\n",
    "而是又人工确认后执行"
   ]
  },
  {
   "cell_type": "markdown",
   "id": "fda4e00c-22af-4bce-a9c5-d7520a474292",
   "metadata": {},
   "source": [
    "## 打开仿真系统，开始实验\n",
    "\n",
    "可以写一个run.bat文件，仿真模拟器只占部分屏幕，方便实验\n",
    "\n",
    "文件内容：\n",
    "\n",
    "House.exe -windowed -ResX=1280 -ResY=720 -ExecCmds=\"DisableAllScreenMessages\""
   ]
  },
  {
   "cell_type": "code",
   "execution_count": 56,
   "id": "5086b12b-7a8f-43f8-8073-f97de1769f9b",
   "metadata": {},
   "outputs": [
    {
     "name": "stdout",
     "output_type": "stream",
     "text": [
      "Connected!\n",
      "Client Ver:1 (Min Req: 1), Server Ver:1 (Min Req: 1)\n",
      "\n"
     ]
    }
   ],
   "source": [
    "#先生成1个独立的airsim agent，用于人工执行代码\n",
    "import airsim_wrapper\n",
    "aw = airsim_wrapper.AirSimWrapper()"
   ]
  },
  {
   "cell_type": "code",
   "execution_count": 57,
   "id": "7cbb18e7-d99f-4693-8a54-3b8f62743fce",
   "metadata": {},
   "outputs": [],
   "source": [
    "#生成agent\n",
    "import airsim_agent\n",
    "my_agent = airsim_agent.AirSimAgent(knowledge_prompt=\"prompts/aisim_lession32.txt\")"
   ]
  },
  {
   "cell_type": "code",
   "execution_count": 58,
   "id": "d279463b-d180-4677-8951-1080eba096c7",
   "metadata": {},
   "outputs": [
    {
     "name": "stdout",
     "output_type": "stream",
     "text": [
      "ret: 代码：\n",
      "```python\n",
      "aw.takeoff()\n",
      "```\n",
      "原因：根据给定的命令说明，`aw.takeoff()` 函数的作用就是起飞无人机。所以当需求是让无人机起飞时，直接调用这个函数即可实现目标。 \n"
     ]
    }
   ],
   "source": [
    "command = \"起飞\"\n",
    "ret = my_agent.process(command, False) #执行代码\n",
    "print(\"ret:\", ret)"
   ]
  },
  {
   "cell_type": "code",
   "execution_count": 59,
   "id": "b9ce45b9-c534-413d-922f-1894bfd3e82a",
   "metadata": {},
   "outputs": [],
   "source": [
    "#人工执行-----------------------------------------------------\n",
    "\n",
    "aw.takeoff()"
   ]
  },
  {
   "cell_type": "code",
   "execution_count": 60,
   "id": "5d50b774-77ce-4c7b-aa60-7d7a9e7ac987",
   "metadata": {},
   "outputs": [
    {
     "name": "stdout",
     "output_type": "stream",
     "text": [
      "ret: 代码：\n",
      "```python\n",
      "objects = aw.look()\n",
      "print(objects)\n",
      "```\n",
      "原因：根据提供的命令信息，`aw.look()` 函数的功能是看一看，获得当前视角下的图像中的物体列表。我们调用这个函数将返回的物体列表存储在变量 `objects` 中，然后使用 `print` 函数将这个列表输出，这样就能知道当前环境里有哪些物体了。 \n"
     ]
    }
   ],
   "source": [
    "command = \"看下当前环境里面都有啥\"\n",
    "ret = my_agent.process(command, False) #执行代码\n",
    "print(\"ret:\", ret)"
   ]
  },
  {
   "cell_type": "code",
   "execution_count": 61,
   "id": "96bb9ea7-4d6c-4f31-970b-a2e0d03ece1e",
   "metadata": {},
   "outputs": [
    {
     "name": "stdout",
     "output_type": "stream",
     "text": [
      "桌子,橡皮鸭,可乐罐,白板,小桌子\n"
     ]
    }
   ],
   "source": [
    "#人工执行-----------------------------------------------------\n",
    "\n",
    "objects = aw.look()\n",
    "print(objects)"
   ]
  },
  {
   "cell_type": "code",
   "execution_count": 62,
   "id": "812e0966-6d8b-495a-a2bf-2fd864e8f4a3",
   "metadata": {},
   "outputs": [
    {
     "name": "stdout",
     "output_type": "stream",
     "text": [
      "ret: 代码：\n",
      "```python\n",
      "drinks = ['可乐罐']\n",
      "for drink in drinks:\n",
      "    position = aw.get_position(drink)\n",
      "    print(f\"{drink} 的位置是: {position}\")\n",
      "```\n",
      "原因：在已知环境中的物体有桌子、橡皮鸭、可乐罐、白板、小桌子的情况下，我们要找喝的。在这些物体里，只有“可乐罐”是可以喝的东西。所以我们创建了一个包含“可乐罐”的列表 `drinks`，然后使用 `for` 循环遍历这个列表。对于列表中的每个物品，使用 `aw.get_position()` 函数获取其位置，并将物品名称和对应的位置信息打印输出，这样就能找到可以喝的“可乐罐”的位置了。 \n"
     ]
    }
   ],
   "source": [
    "command = \"\"\"\n",
    "好的，环境能看到 桌子,橡皮鸭,可乐罐,白板,小桌子\n",
    "现在我渴了，请帮我找一杯喝的\n",
    "\"\"\"\n",
    "ret = my_agent.process(command, False) #不执行\n",
    "print(\"ret:\", ret)"
   ]
  },
  {
   "cell_type": "code",
   "execution_count": 63,
   "id": "1a1f1e84-b84f-4635-be75-d1a6b0c651b2",
   "metadata": {},
   "outputs": [
    {
     "name": "stdout",
     "output_type": "stream",
     "text": [
      "ret: 好的，我已经了解环境中物体的标准名称。如果你有进一步的需求，比如让无人机去获取饮料、查看某个物体的位置等，请随时告诉我，我会为你生成相应的代码并解释。 \n"
     ]
    }
   ],
   "source": [
    "command = \"\"\"\n",
    "收到，环境中的物体都有标准名称，包括 镜子、椅子、小鸭子、椰子水、可乐、兰花\n",
    "只有使用标准名称才能获得准确的位置\n",
    "\"\"\"\n",
    "ret = my_agent.process(command, False) #不执行\n",
    "print(\"ret:\", ret)"
   ]
  },
  {
   "cell_type": "code",
   "execution_count": 64,
   "id": "f0ca1a7e-637a-4f57-bb22-5a300cccc987",
   "metadata": {},
   "outputs": [
    {
     "name": "stdout",
     "output_type": "stream",
     "text": [
      "ret:\n",
      " 代码：\n",
      "```python\n",
      "target_drink = '可乐'\n",
      "drink_position = aw.get_position(target_drink)\n",
      "print(f\"{target_drink} 的位置是: {drink_position}\")\n",
      "```\n",
      "原因：在给定的环境物体标准名称中，“可乐”通常是带有糖且有红色标志的饮料。为了找到它的位置，我们首先明确目标饮料为“可乐”，将其赋值给变量 `target_drink`。然后使用 `aw.get_position()` 函数，传入目标饮料的名称，获取其 (X, Y, Z, 角度) 坐标位置，并将结果存储在 `drink_position` 变量中。最后通过 `print` 函数输出饮料名称及其位置，这样就能得知想要的饮料在环境中的具体位置了。 \n"
     ]
    }
   ],
   "source": [
    "command = \"\"\"\n",
    "好的，我想喝一些带有糖和红色标志的饮料\n",
    "\"\"\"\n",
    "ret = my_agent.process(command, False) #不执行\n",
    "print(\"ret:\\n\", ret)"
   ]
  },
  {
   "cell_type": "code",
   "execution_count": 65,
   "id": "0ae236d3-7c7c-4d6f-8079-11a7784634e6",
   "metadata": {},
   "outputs": [
    {
     "name": "stdout",
     "output_type": "stream",
     "text": [
      "ret:\n",
      " 代码：\n",
      "```python\n",
      "# 获取可乐的位置\n",
      "cola_position = aw.get_position('可乐')\n",
      "# 计算目标位置，沿X轴距离可乐3米前\n",
      "target_x = cola_position[0] - 3\n",
      "target_position = [target_x, cola_position[1], cola_position[2], cola_position[3]]\n",
      "# 让无人机飞到目标位置\n",
      "aw.fly_to(target_position)\n",
      "```\n",
      "原因：首先，我们使用 `aw.get_position('可乐')` 函数获取可乐的当前位置，将其存储在 `cola_position` 变量中。因为我们要飞到沿X轴距离可乐3米前的位置，所以从可乐位置的X坐标中减去3，得到目标位置的X坐标 `target_x`。然后，我们将目标位置的X坐标与可乐位置的Y、Z坐标和角度组合成一个新的 (X, Y, Z, 角度) 坐标列表 `target_position`。最后，使用 `aw.fly_to(target_position)` 函数命令无人机飞到计算得到的目标位置，从而实现飞到沿X轴距离可乐3米前的要求。 \n"
     ]
    }
   ],
   "source": [
    "command = \"\"\"\n",
    "可以飞过去吗？不过不要飞的太近，最好飞到沿X轴距离可乐3米前即可\n",
    "\"\"\"\n",
    "ret = my_agent.process(command, False) #不执行\n",
    "print(\"ret:\\n\", ret)"
   ]
  },
  {
   "cell_type": "code",
   "execution_count": 66,
   "id": "defbe4ee-221b-4198-8e81-40a03bb9f4c1",
   "metadata": {},
   "outputs": [],
   "source": [
    "#人工执行-----------------------------------------------------\n",
    "\n",
    "# 获取可乐的位置\n",
    "cola_position = aw.get_position('可乐')\n",
    "if cola_position:\n",
    "    # 计算目标位置，沿X轴距离可乐2米前\n",
    "    target_x = cola_position[0] - 3\n",
    "    target_position = [target_x, cola_position[1], cola_position[2], cola_position[3]]\n",
    "    # 飞到目标位置\n",
    "    aw.fly_to(target_position)\n",
    "else:\n",
    "    print(\"未找到可乐的位置，无法飞行。\")"
   ]
  },
  {
   "cell_type": "code",
   "execution_count": 67,
   "id": "467e5f68-90c1-4b8e-942c-f780a867f1e2",
   "metadata": {},
   "outputs": [
    {
     "name": "stdout",
     "output_type": "stream",
     "text": [
      "ret:\n",
      " 代码：\n",
      "```python\n",
      "# 假设可乐位置为自拍参考点\n",
      "cola_position = aw.get_position('可乐')\n",
      "# 计算无人机看向可乐的角度\n",
      "# 这里简化假设角度计算，实际可能需要更复杂的三角函数计算\n",
      "# 这里简单假设角度就是可乐的角度\n",
      "target_angle = cola_position[3]\n",
      "# 让无人机转向可乐方向\n",
      "aw.look_at(target_angle)\n",
      "# 这里虽然没有直接自拍的函数，但可以通过 look 模拟获取当前视角图像\n",
      "objects_in_view = aw.look()\n",
      "print(\"自拍视角看到的物体:\", objects_in_view)\n",
      "```\n",
      "原因：\n",
      "1. 首先，我们使用 `aw.get_position('可乐')` 函数获取可乐的位置信息，因为我们可以将可乐所在位置作为自拍的参考点，把这个位置信息存储在 `cola_position` 变量中。\n",
      "2. 接着，我们需要让无人机看向可乐的方向，这里简化处理，直接将可乐的角度作为无人机要转向的目标角度，存储在 `target_angle` 变量中。在实际情况中，可能需要根据无人机和可乐的位置使用三角函数来精确计算角度。\n",
      "3. 然后，使用 `aw.look_at(target_angle)` 函数让无人机转向目标角度，也就是朝向可乐的方向。\n",
      "4. 最后，由于没有直接的自拍函数，我们使用 `aw.look()` 函数模拟获取当前视角下图像中的物体列表，将结果存储在 `objects_in_view` 变量中，并通过 `print` 函数输出，以此来模拟自拍视角看到的内容。 \n"
     ]
    }
   ],
   "source": [
    "command = \"\"\"\n",
    "可以给个无人机来个自拍吗？\n",
    "\"\"\"\n",
    "ret = my_agent.process(command, False) #不执行\n",
    "print(\"ret:\\n\", ret)"
   ]
  },
  {
   "cell_type": "code",
   "execution_count": 68,
   "id": "6dac4a7f-18f7-4107-b0b9-374912831cd5",
   "metadata": {},
   "outputs": [
    {
     "name": "stdout",
     "output_type": "stream",
     "text": [
      "ret:\n",
      " 代码：\n",
      "```python\n",
      "# 获取镜子的位置\n",
      "mirror_position = aw.get_position('镜子')\n",
      "# 计算无人机要飞到的位置，假设在镜子正前方 2 米处（可根据实际调整）\n",
      "target_x = mirror_position[0] - 2\n",
      "target_position = [target_x, mirror_position[1], mirror_position[2], mirror_position[3]]\n",
      "# 让无人机飞到目标位置\n",
      "aw.fly_to(target_position)\n",
      "# 让无人机看向镜子方向\n",
      "aw.look_at(mirror_position[3])\n",
      "# 查看当前视角下的物体\n",
      "objects_in_view = aw.look()\n",
      "print(\"在镜子前看到的物体:\", objects_in_view)\n",
      "```\n",
      "原因：\n",
      "1. 第一步，使用 `aw.get_position('镜子')` 函数获取镜子的 (X, Y, Z, 角度) 坐标位置，并将其存储在 `mirror_position` 变量中，这样我们就知道镜子在环境中的具体位置了。\n",
      "2. 第二步，为了让无人机飞到镜子前面合适的位置，我们假设在镜子正前方 2 米处（这个距离可以根据实际情况进行调整）。通过从镜子位置的 X 坐标减去 2 得到目标位置的 X 坐标 `target_x`，然后将其与镜子位置的 Y、Z 坐标和角度组合成新的目标位置列表 `target_position`。\n",
      "3. 第三步，调用 `aw.fly_to(target_position)` 函数，命令无人机飞到计算好的目标位置，也就是镜子前面。\n",
      "4. 第四步，使用 `aw.look_at(mirror_position[3])` 函数让无人机转向镜子所在的角度，确保无人机正对着镜子。\n",
      "5. 最后，使用 `aw.look()` 函数获取当前视角下图像中的物体列表，存储在 `objects_in_view` 变量中，并通过 `print` 函数输出，这样就能知道在镜子前无人机看到了哪些物体，模拟了在镜子前“自拍”看到的场景。 \n"
     ]
    }
   ],
   "source": [
    "command = \"\"\"\n",
    "环境里面有镜子哦,可以先飞到镜子前面\n",
    "\"\"\"\n",
    "ret = my_agent.process(command, False) #不执行\n",
    "print(\"ret:\\n\", ret)"
   ]
  },
  {
   "cell_type": "code",
   "execution_count": 69,
   "id": "821a2a0e-bc7a-4a0c-9e5a-e87f89ee1c39",
   "metadata": {},
   "outputs": [
    {
     "name": "stdout",
     "output_type": "stream",
     "text": [
      "自拍视角下看到的物体列表: 草地,天空,广告牌\n"
     ]
    }
   ],
   "source": [
    "#人工执行-----------------------------------------------------\n",
    "\n",
    "# 获取镜子的位置\n",
    "mirror_position = aw.get_position('镜子')\n",
    "\n",
    "# 计算飞到镜子前的目标位置，假设沿X轴距离镜子1米前\n",
    "target_x = mirror_position[0] - 2\n",
    "target_position = [target_x, mirror_position[1], mirror_position[2], mirror_position[3]]\n",
    "\n",
    "# 让无人机飞到目标位置\n",
    "aw.fly_to(target_position)\n",
    "\n",
    "# 让无人机看向镜子的角度（这里简单假设角度不变）\n",
    "aw.look_at(0)\n",
    "\n",
    "# 模拟自拍，获取当前视角下的物体列表\n",
    "objects_in_view = aw.look()\n",
    "print(\"自拍视角下看到的物体列表:\", objects_in_view)\n"
   ]
  },
  {
   "cell_type": "code",
   "execution_count": 70,
   "id": "e5c82278-c782-40f4-9360-1afd2365fbdb",
   "metadata": {},
   "outputs": [
    {
     "name": "stdout",
     "output_type": "stream",
     "text": [
      "ret:\n",
      " 代码：\n",
      "```python\n",
      "# 获取兰花的位置\n",
      "orchid_position = aw.get_position('兰花')\n",
      "# 获取椅子的位置（虽然这里暂时不用于阻挡判断，但可用于后续扩展）\n",
      "chair_position = aw.get_position('椅子')\n",
      "\n",
      "# 定义半圆的半径\n",
      "radius = 2\n",
      "# 定义要检查的角度列表，从90度到 - 90度取4个点\n",
      "angles = [90, 30, -30, -90]\n",
      "\n",
      "# 存储路径点的列表\n",
      "path_points = []\n",
      "\n",
      "for angle in angles:\n",
      "    # 将角度转换为弧度\n",
      "    radian_angle = angle * (3.14159 / 180)\n",
      "    # 计算路径点的X和Y坐标\n",
      "    x = orchid_position[0] + radius * 3.14159 * radian_angle / 180\n",
      "    y = orchid_position[1] + radius * 3.14159 * radian_angle / 180\n",
      "    # 保持Z坐标和角度与兰花一致\n",
      "    z = orchid_position[2]\n",
      "    point_angle = orchid_position[3]\n",
      "    # 创建路径点\n",
      "    path_point = [x, y, z, point_angle]\n",
      "    path_points.append(path_point)\n",
      "\n",
      "# 让无人机沿着路径飞行\n",
      "aw.fly_path(path_points)\n",
      "\n",
      "# 在每个点上让无人机看向兰花\n",
      "for point in path_points:\n",
      "    # 这里假设兰花角度就是无人机要转向的角度\n",
      "    aw.look_at(orchid_position[3])\n",
      "    # 查看当前视角下的物体\n",
      "    objects_in_view = aw.look()\n",
      "    print(f\"在点 {point} 看到的物体: {objects_in_view}\")\n",
      "\n",
      "```\n",
      "原因：\n",
      "1. 首先，使用 `aw.get_position('兰花')` 和 `aw.get_position('椅子')` 分别获取兰花和椅子的位置，虽然椅子位置暂时不用于阻挡判断，但可用于后续功能扩展。\n",
      "2. 定义半圆的半径为 2 米，并确定要检查的 4 个角度，从 90 度到 - 90 度均匀分布。\n",
      "3. 对于每个角度，将其转换为弧度，然后根据三角函数原理计算出在半圆上对应点的 X 和 Y 坐标。Z 坐标和角度保持与兰花一致，这样就得到了一个路径点。将所有路径点存储在 `path_points` 列表中。\n",
      "4. 使用 `aw.fly_path(path_points)` 函数让无人机沿着这些路径点飞行。\n",
      "5. 对于每个路径点，使用 `aw.look_at(orchid_position[3])` 函数让无人机转向兰花的角度，确保无人机的航向指向兰花。然后使用 `aw.look()` 函数查看当前视角下的物体，并将结果打印输出，这样就能从不同的点检查兰花是否被椅子挡住了。 \n"
     ]
    }
   ],
   "source": [
    "command = \"\"\"\n",
    "太好了。现在我想看看我的兰花。然而，椅子可能挡住了它的视线，所以我想从90度到-90度、2米远的半圆上的4个点检查它。确保无人机的航向从每个点都指向兰花。\n",
    "\"\"\"\n",
    "\n",
    "ret = my_agent.process(command, False) #不执行\n",
    "print(\"ret:\\n\", ret)"
   ]
  },
  {
   "cell_type": "code",
   "execution_count": 71,
   "id": "b02a5e9d-514d-4cba-8c31-5bf896101d50",
   "metadata": {},
   "outputs": [
    {
     "name": "stdout",
     "output_type": "stream",
     "text": [
      "在角度 90.0 处看到的物体: 花,草地\n",
      "在角度 30.0 处看到的物体: 房子,花,桌子,草地\n",
      "在角度 -30.0 处看到的物体: 花,房子,桌子,草地\n",
      "在角度 -90.0 处看到的物体: 花朵,桌子,小黄鸭,可口可乐罐\n"
     ]
    }
   ],
   "source": [
    "import math\n",
    "import time\n",
    "\n",
    "# 获取兰花的位置\n",
    "orchid_position = aw.get_position('兰花')\n",
    "\n",
    "# 定义半圆的起始角度、结束角度和半径\n",
    "start_angle = 90\n",
    "end_angle = -90\n",
    "radius = 2\n",
    "\n",
    "# 计算4个检查点的角度\n",
    "angles = [start_angle + i * (end_angle - start_angle) / 3 for i in range(4)]\n",
    "\n",
    "# 遍历每个角度\n",
    "for angle in angles:\n",
    "    # 将角度转换为弧度\n",
    "    rad_angle = math.radians(angle)\n",
    "    # 计算检查点的位置\n",
    "    check_x = orchid_position[0] + radius * math.cos(rad_angle)\n",
    "    check_y = orchid_position[1] + radius * math.sin(rad_angle)\n",
    "    check_z = orchid_position[2]\n",
    "    check_point = [check_x, check_y, check_z, angle]\n",
    "\n",
    "    # 飞到检查点\n",
    "    aw.fly_to(check_point)\n",
    "\n",
    "    # 计算从检查点到兰花的角度\n",
    "    dx = orchid_position[0] - check_x\n",
    "    dy = orchid_position[1] - check_y\n",
    "    look_angle = math.atan2(dy, dx)\n",
    "    look_degrees = math.degrees(look_angle)\n",
    "\n",
    "    # 让无人机朝向兰花\n",
    "    aw.look_at(look_degrees)\n",
    "\n",
    "    # 查看当前视角下的物体\n",
    "    objects_in_view = aw.look()\n",
    "    print(f\"在角度 {angle} 处看到的物体: {objects_in_view}\")"
   ]
  },
  {
   "cell_type": "code",
   "execution_count": null,
   "id": "b101ae54-4600-406e-8f78-eb8d77af13f6",
   "metadata": {},
   "outputs": [],
   "source": []
  }
 ],
 "metadata": {
  "kernelspec": {
   "display_name": "Python 3 (ipykernel)",
   "language": "python",
   "name": "python3"
  },
  "language_info": {
   "codemirror_mode": {
    "name": "ipython",
    "version": 3
   },
   "file_extension": ".py",
   "mimetype": "text/x-python",
   "name": "python",
   "nbconvert_exporter": "python",
   "pygments_lexer": "ipython3",
   "version": "3.10.18"
  }
 },
 "nbformat": 4,
 "nbformat_minor": 5
}
