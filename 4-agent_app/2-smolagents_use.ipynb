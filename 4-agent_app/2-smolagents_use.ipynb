{
 "cells": [
  {
   "cell_type": "markdown",
   "id": "1680825d-d907-4276-8f66-f4f879845095",
   "metadata": {},
   "source": [
    "# 4.2 Smolagents 基本使用"
   ]
  },
  {
   "cell_type": "markdown",
   "id": "1cc278a6-2dad-4333-a9d0-fa3cb7a87283",
   "metadata": {},
   "source": [
    "### SmolAgents 框架解析\n",
    "\n",
    "**核心定位**：Hugging Face 推出的轻量级开源 Agent 框架，以**极简代码驱动复杂任务执行**为核心设计理念，支持快速构建高效、安全的智能体系统。其代码精简（核心逻辑约千行），强调“代码即行为”的代理模式，适用于动态任务规划与多工具协同场景。\n",
    "\n",
    "---\n",
    "\n",
    "#### **特点**\n",
    "1. **代码代理优先**  \n",
    "   • 直接通过 Python 代码定义 Agent 行为，取代传统 JSON/文本指令，减少 30% 的冗余步骤。例如，调用 `CodeAgent` 生成并执行代码片段完成数学计算或搜索任务。  \n",
    "   • 支持本地与远程（E2B 沙箱）代码执行，确保安全性。\n",
    "\n",
    "2. **多模态工具生态**  \n",
    "   • 集成 50+ 预置工具（如 DuckDuckGo 搜索、Google 地图 API），支持自定义工具开发并通过 `@tool` 装饰器快速注册。  \n",
    "   • 无缝对接 Hugging Face Hub，可共享和复用工具模型，例如调用社区上传的医疗诊断工具。\n",
    "\n",
    "3. **灵活模型兼容性**  \n",
    "   • 支持本地 Transformers 模型、Ollama 本地部署及 OpenAI、Anthropic 等商业 API，通过 LiteLLM 实现统一接口调用。  \n",
    "   • 示例：可快速切换 `HfApiModel`（云端）与 `TransformersModel`（本地）驱动 Agent。\n",
    "\n",
    "4. **动态规划与安全执行**  \n",
    "   • 基于 ReAct 框架实现多步推理循环，支持最大步数限制（默认 6 步）和规划间隔调节，动态优化任务路径。  \n",
    "   • 沙箱环境隔离敏感操作，避免代码注入风险，适用于企业级部署。\n",
    "\n",
    "---\n",
    "\n",
    "#### **适用场景**\n",
    "1. **自动化办公与数据分析**  \n",
    "   • 快速构建搜索引擎 Agent（如新闻摘要、股票查询），通过代码代理直接调用 API 并生成结构化报告。  \n",
    "   • 支持 SQL 生成、PDF 解析等工具链，适用于金融数据分析。\n",
    "\n",
    "2. **教育辅助与代码生成**  \n",
    "   • 解答数学问题（如生成斐波那契数列）、代码调试，通过 `CodeAgent` 直接执行 Python 代码验证结果。\n",
    "\n",
    "3. **工业流程优化**  \n",
    "   • 动态调整生产线排程，例如质检 Agent 与物流 Agent 协同，通过多工具调用实现实时决策。\n",
    "\n",
    "---\n",
    "\n",
    "#### **优势**\n",
    "1. **开发效率高**  \n",
    "   • 仅需 3 行代码即可构建基础 Agent（如搜索工具集成），显著降低开发门槛。  \n",
    "   • 模块化设计支持快速原型开发，例如通过 `step_callbacks` 监控执行过程。\n",
    "\n",
    "2. **学习曲线平缓**  \n",
    "   • 提供完整文档与示例代码（如新闻搜索、旅行规划案例），新手可快速上手。\n",
    "\n",
    "3. **安全与轻量化**  \n",
    "   • 核心依赖仅需 `pip install smolagents`，无冗余组件，支持本地与云端灵活部署。  \n",
    "   • 通过 `additional_authorized_imports` 控制代码执行权限，满足企业安全需求。\n",
    "\n",
    "---\n",
    "\n",
    "### 总结\n",
    "SmolAgents 凭借其极简代码架构和强大的工具生态，正成为轻量化 Agent 开发的首选框架。与 Phidata 的全栈特性相比，SmolAgents 更擅长**动态任务分解与代码驱动执行**，适合需要快速响应和灵活工具集成的场景。开发者可通过其 [GitHub 仓库](https://github.com/huggingface/smolagents) 获取最新动态与案例代码。"
   ]
  },
  {
   "cell_type": "code",
   "execution_count": 3,
   "id": "04662456-f025-43ee-b927-be6ce022d461",
   "metadata": {},
   "outputs": [],
   "source": [
    "#!pip install smolagents\n",
    "#!pip install smolagents[litellm]"
   ]
  },
  {
   "cell_type": "markdown",
   "id": "9d67bfc6-bf84-44b0-b378-fefdfed6502f",
   "metadata": {},
   "source": [
    "## 代码智能体\n",
    "\n",
    "代码智能体（Code agents）是 smolagents 中的默认智能体类型。它们生成 Python 工具调用来执行操作，实现高效、表达力强且准确的操作表示。\n",
    "\n",
    "它们的简化方法减少了所需操作的数量，简化了复杂操作，并实现了对现有代码函数的重用。smolagents 提供了一个轻量级框架，用约 1,000 行代码实现构建代码智能体（code agents）\n",
    "\n",
    "<img src=\"img/code_vs_json_actions.png\" width='720px' />\n",
    "\n",
    "典型的如无人机使用多步骤智能体过程中，大语言模型（LLM）编写并执行操作，通常涉及外部工具调用。传统方法使用 JSON 格式来指定工具名称和参数作为字符串，系统必须解析这些内容以确定要执行哪个工具。\n",
    "\n",
    "然而，研究表明，工具调用型大语言模型直接使用代码工作更有效。这是 smolagents 的核心原则，\n",
    "\n",
    "用代码而非 JSON 编写操作提供了几个关键优势：\n",
    "\n",
    "- 可组合性（Composability）：轻松组合和重用操作\n",
    "- 对象管理（Object Management）：直接处理复杂结构，如图像，这一点在无人机Agent中特别特别重要\n",
    "- 通用性（Generality）：表达任何计算上可能的任务\n",
    "- 适合大语言模型：高质量代码已存在于大语言模型的训练数据中\n"
   ]
  },
  {
   "cell_type": "markdown",
   "id": "db513b3f-5917-4a00-a9a1-1c34ac708c23",
   "metadata": {},
   "source": [
    "### huggingface smolagents教程\n",
    "\n",
    "Agent教程：https://huggingface.co/learn/agents-course/zh-CN/unit2/smolagents/introduction\n",
    "\n",
    "smolagents教程：https://huggingface.co/docs/smolagents/v1.11.0/index\n",
    "\n",
    "github:https://github.com/huggingface/smolagents"
   ]
  },
  {
   "cell_type": "code",
   "execution_count": 19,
   "id": "9ad65634-711b-4633-9f6d-73b140523284",
   "metadata": {},
   "outputs": [],
   "source": [
    "#声明一个基础大语言模型,支持本地化部署模型，openai兼容模型等\n",
    "\n",
    "from smolagents import CodeAgent, LiteLLMModel\n",
    "\n",
    "model = LiteLLMModel(\n",
    "    model_id=\"volcengine/doubao-1-5-pro-32k-250115\", # This model is a bit weak for agentic behaviours though\n",
    "    api_base=\"https://ark.cn-beijing.volces.com/api/v3\", # replace with 127.0.0.1:11434 or remote open-ai compatible server if necessary\n",
    "    api_key=\"ffd77d7c-f420-4b69-8557-80e7fa85c8b9\", # replace with API key if necessary，写自己的key\n",
    ")"
   ]
  },
  {
   "cell_type": "markdown",
   "id": "26f4bca3-013d-4292-bb65-4995f55bdd60",
   "metadata": {},
   "source": [
    "LiteLLMModel 教程：https://docs.litellm.ai/docs/providers/volcano"
   ]
  },
  {
   "cell_type": "code",
   "execution_count": 20,
   "id": "316886c8-8bef-4a4f-b7ed-24c15ea5ec10",
   "metadata": {},
   "outputs": [],
   "source": [
    "from smolagents import tool\n",
    "\n",
    "@tool\n",
    "def hello(your_name: str) -> str:\n",
    "    \"\"\"\n",
    "    这个工具返回三体人给你的第一句话\n",
    "\n",
    "    Args:\n",
    "        your_name: 你的名字\n",
    "    \"\"\"\n",
    "    word = \"Hello World, \" + \"Hello \" + your_name  \n",
    "    return word"
   ]
  },
  {
   "cell_type": "code",
   "execution_count": 21,
   "id": "cbc7db0d-1e93-4bed-a2f8-d92498ea02f0",
   "metadata": {},
   "outputs": [
    {
     "data": {
      "text/html": [
       "<pre style=\"white-space:pre;overflow-x:auto;line-height:normal;font-family:Menlo,'DejaVu Sans Mono',consolas,'Courier New',monospace\"><span style=\"color: #d4b702; text-decoration-color: #d4b702\">╭──────────────────────────────────────────────────── </span><span style=\"color: #d4b702; text-decoration-color: #d4b702; font-weight: bold\">New run</span><span style=\"color: #d4b702; text-decoration-color: #d4b702\"> ────────────────────────────────────────────────────╮</span>\n",
       "<span style=\"color: #d4b702; text-decoration-color: #d4b702\">│</span>                                                                                                                 <span style=\"color: #d4b702; text-decoration-color: #d4b702\">│</span>\n",
       "<span style=\"color: #d4b702; text-decoration-color: #d4b702\">│</span> <span style=\"font-weight: bold\">你是maris，你利用太阳反射波，和三体建立了第一次连接，三体人发送的第一句话是什么？</span>                               <span style=\"color: #d4b702; text-decoration-color: #d4b702\">│</span>\n",
       "<span style=\"color: #d4b702; text-decoration-color: #d4b702\">│</span>                                                                                                                 <span style=\"color: #d4b702; text-decoration-color: #d4b702\">│</span>\n",
       "<span style=\"color: #d4b702; text-decoration-color: #d4b702\">╰─ LiteLLMModel - volcengine/doubao-1-5-pro-32k-250115 ───────────────────────────────────────────────────────────╯</span>\n",
       "</pre>\n"
      ],
      "text/plain": [
       "\u001b[38;2;212;183;2m╭─\u001b[0m\u001b[38;2;212;183;2m───────────────────────────────────────────────────\u001b[0m\u001b[38;2;212;183;2m \u001b[0m\u001b[1;38;2;212;183;2mNew run\u001b[0m\u001b[38;2;212;183;2m \u001b[0m\u001b[38;2;212;183;2m───────────────────────────────────────────────────\u001b[0m\u001b[38;2;212;183;2m─╮\u001b[0m\n",
       "\u001b[38;2;212;183;2m│\u001b[0m                                                                                                                 \u001b[38;2;212;183;2m│\u001b[0m\n",
       "\u001b[38;2;212;183;2m│\u001b[0m \u001b[1m你是maris，你利用太阳反射波，和三体建立了第一次连接，三体人发送的第一句话是什么？\u001b[0m                               \u001b[38;2;212;183;2m│\u001b[0m\n",
       "\u001b[38;2;212;183;2m│\u001b[0m                                                                                                                 \u001b[38;2;212;183;2m│\u001b[0m\n",
       "\u001b[38;2;212;183;2m╰─\u001b[0m\u001b[38;2;212;183;2m LiteLLMModel - volcengine/doubao-1-5-pro-32k-250115 \u001b[0m\u001b[38;2;212;183;2m──────────────────────────────────────────────────────────\u001b[0m\u001b[38;2;212;183;2m─╯\u001b[0m\n"
      ]
     },
     "metadata": {},
     "output_type": "display_data"
    },
    {
     "data": {
      "text/html": [
       "<pre style=\"white-space:pre;overflow-x:auto;line-height:normal;font-family:Menlo,'DejaVu Sans Mono',consolas,'Courier New',monospace\"><span style=\"color: #d4b702; text-decoration-color: #d4b702\">━━━━━━━━━━━━━━━━━━━━━━━━━━━━━━━━━━━━━━━━━━━━━━━━━━━━━ </span><span style=\"font-weight: bold\">Step </span><span style=\"color: #008080; text-decoration-color: #008080; font-weight: bold\">1</span><span style=\"color: #d4b702; text-decoration-color: #d4b702\"> ━━━━━━━━━━━━━━━━━━━━━━━━━━━━━━━━━━━━━━━━━━━━━━━━━━━━━━</span>\n",
       "</pre>\n"
      ],
      "text/plain": [
       "\u001b[38;2;212;183;2m━━━━━━━━━━━━━━━━━━━━━━━━━━━━━━━━━━━━━━━━━━━━━━━━━━━━━ \u001b[0m\u001b[1mStep \u001b[0m\u001b[1;36m1\u001b[0m\u001b[38;2;212;183;2m ━━━━━━━━━━━━━━━━━━━━━━━━━━━━━━━━━━━━━━━━━━━━━━━━━━━━━━\u001b[0m\n"
      ]
     },
     "metadata": {},
     "output_type": "display_data"
    },
    {
     "data": {
      "text/html": [
       "<pre style=\"white-space:pre;overflow-x:auto;line-height:normal;font-family:Menlo,'DejaVu Sans Mono',consolas,'Courier New',monospace\"> ─ <span style=\"font-weight: bold\">Executing parsed code:</span> ──────────────────────────────────────────────────────────────────────────────────────── \n",
       "  <span style=\"color: #f8f8f2; text-decoration-color: #f8f8f2; background-color: #272822\">first_sentence </span><span style=\"color: #ff4689; text-decoration-color: #ff4689; background-color: #272822\">=</span><span style=\"color: #f8f8f2; text-decoration-color: #f8f8f2; background-color: #272822\"> hello(your_name</span><span style=\"color: #ff4689; text-decoration-color: #ff4689; background-color: #272822\">=</span><span style=\"color: #e6db74; text-decoration-color: #e6db74; background-color: #272822\">\"maris\"</span><span style=\"color: #f8f8f2; text-decoration-color: #f8f8f2; background-color: #272822\">)</span><span style=\"background-color: #272822\">                                                                      </span>  \n",
       "  <span style=\"color: #f8f8f2; text-decoration-color: #f8f8f2; background-color: #272822\">final_answer(first_sentence)</span><span style=\"background-color: #272822\">                                                                                   </span>  \n",
       " ───────────────────────────────────────────────────────────────────────────────────────────────────────────────── \n",
       "</pre>\n"
      ],
      "text/plain": [
       " ─ \u001b[1mExecuting parsed code:\u001b[0m ──────────────────────────────────────────────────────────────────────────────────────── \n",
       "  \u001b[38;2;248;248;242;48;2;39;40;34mfirst_sentence\u001b[0m\u001b[38;2;248;248;242;48;2;39;40;34m \u001b[0m\u001b[38;2;255;70;137;48;2;39;40;34m=\u001b[0m\u001b[38;2;248;248;242;48;2;39;40;34m \u001b[0m\u001b[38;2;248;248;242;48;2;39;40;34mhello\u001b[0m\u001b[38;2;248;248;242;48;2;39;40;34m(\u001b[0m\u001b[38;2;248;248;242;48;2;39;40;34myour_name\u001b[0m\u001b[38;2;255;70;137;48;2;39;40;34m=\u001b[0m\u001b[38;2;230;219;116;48;2;39;40;34m\"\u001b[0m\u001b[38;2;230;219;116;48;2;39;40;34mmaris\u001b[0m\u001b[38;2;230;219;116;48;2;39;40;34m\"\u001b[0m\u001b[38;2;248;248;242;48;2;39;40;34m)\u001b[0m\u001b[48;2;39;40;34m                                                                      \u001b[0m  \n",
       "  \u001b[38;2;248;248;242;48;2;39;40;34mfinal_answer\u001b[0m\u001b[38;2;248;248;242;48;2;39;40;34m(\u001b[0m\u001b[38;2;248;248;242;48;2;39;40;34mfirst_sentence\u001b[0m\u001b[38;2;248;248;242;48;2;39;40;34m)\u001b[0m\u001b[48;2;39;40;34m                                                                                   \u001b[0m  \n",
       " ───────────────────────────────────────────────────────────────────────────────────────────────────────────────── \n"
      ]
     },
     "metadata": {},
     "output_type": "display_data"
    },
    {
     "data": {
      "text/html": [
       "<pre style=\"white-space:pre;overflow-x:auto;line-height:normal;font-family:Menlo,'DejaVu Sans Mono',consolas,'Courier New',monospace\"><span style=\"color: #d4b702; text-decoration-color: #d4b702; font-weight: bold\">Out - Final answer: Hello World, Hello maris</span>\n",
       "</pre>\n"
      ],
      "text/plain": [
       "\u001b[1;38;2;212;183;2mOut - Final answer: Hello World, Hello maris\u001b[0m\n"
      ]
     },
     "metadata": {},
     "output_type": "display_data"
    },
    {
     "data": {
      "text/html": [
       "<pre style=\"white-space:pre;overflow-x:auto;line-height:normal;font-family:Menlo,'DejaVu Sans Mono',consolas,'Courier New',monospace\"><span style=\"color: #7f7f7f; text-decoration-color: #7f7f7f\">[Step 1: Duration 3.46 seconds| Input tokens: 2,236 | Output tokens: 70]</span>\n",
       "</pre>\n"
      ],
      "text/plain": [
       "\u001b[2m[Step 1: Duration 3.46 seconds| Input tokens: 2,236 | Output tokens: 70]\u001b[0m\n"
      ]
     },
     "metadata": {},
     "output_type": "display_data"
    },
    {
     "data": {
      "text/plain": [
       "'Hello World, Hello maris'"
      ]
     },
     "execution_count": 21,
     "metadata": {},
     "output_type": "execute_result"
    }
   ],
   "source": [
    "from smolagents import CodeAgent\n",
    "agent = CodeAgent(tools=[hello], model=model)\n",
    "agent.run(\n",
    "    \"你是maris，你利用太阳反射波，和三体建立了第一次连接，三体人发送的第一句话是什么？\"\n",
    ")"
   ]
  },
  {
   "cell_type": "markdown",
   "id": "7c45a7b4-8ea7-460a-b7f9-2225e5d741b5",
   "metadata": {},
   "source": [
    "## 标准函数写法\n",
    "\n",
    "- 一个清晰的名称。名称应该足够描述此工具的功能，以帮助 LLM 大脑为代理提供动力。由于此工具返回任务下载次数最多的模型，因此我们将其命名为model_download_tool。\n",
    "- 输入和输出的类型提示\n",
    "- 描述，包括“Args:”部分，其中描述了每个参数（这次没有类型指示，它将从类型提示中提取）。与工具名称一样，此描述是为代理提供支持的 LLM 的说明手册，因此请不要忽视它。所有这些元素将在初始化时自动嵌入到代理的系统提示中：因此请努力使它们尽可能清晰！"
   ]
  },
  {
   "cell_type": "code",
   "execution_count": 11,
   "id": "1f26894b-d939-49e0-9446-402676c85c3b",
   "metadata": {},
   "outputs": [
    {
     "name": "stdout",
     "output_type": "stream",
     "text": [
      "\n",
      "\n",
      "The first task step was:\n",
      "你是maris，你利用太阳反射波，和三体建立了第一次连接，三体人发送的第一句话是什么？\n",
      "\n",
      "Step 1 got these observations:\n",
      "Execution logs:\n",
      "Last output from code snippet:\n",
      "Hello World, Hello maris\n",
      "\n"
     ]
    }
   ],
   "source": [
    "from smolagents import ActionStep\n",
    "\n",
    "system_prompt_step = agent.memory.system_prompt\n",
    "#print(\"The system prompt given to the agent was:\")\n",
    "#print(system_prompt_step.system_prompt)\n",
    "\n",
    "task_step = agent.memory.steps[0]\n",
    "print(\"\\n\\nThe first task step was:\")\n",
    "print(task_step.task)\n",
    "\n",
    "for step in agent.memory.steps:\n",
    "    if isinstance(step, ActionStep):\n",
    "        if step.error is not None:\n",
    "            print(f\"\\nStep {step.step_number} got this error:\\n{step.error}\\n\")\n",
    "        else:\n",
    "            print(f\"\\nStep {step.step_number} got these observations:\\n{step.observations}\\n\")"
   ]
  },
  {
   "cell_type": "code",
   "execution_count": 22,
   "id": "969f9632-093a-4af3-a2b7-b613cc8af4ee",
   "metadata": {},
   "outputs": [],
   "source": [
    "import sys\n",
    "sys.path.append('../external-libraries')\n",
    "import airsim\n",
    "import math\n",
    "import numpy as np\n",
    "import cv2\n",
    "import base64\n",
    "import os\n",
    "from openai import OpenAI\n",
    "from gdino import GroundingDINOAPIWrapper, visualize\n",
    "from PIL import Image\n",
    "import uuid\n",
    "from smolagents import tool\n",
    "\n",
    "\n",
    "@tool\n",
    "def takeoff() -> str:\n",
    "    \"\"\"\n",
    "    起飞无人机。返回为字符串，表示动作是否成功。\n",
    "    \"\"\"\n",
    "    client = airsim.MultirotorClient()#run in some machine of airsim,otherwise,set ip=\"\" of airsim\n",
    "    client.confirmConnection()\n",
    "    client.enableApiControl(True)\n",
    "    client.armDisarm(True)\n",
    "    client.takeoffAsync().join()\n",
    "\n",
    "    return \"成功\"\n",
    "\n",
    "\n",
    "\n",
    "@tool\n",
    "def land() -> str:\n",
    "    \"\"\"\n",
    "    降落无人机。返回为字符串，表示动作是否成功。\n",
    "    \"\"\"\n",
    "    client = airsim.MultirotorClient()#run in some machine of airsim,otherwise,set ip=\"\" of airsim\n",
    "    client.landAsync().join()\n",
    "\n",
    "    return \"成功\""
   ]
  },
  {
   "cell_type": "code",
   "execution_count": 23,
   "id": "7cee68f4-5a08-4f46-9d39-f8f2d03addad",
   "metadata": {},
   "outputs": [
    {
     "data": {
      "text/html": [
       "<pre style=\"white-space:pre;overflow-x:auto;line-height:normal;font-family:Menlo,'DejaVu Sans Mono',consolas,'Courier New',monospace\"><span style=\"color: #d4b702; text-decoration-color: #d4b702\">╭──────────────────────────────────────────────────── </span><span style=\"color: #d4b702; text-decoration-color: #d4b702; font-weight: bold\">New run</span><span style=\"color: #d4b702; text-decoration-color: #d4b702\"> ────────────────────────────────────────────────────╮</span>\n",
       "<span style=\"color: #d4b702; text-decoration-color: #d4b702\">│</span>                                                                                                                 <span style=\"color: #d4b702; text-decoration-color: #d4b702\">│</span>\n",
       "<span style=\"color: #d4b702; text-decoration-color: #d4b702\">│</span> <span style=\"font-weight: bold\">请先起飞无人机，然后停留3s，然后再降落</span>                                                                          <span style=\"color: #d4b702; text-decoration-color: #d4b702\">│</span>\n",
       "<span style=\"color: #d4b702; text-decoration-color: #d4b702\">│</span>                                                                                                                 <span style=\"color: #d4b702; text-decoration-color: #d4b702\">│</span>\n",
       "<span style=\"color: #d4b702; text-decoration-color: #d4b702\">╰─ LiteLLMModel - volcengine/doubao-1-5-pro-32k-250115 ───────────────────────────────────────────────────────────╯</span>\n",
       "</pre>\n"
      ],
      "text/plain": [
       "\u001b[38;2;212;183;2m╭─\u001b[0m\u001b[38;2;212;183;2m───────────────────────────────────────────────────\u001b[0m\u001b[38;2;212;183;2m \u001b[0m\u001b[1;38;2;212;183;2mNew run\u001b[0m\u001b[38;2;212;183;2m \u001b[0m\u001b[38;2;212;183;2m───────────────────────────────────────────────────\u001b[0m\u001b[38;2;212;183;2m─╮\u001b[0m\n",
       "\u001b[38;2;212;183;2m│\u001b[0m                                                                                                                 \u001b[38;2;212;183;2m│\u001b[0m\n",
       "\u001b[38;2;212;183;2m│\u001b[0m \u001b[1m请先起飞无人机，然后停留3s，然后再降落\u001b[0m                                                                          \u001b[38;2;212;183;2m│\u001b[0m\n",
       "\u001b[38;2;212;183;2m│\u001b[0m                                                                                                                 \u001b[38;2;212;183;2m│\u001b[0m\n",
       "\u001b[38;2;212;183;2m╰─\u001b[0m\u001b[38;2;212;183;2m LiteLLMModel - volcengine/doubao-1-5-pro-32k-250115 \u001b[0m\u001b[38;2;212;183;2m──────────────────────────────────────────────────────────\u001b[0m\u001b[38;2;212;183;2m─╯\u001b[0m\n"
      ]
     },
     "metadata": {},
     "output_type": "display_data"
    },
    {
     "data": {
      "text/html": [
       "<pre style=\"white-space:pre;overflow-x:auto;line-height:normal;font-family:Menlo,'DejaVu Sans Mono',consolas,'Courier New',monospace\"><span style=\"color: #d4b702; text-decoration-color: #d4b702\">━━━━━━━━━━━━━━━━━━━━━━━━━━━━━━━━━━━━━━━━━━━━━━━━━━━━━ </span><span style=\"font-weight: bold\">Step </span><span style=\"color: #008080; text-decoration-color: #008080; font-weight: bold\">1</span><span style=\"color: #d4b702; text-decoration-color: #d4b702\"> ━━━━━━━━━━━━━━━━━━━━━━━━━━━━━━━━━━━━━━━━━━━━━━━━━━━━━━</span>\n",
       "</pre>\n"
      ],
      "text/plain": [
       "\u001b[38;2;212;183;2m━━━━━━━━━━━━━━━━━━━━━━━━━━━━━━━━━━━━━━━━━━━━━━━━━━━━━ \u001b[0m\u001b[1mStep \u001b[0m\u001b[1;36m1\u001b[0m\u001b[38;2;212;183;2m ━━━━━━━━━━━━━━━━━━━━━━━━━━━━━━━━━━━━━━━━━━━━━━━━━━━━━━\u001b[0m\n"
      ]
     },
     "metadata": {},
     "output_type": "display_data"
    },
    {
     "data": {
      "text/html": [
       "<pre style=\"white-space:pre;overflow-x:auto;line-height:normal;font-family:Menlo,'DejaVu Sans Mono',consolas,'Courier New',monospace\"> ─ <span style=\"font-weight: bold\">Executing parsed code:</span> ──────────────────────────────────────────────────────────────────────────────────────── \n",
       "  <span style=\"color: #ff4689; text-decoration-color: #ff4689; background-color: #272822\">import</span><span style=\"color: #f8f8f2; text-decoration-color: #f8f8f2; background-color: #272822\"> time</span><span style=\"background-color: #272822\">                                                                                                    </span>  \n",
       "  <span style=\"color: #f8f8f2; text-decoration-color: #f8f8f2; background-color: #272822\">takeoff_result </span><span style=\"color: #ff4689; text-decoration-color: #ff4689; background-color: #272822\">=</span><span style=\"color: #f8f8f2; text-decoration-color: #f8f8f2; background-color: #272822\"> takeoff()</span><span style=\"background-color: #272822\">                                                                                     </span>  \n",
       "  <span style=\"color: #f8f8f2; text-decoration-color: #f8f8f2; background-color: #272822\">print(</span><span style=\"color: #e6db74; text-decoration-color: #e6db74; background-color: #272822\">\"起飞结果:\"</span><span style=\"color: #f8f8f2; text-decoration-color: #f8f8f2; background-color: #272822\">, takeoff_result)</span><span style=\"background-color: #272822\">                                                                             </span>  \n",
       "  <span style=\"color: #f8f8f2; text-decoration-color: #f8f8f2; background-color: #272822\">time</span><span style=\"color: #ff4689; text-decoration-color: #ff4689; background-color: #272822\">.</span><span style=\"color: #f8f8f2; text-decoration-color: #f8f8f2; background-color: #272822\">sleep(</span><span style=\"color: #ae81ff; text-decoration-color: #ae81ff; background-color: #272822\">3</span><span style=\"color: #f8f8f2; text-decoration-color: #f8f8f2; background-color: #272822\">)</span><span style=\"background-color: #272822\">                                                                                                  </span>  \n",
       "  <span style=\"color: #f8f8f2; text-decoration-color: #f8f8f2; background-color: #272822\">land_result </span><span style=\"color: #ff4689; text-decoration-color: #ff4689; background-color: #272822\">=</span><span style=\"color: #f8f8f2; text-decoration-color: #f8f8f2; background-color: #272822\"> land()</span><span style=\"background-color: #272822\">                                                                                           </span>  \n",
       "  <span style=\"color: #f8f8f2; text-decoration-color: #f8f8f2; background-color: #272822\">final_answer(</span><span style=\"color: #e6db74; text-decoration-color: #e6db74; background-color: #272822\">f\"起飞结果: {</span><span style=\"color: #f8f8f2; text-decoration-color: #f8f8f2; background-color: #272822\">takeoff_result</span><span style=\"color: #e6db74; text-decoration-color: #e6db74; background-color: #272822\">}, 降落结果: {</span><span style=\"color: #f8f8f2; text-decoration-color: #f8f8f2; background-color: #272822\">land_result</span><span style=\"color: #e6db74; text-decoration-color: #e6db74; background-color: #272822\">}\"</span><span style=\"color: #f8f8f2; text-decoration-color: #f8f8f2; background-color: #272822\">)</span><span style=\"background-color: #272822\">                                           </span>  \n",
       " ───────────────────────────────────────────────────────────────────────────────────────────────────────────────── \n",
       "</pre>\n"
      ],
      "text/plain": [
       " ─ \u001b[1mExecuting parsed code:\u001b[0m ──────────────────────────────────────────────────────────────────────────────────────── \n",
       "  \u001b[38;2;255;70;137;48;2;39;40;34mimport\u001b[0m\u001b[38;2;248;248;242;48;2;39;40;34m \u001b[0m\u001b[38;2;248;248;242;48;2;39;40;34mtime\u001b[0m\u001b[48;2;39;40;34m                                                                                                    \u001b[0m  \n",
       "  \u001b[38;2;248;248;242;48;2;39;40;34mtakeoff_result\u001b[0m\u001b[38;2;248;248;242;48;2;39;40;34m \u001b[0m\u001b[38;2;255;70;137;48;2;39;40;34m=\u001b[0m\u001b[38;2;248;248;242;48;2;39;40;34m \u001b[0m\u001b[38;2;248;248;242;48;2;39;40;34mtakeoff\u001b[0m\u001b[38;2;248;248;242;48;2;39;40;34m(\u001b[0m\u001b[38;2;248;248;242;48;2;39;40;34m)\u001b[0m\u001b[48;2;39;40;34m                                                                                     \u001b[0m  \n",
       "  \u001b[38;2;248;248;242;48;2;39;40;34mprint\u001b[0m\u001b[38;2;248;248;242;48;2;39;40;34m(\u001b[0m\u001b[38;2;230;219;116;48;2;39;40;34m\"\u001b[0m\u001b[38;2;230;219;116;48;2;39;40;34m起飞结果:\u001b[0m\u001b[38;2;230;219;116;48;2;39;40;34m\"\u001b[0m\u001b[38;2;248;248;242;48;2;39;40;34m,\u001b[0m\u001b[38;2;248;248;242;48;2;39;40;34m \u001b[0m\u001b[38;2;248;248;242;48;2;39;40;34mtakeoff_result\u001b[0m\u001b[38;2;248;248;242;48;2;39;40;34m)\u001b[0m\u001b[48;2;39;40;34m                                                                             \u001b[0m  \n",
       "  \u001b[38;2;248;248;242;48;2;39;40;34mtime\u001b[0m\u001b[38;2;255;70;137;48;2;39;40;34m.\u001b[0m\u001b[38;2;248;248;242;48;2;39;40;34msleep\u001b[0m\u001b[38;2;248;248;242;48;2;39;40;34m(\u001b[0m\u001b[38;2;174;129;255;48;2;39;40;34m3\u001b[0m\u001b[38;2;248;248;242;48;2;39;40;34m)\u001b[0m\u001b[48;2;39;40;34m                                                                                                  \u001b[0m  \n",
       "  \u001b[38;2;248;248;242;48;2;39;40;34mland_result\u001b[0m\u001b[38;2;248;248;242;48;2;39;40;34m \u001b[0m\u001b[38;2;255;70;137;48;2;39;40;34m=\u001b[0m\u001b[38;2;248;248;242;48;2;39;40;34m \u001b[0m\u001b[38;2;248;248;242;48;2;39;40;34mland\u001b[0m\u001b[38;2;248;248;242;48;2;39;40;34m(\u001b[0m\u001b[38;2;248;248;242;48;2;39;40;34m)\u001b[0m\u001b[48;2;39;40;34m                                                                                           \u001b[0m  \n",
       "  \u001b[38;2;248;248;242;48;2;39;40;34mfinal_answer\u001b[0m\u001b[38;2;248;248;242;48;2;39;40;34m(\u001b[0m\u001b[38;2;230;219;116;48;2;39;40;34mf\u001b[0m\u001b[38;2;230;219;116;48;2;39;40;34m\"\u001b[0m\u001b[38;2;230;219;116;48;2;39;40;34m起飞结果: \u001b[0m\u001b[38;2;230;219;116;48;2;39;40;34m{\u001b[0m\u001b[38;2;248;248;242;48;2;39;40;34mtakeoff_result\u001b[0m\u001b[38;2;230;219;116;48;2;39;40;34m}\u001b[0m\u001b[38;2;230;219;116;48;2;39;40;34m, 降落结果: \u001b[0m\u001b[38;2;230;219;116;48;2;39;40;34m{\u001b[0m\u001b[38;2;248;248;242;48;2;39;40;34mland_result\u001b[0m\u001b[38;2;230;219;116;48;2;39;40;34m}\u001b[0m\u001b[38;2;230;219;116;48;2;39;40;34m\"\u001b[0m\u001b[38;2;248;248;242;48;2;39;40;34m)\u001b[0m\u001b[48;2;39;40;34m                                           \u001b[0m  \n",
       " ───────────────────────────────────────────────────────────────────────────────────────────────────────────────── \n"
      ]
     },
     "metadata": {},
     "output_type": "display_data"
    },
    {
     "name": "stdout",
     "output_type": "stream",
     "text": [
      "Connected!\n",
      "Client Ver:1 (Min Req: 1), Server Ver:1 (Min Req: 1)\n",
      "\n"
     ]
    },
    {
     "data": {
      "text/html": [
       "<pre style=\"white-space:pre;overflow-x:auto;line-height:normal;font-family:Menlo,'DejaVu Sans Mono',consolas,'Courier New',monospace\"><span style=\"font-weight: bold\">Execution logs:</span>\n",
       "起飞结果: 成功\n",
       "\n",
       "<span style=\"color: #d4b702; text-decoration-color: #d4b702; font-weight: bold\">Out - Final answer: 起飞结果: 成功, 降落结果: 成功</span>\n",
       "</pre>\n"
      ],
      "text/plain": [
       "\u001b[1mExecution logs:\u001b[0m\n",
       "起飞结果: 成功\n",
       "\n",
       "\u001b[1;38;2;212;183;2mOut - Final answer: 起飞结果: 成功, 降落结果: 成功\u001b[0m\n"
      ]
     },
     "metadata": {},
     "output_type": "display_data"
    },
    {
     "data": {
      "text/html": [
       "<pre style=\"white-space:pre;overflow-x:auto;line-height:normal;font-family:Menlo,'DejaVu Sans Mono',consolas,'Courier New',monospace\"><span style=\"color: #7f7f7f; text-decoration-color: #7f7f7f\">[Step 1: Duration 17.81 seconds| Input tokens: 2,241 | Output tokens: 120]</span>\n",
       "</pre>\n"
      ],
      "text/plain": [
       "\u001b[2m[Step 1: Duration 17.81 seconds| Input tokens: 2,241 | Output tokens: 120]\u001b[0m\n"
      ]
     },
     "metadata": {},
     "output_type": "display_data"
    },
    {
     "data": {
      "text/plain": [
       "'起飞结果: 成功, 降落结果: 成功'"
      ]
     },
     "execution_count": 23,
     "metadata": {},
     "output_type": "execute_result"
    }
   ],
   "source": [
    "agent = CodeAgent(tools=[takeoff, land], model=model)\n",
    "agent.run(\n",
    "    \"请先起飞无人机，然后停留3s，然后再降落\"\n",
    ")"
   ]
  },
  {
   "cell_type": "code",
   "execution_count": null,
   "id": "771a5163-219b-49ea-8459-5b82b4c3f9ea",
   "metadata": {},
   "outputs": [],
   "source": []
  }
 ],
 "metadata": {
  "kernelspec": {
   "display_name": "Python 3 (ipykernel)",
   "language": "python",
   "name": "python3"
  },
  "language_info": {
   "codemirror_mode": {
    "name": "ipython",
    "version": 3
   },
   "file_extension": ".py",
   "mimetype": "text/x-python",
   "name": "python",
   "nbconvert_exporter": "python",
   "pygments_lexer": "ipython3",
   "version": "3.10.16"
  }
 },
 "nbformat": 4,
 "nbformat_minor": 5
}
