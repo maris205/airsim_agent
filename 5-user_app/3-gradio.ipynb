{
 "cells": [
  {
   "metadata": {},
   "cell_type": "markdown",
   "source": "# 5.3 gradio简介",
   "id": "9d0e2582bb5d72e0"
  },
  {
   "metadata": {},
   "cell_type": "markdown",
   "source": [
    "## 安装&基本用法\n",
    "\n",
    "2.Python第三方库Gradio快速上手，  * python版本要求3.7及以上"
   ],
   "id": "63633a0cf2a41aa8"
  },
  {
   "metadata": {},
   "cell_type": "code",
   "source": [
    "Gradio 是一个用于创建机器学习模型交互式界面的 Python 库。通过 Gradio，开发者可以快速地为模型构建一个可视化的、易于使用的 Web 界面，无需编写任何 Web 前端代码\n",
    "Gradio的主要功能\n",
    "\n",
    "1多种输入和输出类型：Gradio 支持多种不同类型的输入（如文本、图像、音频等）和输出（如文本、图像、HTML等），并且可以直接在 Python 脚本中定义这些输入/输出和处理函数之间的关系\n",
    "\n",
    "2快速创建和部署：Gradio 可以快速创建一个交互式的界面，并通过内置的共享功能生成一个 URL，使得用户可以在浏览器中打开这个 URL 来与模型进行交互\n",
    "\n",
    "3易于使用：Gradio 的设计理念是“无代码”，开发者只需要几行代码就可以为他们的模型创建一个交互式的预览界面\n",
    "\n",
    "pip install gradio\n",
    "\n",
    "#清华镜像源\n",
    "pip install -i https://pypi.tuna.tsinghua.edu.cn/simple gradio"
   ],
   "id": "c3370eb0ab601542",
   "outputs": [],
   "execution_count": null
  },
  {
   "metadata": {
    "ExecuteTime": {
     "end_time": "2025-03-31T11:05:10.711172Z",
     "start_time": "2025-03-31T11:05:09.910017Z"
    }
   },
   "cell_type": "code",
   "source": [
    "import gradio as gr\n",
    "\n",
    "# 定义一个简单的函数\n",
    "def greet(name):\n",
    "    return f\"Hello, {name}!\"\n",
    "\n",
    "# 创建 Gradio 界面\n",
    "with gr.Blocks() as demo:\n",
    "    # 添加标题\n",
    "    gr.Markdown(\"### 简单的问候程序\")\n",
    "\n",
    "    # 输入组件：文本框\n",
    "    name_input = gr.Textbox(label=\"请输入你的名字\")\n",
    "\n",
    "    # 输出组件：文本框\n",
    "    output_text = gr.Textbox(label=\"问候结果\")\n",
    "\n",
    "    # 按钮触发处理\n",
    "    submit_button = gr.Button(\"提交\")\n",
    "\n",
    "    # 绑定按钮点击事件到函数\n",
    "    submit_button.click(greet, inputs=name_input, outputs=output_text)\n",
    "\n",
    "# 启动 Gradio 应用\n",
    "demo.launch()"
   ],
   "id": "9b643833091d52de",
   "outputs": [
    {
     "name": "stdout",
     "output_type": "stream",
     "text": [
      "* Running on local URL:  http://127.0.0.1:7877\n",
      "\n",
      "To create a public link, set `share=True` in `launch()`.\n"
     ]
    },
    {
     "data": {
      "text/plain": [
       "<IPython.core.display.HTML object>"
      ],
      "text/html": [
       "<div><iframe src=\"http://127.0.0.1:7877/\" width=\"100%\" height=\"500\" allow=\"autoplay; camera; microphone; clipboard-read; clipboard-write;\" frameborder=\"0\" allowfullscreen></iframe></div>"
      ]
     },
     "metadata": {},
     "output_type": "display_data"
    },
    {
     "data": {
      "text/plain": []
     },
     "execution_count": 20,
     "metadata": {},
     "output_type": "execute_result"
    }
   ],
   "execution_count": 20
  },
  {
   "metadata": {},
   "cell_type": "markdown",
   "source": "# 计算器",
   "id": "d101a1b1dee9e4a0"
  },
  {
   "metadata": {},
   "cell_type": "code",
   "source": [
    "import gradio as gr\n",
    "\n",
    "# 定义一个简单的函数\n",
    "def add_numbers(num1, num2):\n",
    "    return num1 + num2\n",
    "\n",
    "# 创建 Gradio 界面\n",
    "with gr.Blocks() as demo:\n",
    "    # 添加标题\n",
    "    gr.Markdown(\"## 简单加法计算器\")\n",
    "\n",
    "    # 输入组件\n",
    "    num1_input = gr.Number(label=\"输入第一个数字\", value=0)\n",
    "    num2_input = gr.Number(label=\"输入第二个数字\", value=0)\n",
    "\n",
    "    # 输出组件\n",
    "    output = gr.Number(label=\"结果\")\n",
    "\n",
    "    # 按钮与功能绑定\n",
    "    add_button = gr.Button(\"计算\")\n",
    "    add_button.click(add_numbers, inputs=[num1_input, num2_input], outputs=output)\n",
    "\n",
    "# 启动界面\n",
    "demo.launch()"
   ],
   "id": "912766caf938a195",
   "outputs": [],
   "execution_count": null
  },
  {
   "metadata": {},
   "cell_type": "markdown",
   "source": "# 文本\n",
   "id": "b794380946a4483c"
  },
  {
   "metadata": {
    "ExecuteTime": {
     "end_time": "2025-03-31T11:04:34.346674Z",
     "start_time": "2025-03-31T11:04:33.424571Z"
    }
   },
   "cell_type": "code",
   "source": [
    "import gradio as gr\n",
    "\n",
    "# 定义一个文本生成函数\n",
    "def generate_response(prompt):\n",
    "    return f\"你输入的内容是: {prompt}\"\n",
    "\n",
    "# 创建 Gradio 界面\n",
    "with gr.Blocks() as demo:\n",
    "    gr.Markdown(\"# 文本生成器\")\n",
    "\n",
    "    with gr.Row():\n",
    "        input_text = gr.Textbox(label=\"输入你的问题\", lines=3)\n",
    "        output_text = gr.Textbox(label=\"生成的结果\", lines=3)\n",
    "\n",
    "    submit_button = gr.Button(\"生成\")\n",
    "    submit_button.click(generate_response, inputs=input_text, outputs=output_text)\n",
    "\n",
    "# 启动界面\n",
    "demo.launch()"
   ],
   "id": "feb1e62393172049",
   "outputs": [
    {
     "name": "stdout",
     "output_type": "stream",
     "text": [
      "* Running on local URL:  http://127.0.0.1:7867\n",
      "\n",
      "To create a public link, set `share=True` in `launch()`.\n"
     ]
    },
    {
     "data": {
      "text/plain": [
       "<IPython.core.display.HTML object>"
      ],
      "text/html": [
       "<div><iframe src=\"http://127.0.0.1:7867/\" width=\"100%\" height=\"500\" allow=\"autoplay; camera; microphone; clipboard-read; clipboard-write;\" frameborder=\"0\" allowfullscreen></iframe></div>"
      ]
     },
     "metadata": {},
     "output_type": "display_data"
    },
    {
     "data": {
      "text/plain": []
     },
     "execution_count": 19,
     "metadata": {},
     "output_type": "execute_result"
    }
   ],
   "execution_count": 19
  },
  {
   "metadata": {
    "ExecuteTime": {
     "end_time": "2025-03-31T11:07:21.281041Z",
     "start_time": "2025-03-31T11:07:20.175552Z"
    }
   },
   "cell_type": "code",
   "source": [
    "import gradio as gr\n",
    "scores = []\n",
    "def track_score(score):\n",
    "    scores.append(score)\n",
    "    #返回分数top3\n",
    "    top_scores = sorted(scores, reverse=True)[:3]\n",
    "    return top_scores\n",
    "demo = gr.Interface(\n",
    "    track_score,\n",
    "    gr.Number(label=\"Score\"),\n",
    "    gr.JSON(label=\"Top Scores\")\n",
    ")\n",
    "demo.launch()"
   ],
   "id": "57bedd3bb31e7e21",
   "outputs": [
    {
     "name": "stdout",
     "output_type": "stream",
     "text": [
      "* Running on local URL:  http://127.0.0.1:7878\n",
      "\n",
      "To create a public link, set `share=True` in `launch()`.\n"
     ]
    },
    {
     "data": {
      "text/plain": [
       "<IPython.core.display.HTML object>"
      ],
      "text/html": [
       "<div><iframe src=\"http://127.0.0.1:7878/\" width=\"100%\" height=\"500\" allow=\"autoplay; camera; microphone; clipboard-read; clipboard-write;\" frameborder=\"0\" allowfullscreen></iframe></div>"
      ]
     },
     "metadata": {},
     "output_type": "display_data"
    },
    {
     "data": {
      "text/plain": []
     },
     "execution_count": 21,
     "metadata": {},
     "output_type": "execute_result"
    }
   ],
   "execution_count": 21
  },
  {
   "metadata": {
    "ExecuteTime": {
     "end_time": "2025-03-31T11:19:30.308516Z",
     "start_time": "2025-03-31T11:19:06.468963Z"
    }
   },
   "cell_type": "code",
   "source": [
    "import gradio as gr\n",
    "from PIL import Image, ImageOps\n",
    "\n",
    "# 定义将图片转为黑白的函数\n",
    "def convert_to_grayscale(image):\n",
    "    # 使用 PIL 库将图片转换为黑白\n",
    "    grayscale_image = ImageOps.grayscale(image)\n",
    "    return grayscale_image\n",
    "\n",
    "# 创建 Gradio 界面\n",
    "with gr.Blocks() as demo:\n",
    "    with gr.Row():\n",
    "        input_image = gr.Image(label=\"上传图片\", type=\"pil\")  # 输入图片组件\n",
    "        output_image = gr.Image(label=\"黑白图片\", type=\"pil\")  # 输出图片组件\n",
    "    submit_button = gr.Button(\"转换为黑白\")  # 提交按钮\n",
    "\n",
    "    # 按钮点击事件绑定处理函数\n",
    "    submit_button.click(convert_to_grayscale, inputs=input_image, outputs=output_image)\n",
    "\n",
    "# 启动 Gradio 应用\n",
    "demo.launch(share=True)"
   ],
   "id": "45e704f8380e99bd",
   "outputs": [
    {
     "name": "stdout",
     "output_type": "stream",
     "text": [
      "* Running on local URL:  http://127.0.0.1:7880\n",
      "\n",
      "Could not create share link. Missing file: C:\\Users\\qixin\\.conda\\envs\\airsim_agent\\lib\\site-packages\\gradio\\frpc_windows_amd64_v0.3. \n",
      "\n",
      "Please check your internet connection. This can happen if your antivirus software blocks the download of this file. You can install manually by following these steps: \n",
      "\n",
      "1. Download this file: https://cdn-media.huggingface.co/frpc-gradio-0.3/frpc_windows_amd64.exe\n",
      "2. Rename the downloaded file to: frpc_windows_amd64_v0.3\n",
      "3. Move the file to this location: C:\\Users\\qixin\\.conda\\envs\\airsim_agent\\lib\\site-packages\\gradio\n"
     ]
    },
    {
     "data": {
      "text/plain": [
       "<IPython.core.display.HTML object>"
      ],
      "text/html": [
       "<div><iframe src=\"http://127.0.0.1:7880/\" width=\"100%\" height=\"500\" allow=\"autoplay; camera; microphone; clipboard-read; clipboard-write;\" frameborder=\"0\" allowfullscreen></iframe></div>"
      ]
     },
     "metadata": {},
     "output_type": "display_data"
    },
    {
     "data": {
      "text/plain": []
     },
     "execution_count": 23,
     "metadata": {},
     "output_type": "execute_result"
    }
   ],
   "execution_count": 23
  },
  {
   "metadata": {},
   "cell_type": "code",
   "source": "",
   "id": "90a674440317ce36",
   "outputs": [],
   "execution_count": null
  },
  {
   "metadata": {
    "ExecuteTime": {
     "end_time": "2025-03-31T11:19:58.312705Z",
     "start_time": "2025-03-31T11:19:57.528301Z"
    }
   },
   "cell_type": "code",
   "source": [
    "import gradio as gr\n",
    "\n",
    "def show_info(name, age, subscribe, gender):\n",
    "    result = f\"\"\"\n",
    "    Name: {name}\n",
    "    Age: {age}\n",
    "    Subscribed: {'Yes' if subscribe else 'No'}\n",
    "    Gender: {gender}\n",
    "    \"\"\"\n",
    "    return result\n",
    "\n",
    "demo = gr.Interface(\n",
    "    fn=show_info,\n",
    "    inputs=[\n",
    "        gr.Textbox(label=\"姓名\"),\n",
    "        gr.Slider(0, 100, label=\"年龄\"),\n",
    "        gr.Checkbox(label=\"订阅\"),\n",
    "        gr.Radio([\"男\", \"女\", \"其他\"], label=\"性别\")\n",
    "    ],\n",
    "    outputs=gr.Textbox(label=\"用户信息\")\n",
    ")\n",
    "\n",
    "demo.launch()"
   ],
   "id": "8199ebeaa094876a",
   "outputs": [
    {
     "name": "stdout",
     "output_type": "stream",
     "text": [
      "* Running on local URL:  http://127.0.0.1:7881\n",
      "\n",
      "To create a public link, set `share=True` in `launch()`.\n"
     ]
    },
    {
     "data": {
      "text/plain": [
       "<IPython.core.display.HTML object>"
      ],
      "text/html": [
       "<div><iframe src=\"http://127.0.0.1:7881/\" width=\"100%\" height=\"500\" allow=\"autoplay; camera; microphone; clipboard-read; clipboard-write;\" frameborder=\"0\" allowfullscreen></iframe></div>"
      ]
     },
     "metadata": {},
     "output_type": "display_data"
    },
    {
     "data": {
      "text/plain": []
     },
     "execution_count": 24,
     "metadata": {},
     "output_type": "execute_result"
    }
   ],
   "execution_count": 24
  }
 ],
 "metadata": {
  "kernelspec": {
   "display_name": "Python 3",
   "language": "python",
   "name": "python3"
  },
  "language_info": {
   "codemirror_mode": {
    "name": "ipython",
    "version": 2
   },
   "file_extension": ".py",
   "mimetype": "text/x-python",
   "name": "python",
   "nbconvert_exporter": "python",
   "pygments_lexer": "ipython2",
   "version": "2.7.6"
  }
 },
 "nbformat": 4,
 "nbformat_minor": 5
}
