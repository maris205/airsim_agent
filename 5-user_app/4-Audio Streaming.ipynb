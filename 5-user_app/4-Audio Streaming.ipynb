{
 "cells": [
  {
   "metadata": {},
   "cell_type": "markdown",
   "source": "# 5.4 语音控制无人机",
   "id": "7445fe317fee0d59"
  },
  {
   "metadata": {},
   "cell_type": "markdown",
   "source": "",
   "id": "52ef4d1c34d229aa"
  },
  {
   "cell_type": "code",
   "id": "initial_id",
   "metadata": {
    "collapsed": true,
    "ExecuteTime": {
     "end_time": "2025-03-31T11:30:39.372607Z",
     "start_time": "2025-03-31T11:30:38.781890Z"
    }
   },
   "source": [
    "import gradio as gr\n",
    "from pydub import AudioSegment\n",
    "import os\n",
    "\n",
    "# 确保安装了 ffmpeg 工具\n",
    "# 如果未安装，请运行以下命令：\n",
    "# pip install pydub\n",
    "# 以及下载并安装 ffmpeg：https://ffmpeg.org/\n",
    "\n",
    "def save_audio_as_mp3(audio):\n",
    "    # audio 是一个元组，包含采样率 (sample_rate) 和音频数据 (audio_data)\n",
    "    if isinstance(audio, str):\n",
    "        # 如果是文件路径，加载音频文件\n",
    "        audio_segment = AudioSegment.from_file(audio)\n",
    "    else:\n",
    "        # 如果是 NumPy 数组，转换为 PyDub 的 AudioSegment 对象\n",
    "        sample_rate, audio_data = audio\n",
    "        audio_segment = AudioSegment(\n",
    "            audio_data.tobytes(),  # 音频数据\n",
    "            frame_rate=sample_rate,  # 采样率\n",
    "            sample_width=audio_data.dtype.itemsize,  # 样本宽度\n",
    "            channels=1  # 单声道\n",
    "        )\n",
    "\n",
    "    # 保存为 MP3 文件\n",
    "    output_file = \"output2.mp3\"\n",
    "    audio_segment.export(output_file, format=\"mp3\")\n",
    "\n",
    "    return f\"音频已保存为 {output_file}\"\n",
    "\n",
    "# 创建 Gradio 界面\n",
    "with gr.Blocks() as demo:\n",
    "    gr.Markdown(\"### 实时录制声音并保存为 MP3 示例\")\n",
    "\n",
    "    # 使用 gr.Audio 组件，默认支持从麦克风录制或上传音频文件\n",
    "    audio_input = gr.Audio(label=\"录制音频或上传文件\", type=\"numpy\")\n",
    "\n",
    "    # 输出组件，显示处理结果\n",
    "    output_text = gr.Textbox(label=\"处理结果\")\n",
    "\n",
    "    # 按钮触发处理\n",
    "    submit_button = gr.Button(\"保存为 MP3\")\n",
    "\n",
    "    # 绑定按钮点击事件到处理函数\n",
    "    submit_button.click(save_audio_as_mp3, inputs=audio_input, outputs=output_text)\n",
    "\n",
    "# 启动 Gradio 应用\n",
    "demo.launch()"
   ],
   "outputs": [
    {
     "name": "stdout",
     "output_type": "stream",
     "text": [
      "* Running on local URL:  http://127.0.0.1:7883\n",
      "\n",
      "To create a public link, set `share=True` in `launch()`.\n"
     ]
    },
    {
     "data": {
      "text/plain": [
       "<IPython.core.display.HTML object>"
      ],
      "text/html": [
       "<div><iframe src=\"http://127.0.0.1:7883/\" width=\"100%\" height=\"500\" allow=\"autoplay; camera; microphone; clipboard-read; clipboard-write;\" frameborder=\"0\" allowfullscreen></iframe></div>"
      ]
     },
     "metadata": {},
     "output_type": "display_data"
    },
    {
     "data": {
      "text/plain": []
     },
     "execution_count": 3,
     "metadata": {},
     "output_type": "execute_result"
    }
   ],
   "execution_count": 3
  }
 ],
 "metadata": {
  "kernelspec": {
   "display_name": "Python 3",
   "language": "python",
   "name": "python3"
  },
  "language_info": {
   "codemirror_mode": {
    "name": "ipython",
    "version": 2
   },
   "file_extension": ".py",
   "mimetype": "text/x-python",
   "name": "python",
   "nbconvert_exporter": "python",
   "pygments_lexer": "ipython2",
   "version": "2.7.6"
  }
 },
 "nbformat": 4,
 "nbformat_minor": 5
}
