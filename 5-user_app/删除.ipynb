{
 "cells": [
  {
   "cell_type": "markdown",
   "id": "f6c99ba6-a047-4105-a22b-9e0885ad2b57",
   "metadata": {},
   "source": [
    "# 5.2 基于语音控制的无人机飞行（上传语音文件）\n",
    "\n",
    "\n"
   ]
  },
  {
   "metadata": {},
   "cell_type": "markdown",
   "source": [
    "\n",
    "HouseForAirsim_C_1:白房子\n",
    "\n",
    "\n",
    "\n",
    "\n",
    "\n",
    "\n"
   ],
   "id": "a6b419b10e8b5baf"
  },
  {
   "metadata": {},
   "cell_type": "code",
   "outputs": [],
   "execution_count": null,
   "source": [
    "import airsim_agent\n",
    "my_agent = airsim_agent.AirSimAgent()\n",
    "command = \"起飞\"\n",
    "python_code = my_agent.process(command) #默认不执行代码\n",
    "print(\"python_code:\", python_code)"
   ],
   "id": "d63c6862ef785152"
  }
 ],
 "metadata": {
  "kernelspec": {
   "display_name": "Python 3 (ipykernel)",
   "language": "python",
   "name": "python3"
  },
  "language_info": {
   "codemirror_mode": {
    "name": "ipython",
    "version": 3
   },
   "file_extension": ".py",
   "mimetype": "text/x-python",
   "name": "python",
   "nbconvert_exporter": "python",
   "pygments_lexer": "ipython3",
   "version": "3.10.16"
  }
 },
 "nbformat": 4,
 "nbformat_minor": 5
}
