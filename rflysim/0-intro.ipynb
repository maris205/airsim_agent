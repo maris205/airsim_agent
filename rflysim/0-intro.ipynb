{
 "cells": [
  {
   "cell_type": "markdown",
   "id": "62df81b2-087f-441b-9994-55f26159b92c",
   "metadata": {},
   "source": [
    "# 课程介绍：大模型驱动的无人机应用开发-rflysim版"
   ]
  },
  {
   "cell_type": "markdown",
   "id": "7a13f2dd-a468-485f-9c83-31e310282679",
   "metadata": {},
   "source": [
    "## 1 概要\n",
    "\n",
    "让无人机插上大模型的翅膀，开启AI+无人机开发新范式\n",
    "\n",
    "自然语言大模型正在重塑自动化控制领域。本课程以Rflysim仿真平台为载体，结合视觉大模型、GPT决策模型和多模态技术，构建\"感知-决策-控制\"全链路无人机智能系统。覆盖从基础控制到复杂任务的全流程开发，代码100%开源。\n",
    "\n",
    "为何需要这门课程？\n",
    "\n",
    "无人机控制正在从传统智能控制转向大模型驱动的智能决策\n",
    "\n",
    "2024年GPT-4o、deepseek等多模态模型突破，为无人机提供\"视觉+语言\"联合推理能力\n",
    "\n",
    "Rflysim作为国产化无人机仿真平台，已经为300多家科研院所和高校提供服务，是大模型训练的最佳试验场\n",
    "\n",
    "我们结合无人机+大模型相关的最新论文，做了这样一个课程，基本覆盖了基于提示词的，agent的，多agent，多模态识别等几个主要的无人机大模型应用方向，可以作为无人机大模型入门学习课程。\n",
    "\n",
    "\n",
    "<img src=\"img/cover.png\" width=\"600px\" />"
   ]
  },
  {
   "cell_type": "markdown",
   "id": "7b659398-b2f2-46b1-b0ba-65c15d979bfd",
   "metadata": {},
   "source": [
    "## 2 课程特色\n",
    "\n",
    "以简单为主，实用为主，让大家学后即用，学习实战，科研入门，皆可：\n",
    "\n",
    "简单清晰：统一使用Python接口，Rflysim API封装为易用类\n",
    "\n",
    "实用为主：每个功能模块提供最小可运行实例\n",
    "\n",
    "案例丰富：从提示词应用到多模态大模型在无人机中的应用\n",
    "\n",
    "\n",
    "\n",
    "本教程面向人群：\n",
    "\n",
    "1 计算机、电子、控制、无人机等领域科研人员、学生等。\n",
    "\n",
    "2 无人领域，无人机、机器人等大模型学习入门。最佳的无人机器人大模型学习，具身智能应用"
   ]
  },
  {
   "cell_type": "markdown",
   "id": "c37b91c0-28e6-4d1e-95f0-76b84ffc93f0",
   "metadata": {},
   "source": [
    "## 3 课程大纲\n",
    "\n",
    "第一章 RflySim基础开发环境\n",
    "\n",
    "1.1 开发环境搭建\n",
    "\n",
    "1.2 Rflysim仿真系统搭建\n",
    "\n",
    "1.3 Rflysim无人机基本控制\n",
    "\n",
    "1.4 Rflysim无人机视觉感知\n",
    "\n",
    "1.5 Rflysim多无人机控制\n",
    "\n",
    "\n",
    "\n",
    "第二章 基于提示词的无人机基础控制\n",
    "\n",
    "2.1 无人机sdk封装\n",
    "\n",
    "2.2 OpenAI等SDK调用\n",
    "\n",
    "2.3 大模型提示词工程入门\n",
    "\n",
    "2.4 基本飞行控制-飞到汽车上\n",
    "\n",
    "2.5 复杂指令-检测风力发电机\n",
    "\n",
    "2.6 完整任务-检测太阳能发电矩阵\n",
    "\n",
    "\n",
    "\n",
    "第三章 多模态视觉应用\n",
    "\n",
    "3.1 图片认知大模型简介和使用\n",
    "\n",
    "3.2 基于感知的自主飞行-发现好喝的\n",
    "\n",
    "3.3 目标检测大模型简介和应用\n",
    "\n",
    "3.4 基于感知的自主飞行-寻找小鸭子\n",
    "\n",
    "\n",
    "第四章 待定"
   ]
  },
  {
   "cell_type": "markdown",
   "id": "3bd64576-c41c-4f8c-9aa9-c07ca6b13f7c",
   "metadata": {},
   "source": [
    "## 开发团队\n",
    "RflyUT 团队  \n",
    "\n",
    "<img src='img/rflyut_logo2.png' width='200px' />\n",
    "\n",
    "https://rflyut.com/\n",
    "\n",
    "研发低空仿真系统和服务，赋能全球低空经济\n",
    "\n"
   ]
  },
  {
   "cell_type": "markdown",
   "id": "55268f27-bc7b-4d36-8336-f81f58748ba8",
   "metadata": {},
   "source": [
    "## 项目资料\n",
    "1. 项目github：https://github.com/maris205/airsim_agent\n",
    "2. 项目huggingface：https://huggingface.co/dnagpt/airsim_agent\n",
    "3. b站课程：\n"
   ]
  },
  {
   "cell_type": "code",
   "execution_count": null,
   "id": "e096f66c-cb47-44ed-81f8-71988bce77d8",
   "metadata": {},
   "outputs": [],
   "source": []
  }
 ],
 "metadata": {
  "kernelspec": {
   "display_name": "Python 3 (ipykernel)",
   "language": "python",
   "name": "python3"
  },
  "language_info": {
   "codemirror_mode": {
    "name": "ipython",
    "version": 3
   },
   "file_extension": ".py",
   "mimetype": "text/x-python",
   "name": "python",
   "nbconvert_exporter": "python",
   "pygments_lexer": "ipython3",
   "version": "3.10.16"
  }
 },
 "nbformat": 4,
 "nbformat_minor": 5
}
