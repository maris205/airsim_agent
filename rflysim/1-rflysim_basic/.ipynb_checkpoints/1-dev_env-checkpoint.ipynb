{
 "cells": [
  {
   "cell_type": "markdown",
   "id": "ce43ab43-c5f9-44c2-b11b-3a22a1dde6e6",
   "metadata": {},
   "source": [
    "# 1.1 开发环境搭建"
   ]
  },
  {
   "cell_type": "markdown",
   "id": "17670905-a49a-4594-ad2c-5a716e4ed0e3",
   "metadata": {},
   "source": [
    "## 1 基础环境\n",
    "- 硬件：16G内存，最好有显卡，磁盘有50G剩余即可。\n",
    "- 软件：最好是win11版本"
   ]
  },
  {
   "cell_type": "markdown",
   "id": "2f12e986-8ce2-45e6-ab84-5c57b3df735c",
   "metadata": {},
   "source": [
    "## 2 开发环境\n",
    "\n",
    "- 以conda为主\n",
    "\n",
    "windows版本下载：\n",
    "\n",
    "[Anaconda](https://www.anaconda.com/download/success)\n",
    "\n",
    "<img src='img/s1-2-1.png' width=\"600px\" />\n",
    "\n",
    "- 代码IDE编辑环境建议使用pycharm\n",
    "\n",
    "[PyCharm: the Python IDE for data science and web development](https://www.jetbrains.com/pycharm/download/?section=windows)\n",
    " \n",
    " \n",
    "使用免费的社区版本即可：\n",
    "\n",
    "<img src='img/s1-2-2.png' width=\"600px\" />\n",
    "\n",
    "\n",
    "- 然后代码ai，可以使用免费的阿里通义灵码：\n",
    "\n",
    "[通义灵码_你的智能编码助手-阿里云](https://lingma.aliyun.com/)\n",
    "\n",
    "<img src='img/s1-2-3.png' width=\"600px\" />\n"
   ]
  },
  {
   "cell_type": "markdown",
   "id": "3e8324e4-2612-42e7-a09f-2f7a1632c052",
   "metadata": {},
   "source": [
    "## 3 大模型API\n",
    "大模型建议使用deepseek，现在各个云平台都有，现在火山云的火山方舟的比较便宜，而且有号称排名第一的多模态大模型，有50万的免费token额度：\n",
    "\n",
    "[火山云](https://www.volcengine.com/product/ark)\n",
    "\n",
    "<img src='img/s1-2-4.png' width=\"600px\" />\n",
    "\n",
    "其他阿里云和腾讯云都差不多，基本都兼容openai的sdk，自行选择即可。\n",
    "\n"
   ]
  },
  {
   "cell_type": "markdown",
   "id": "6ceaf46f-9ec0-4a9b-a394-fe54b9dd697c",
   "metadata": {},
   "source": [
    "## 4 python开发环境\n",
    "使用conda创建python 3.10版本的开发环境airsim_agent\n",
    "\n",
    "然后使用pycharm打开，再安装jupyter lab即可\n",
    "\n",
    "```\n",
    "conda create -n airsim_agent python=3.10\n",
    "\n",
    "conda activate airsim_agent\n",
    "\n",
    "pip install jupyterlab\n",
    "\n",
    "jupyter lab\n",
    "```\n",
    "\n",
    "然后下载课程代码\n",
    "\n",
    "git clone https://github.com/maris205/airsim_agent\n",
    "\n",
    "注意，因为airsim的tornado和jupyter lab的版本冲突，我们使用airsim的时候，不使用pip 安装，而是直接import本地下载好的包即可：\n",
    "\n",
    "<img src='img/s1-2-5.png' width=\"600px\" />\n"
   ]
  },
  {
   "cell_type": "code",
   "execution_count": null,
   "id": "2657ef67-d533-4fc4-a748-a836f75c16bf",
   "metadata": {},
   "outputs": [],
   "source": []
  }
 ],
 "metadata": {
  "kernelspec": {
   "display_name": "Python 3 (ipykernel)",
   "language": "python",
   "name": "python3"
  },
  "language_info": {
   "codemirror_mode": {
    "name": "ipython",
    "version": 3
   },
   "file_extension": ".py",
   "mimetype": "text/x-python",
   "name": "python",
   "nbconvert_exporter": "python",
   "pygments_lexer": "ipython3",
   "version": "3.10.16"
  }
 },
 "nbformat": 4,
 "nbformat_minor": 5
}
