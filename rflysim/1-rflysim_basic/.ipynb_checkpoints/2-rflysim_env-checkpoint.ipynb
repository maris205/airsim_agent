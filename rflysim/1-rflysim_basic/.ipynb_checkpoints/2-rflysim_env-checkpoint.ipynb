{
 "cells": [
  {
   "cell_type": "markdown",
   "id": "31cb4159-6e95-4d7d-9a94-bfb0ca81f9d6",
   "metadata": {},
   "source": [
    "# 1.2 AirSim仿真系统搭建"
   ]
  },
  {
   "cell_type": "markdown",
   "id": "7a71a127-b1ef-4fcb-a2cc-bc3217a3cd75",
   "metadata": {},
   "source": [
    "## airsim简介\n",
    "\n",
    "AirSim（Aerial Informatics and Robotics Simulation）是由微软研究院开发的开源机器人仿真平台，主要用于无人机、自动驾驶汽车等自主系统的算法开发与测试。以下从核心功能、技术特点和应用场景三方面进行介绍：\n",
    "\n",
    "---\n",
    "\n",
    "### 一、核心功能\n",
    "1. **多模态仿真支持**  \n",
    "   AirSim支持无人机、地面车辆、静态IoT设备等多种载具的模拟，提供高保真的物理和视觉仿真环境。其内置的传感器模型（如IMU、GPS、摄像头、激光雷达等）可生成接近真实场景的数据，用于训练和验证AI模型。\n",
    "\n",
    "2. **硬件在环与软件在环仿真**  \n",
    "   平台支持与PX4、ArduPilot等飞行控制器的集成，实现硬件在环（HIL）和软件在环（SIL）仿真，允许开发者将真实硬件与虚拟环境结合测试。\n",
    "\n",
    "3. **数据生成与调试工具**  \n",
    "   AirSim能高效生成大规模训练数据，并通过仿真碰撞、复杂天气等高风险场景，降低实际测试成本。例如，无人机碰撞在仿真中几乎零成本，但可提供改进设计的有效信息。\n",
    "\n",
    "---\n",
    "\n",
    "### 二、技术特点\n",
    "1. **基于虚幻引擎的逼真渲染**  \n",
    "   作为Unreal Engine插件，AirSim利用引擎的物理计算和图形渲染能力，构建高度真实的3D场景（如城市、山地、室内环境），适用于依赖视觉的导航算法开发。\n",
    "\n",
    "2. **模块化设计与跨平台兼容**  \n",
    "   采用模块化架构，支持扩展硬件和算法接口，兼容Windows和Linux系统，并通过Python、C++ API及ROS/ROS2接口实现灵活控制。\n",
    "\n",
    "3. **多无人机协同仿真**  \n",
    "   通过配置文件可同时模拟多台无人机，支持分布式控制和复杂任务验证（如编队飞行），满足科研与教育需求。\n",
    "\n",
    "---\n",
    "\n",
    "### 三、应用场景\n",
    "- **自动驾驶算法开发**：模拟车辆在复杂路况下的感知与决策，加速深度学习模型训练。\n",
    "- **无人机避障与路径规划**：在GPS拒止环境（如建筑内部）测试SLAM和自主导航算法。\n",
    "- **教育与科研**：提供低成本实验平台，用于机器人学教学和强化学习研究。\n",
    "\n",
    "---\n",
    "\n",
    "### 现状与发展\n",
    "截至2025年，AirSim开源版本已停止更新并归档，但用户仍可访问历史代码。\n",
    "\n",
    "目前有多个团队基于其进行持续的开发，例如：\n",
    "- [Cosys-AirSim](https://github.com/Cosys-Lab/Cosys-AirSim) 增加了更多的传感器，并升级为UE5.\n",
    "- [Colosseum](https://github.com/CodexLabsLLC/Colosseum)通过适配Windows系统与UE5引擎优化了部署流程等。\n"
   ]
  },
  {
   "cell_type": "markdown",
   "id": "004e9115-b575-4204-bdaf-a0ec4a04cb18",
   "metadata": {},
   "source": [
    "## 本课程使用的环境\n",
    "\n",
    "论文《ChatGPT for Robotics: Design Principles and Model Abilities》的使用的仿真环境\n",
    "\n",
    "从其github页面上下载即可：\n",
    "https://github.com/microsoft/PromptCraft-Robotics/releases/tag/1.0.0\n",
    "\n",
    "下载解压缩后，即可运行：\n",
    "\n",
    "<img src=\"img/airsim1-1.jpg\" width='600px' />"
   ]
  },
  {
   "cell_type": "markdown",
   "id": "e9098acf-c4c0-425f-b1f7-86c24b76bb70",
   "metadata": {},
   "source": [
    "## airsim其他相关文档\n",
    "\n",
    "\n",
    "airsim [github](https://github.com/microsoft/airsim/releases)\n",
    "\n",
    "airsim [文档](https://microsoft.github.io/AirSim/)"
   ]
  },
  {
   "cell_type": "code",
   "execution_count": null,
   "id": "76d31153-8aaa-4ba2-8624-eee34fb20ed4",
   "metadata": {},
   "outputs": [],
   "source": []
  }
 ],
 "metadata": {
  "kernelspec": {
   "display_name": "Python 3 (ipykernel)",
   "language": "python",
   "name": "python3"
  },
  "language_info": {
   "codemirror_mode": {
    "name": "ipython",
    "version": 3
   },
   "file_extension": ".py",
   "mimetype": "text/x-python",
   "name": "python",
   "nbconvert_exporter": "python",
   "pygments_lexer": "ipython3",
   "version": "3.10.16"
  }
 },
 "nbformat": 4,
 "nbformat_minor": 5
}
