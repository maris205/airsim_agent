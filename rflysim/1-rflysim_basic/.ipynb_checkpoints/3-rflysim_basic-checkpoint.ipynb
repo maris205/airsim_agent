{
 "cells": [
  {
   "cell_type": "markdown",
   "id": "7c82aa60-064e-4a7b-88da-c69f679f4532",
   "metadata": {},
   "source": [
    "# 1.3 Rflysim 无人机基本控制"
   ]
  },
  {
   "cell_type": "markdown",
   "id": "571ca62f-fe4a-4c4a-b927-e862a8a4fff2",
   "metadata": {},
   "source": [
    "RflySim SDK（软件开发工具包）为无人机仿真提供了丰富的编程接口，支持通过代码实现无人机的基本控制、传感器数据获取及环境交互。以下是其核心功能的简要描述：\n",
    "\n",
    "### 1. **底层开发和上层开发**\n",
    "   - **底层开发**：机身结构设计、动力系统选型、控制器设计等。关注机身结构设计、动力系统选型、控制器设计等\n",
    "   - **上层开发**：设计上层智能规划算法得到控制指令，关注的是智能感知与决策的能力。\n",
    "\n",
    "### 2. **基本飞行控制接口**\n",
    "   - **控制接口**：支持遥控操控、Mavlink 通信、ROS1/2 等几种方式。\n",
    "   - **Offboard模式**：控制飞机的速度、位置、姿态等，可以把飞机当成一个整体对象，专注于顶层的视觉与集群算法开发。\n",
    "   - **UE场景控制**：提供场景控制API，可更改场景，实时添加场景内物体等。\n",
    "\n",
    "### 3. **传感器与状态获取**\n",
    "   - **传感器数据**：通过API获取IMU、GPS、气压计等传感器的实时数据。\n",
    "   - **状态监控**：可获无人机的实时位置、速度、姿态等状态信息。\n",
    "\n",
    "### 4. **高级功能扩展**\n",
    "   - **多机协同**：通过配置文件定义多台无人机，并在代码中按名称分别控制。\n",
    "   - **环境交互**：支持动态调整天气（如雨雪效果）、光照条件，或通过API控制场景中的物体属性。\n",
    "   - **ROS集成**：提供ROS/ROS2接口，便于与机器人操作系统联动，扩展复杂任务。\n",
    "\n",
    "### 5. **SDK设计特点**\n",
    "   - **跨平台支持**：兼容Python、C++、matlab等语言，适用于Windows、Linux、macOS系统。\n",
    "   - **模块化架构**：基于多种通信协议通信（如redis，dds），实现仿真引擎与外部控制逻辑的解耦。\n",
    "   - **物理与视觉仿真融合**：结合虚幻引擎的渲染能力和自定义物理模型，提供高逼真度的仿真环境。\n",
    "\n",
    "通过上述接口，开发者可快速构建无人机控制算法测试平台，同时结合AirSim的逼真场景和传感器模拟，验证视觉导航、自主避障等复杂功能。\n",
    "\n",
    "本节主要讲rflysim的初始化和基本飞行控制"
   ]
  },
  {
   "cell_type": "code",
   "execution_count": 1,
   "id": "fe046001-137f-4291-964f-ffa80580b780",
   "metadata": {},
   "outputs": [
    {
     "name": "stdout",
     "output_type": "stream",
     "text": [
      "Collecting numpy\n",
      "  Downloading numpy-2.2.3-cp310-cp310-win_amd64.whl.metadata (60 kB)\n",
      "Downloading numpy-2.2.3-cp310-cp310-win_amd64.whl (12.9 MB)\n",
      "   ---------------------------------------- 0.0/12.9 MB ? eta -:--:--\n",
      "   --- ------------------------------------ 1.0/12.9 MB 8.4 MB/s eta 0:00:02\n",
      "   --------------------------------- ------ 10.7/12.9 MB 33.5 MB/s eta 0:00:01\n",
      "   ---------------------------------------- 12.9/12.9 MB 33.8 MB/s eta 0:00:00\n",
      "Installing collected packages: numpy\n",
      "Successfully installed numpy-2.2.3\n"
     ]
    }
   ],
   "source": [
    "!pip install numpy pymavlink pyulog opencv-python"
   ]
  },
  {
   "cell_type": "code",
   "execution_count": 1,
   "id": "d1c5affa-c966-476a-a03c-fb46678378e7",
   "metadata": {},
   "outputs": [
    {
     "name": "stdout",
     "output_type": "stream",
     "text": [
      "No Redis labs\n"
     ]
    }
   ],
   "source": [
    "#先运行软件在环仿真环境 SITLRun.bat\n",
    "import time\n",
    "import math\n",
    "import sys\n",
    "import PX4MavCtrlV4 as PX4MavCtrl #无人机控制"
   ]
  },
  {
   "cell_type": "markdown",
   "id": "789685ff-c280-4d2f-a3af-af0a8078988c",
   "metadata": {},
   "source": [
    "## 起飞降落"
   ]
  },
  {
   "cell_type": "code",
   "execution_count": 2,
   "id": "4b6c7eda-393a-4b71-a8e6-1f361d9f5431",
   "metadata": {},
   "outputs": [],
   "source": [
    "#Create a new MAVLink communication instance, UDP sending port (CopterSim’s receving port) is 20100\n",
    "mav = PX4MavCtrl.PX4MavCtrler(1)"
   ]
  },
  {
   "cell_type": "code",
   "execution_count": 3,
   "id": "ee005b3b-a5a3-482b-b0b3-76eaa1607571",
   "metadata": {},
   "outputs": [
    {
     "name": "stdout",
     "output_type": "stream",
     "text": [
      "Send Arm Command\n",
      "Failsafe enabled: no offboard\n",
      "Failsafe mode activated\n"
     ]
    }
   ],
   "source": [
    "#Turn on MAVLink to monitor CopterSim data and update it in real time. \n",
    "mav.InitMavLoop()\n",
    "\n",
    "#Turn on Offboard mode\n",
    "mav.initOffboard()\n",
    "\n",
    "#Send arm command to arm the drone,解锁\n",
    "mav.SendMavArm(True) \n",
    "print(\"Send Arm Command\")"
   ]
  },
  {
   "cell_type": "code",
   "execution_count": 4,
   "id": "31224c18-6151-428c-ac57-35864ebae5c7",
   "metadata": {},
   "outputs": [
    {
     "name": "stdout",
     "output_type": "stream",
     "text": [
      "起飞-------------------------\n"
     ]
    }
   ],
   "source": [
    "# takeoff，起飞，很多无人机或者汽车控制的函数都有 Async/异步作为后缀，执行的时候会立即返回，不阻塞\n",
    "# 但命令本身还是顺序执行的，所以需要sleep等待命令执行完毕，上一个命令执行完成，才会执行下一个命令\n",
    "# Send the desired position signal, fly to the target point 0,0, -1.7 position, the yaw angle is 0\n",
    "mav.SendPosNED(0, 0, -3, 0) \n",
    "print(\"起飞-------------------------\")"
   ]
  },
  {
   "cell_type": "code",
   "execution_count": 5,
   "id": "e0d4f9ab-96d7-4421-b320-6a06a53d0135",
   "metadata": {},
   "outputs": [
    {
     "name": "stdout",
     "output_type": "stream",
     "text": [
      "降落-------------------------\n"
     ]
    }
   ],
   "source": [
    "#降落\n",
    "# Send the desired speed signal, 0.2m/s downwards, the z-axis downward is positive\n",
    "mav.SendVelNED(0, 0, 0.2, 0) \n",
    "print(\"降落-------------------------\")\n",
    "\n",
    "#mav.endOffboard()\n",
    "#mav.stopRun()"
   ]
  },
  {
   "cell_type": "markdown",
   "id": "70fc0afb-b09c-4fdd-9b3e-8eb9eb29b49a",
   "metadata": {},
   "source": [
    "## 定点飞行-offboard"
   ]
  },
  {
   "cell_type": "code",
   "execution_count": 6,
   "id": "f4218c64-0bf9-410e-a671-2fdbcef24013",
   "metadata": {},
   "outputs": [
    {
     "name": "stdout",
     "output_type": "stream",
     "text": [
      "起飞--------------------------------\n"
     ]
    }
   ],
   "source": [
    "mav.SendPosNED(0, 0, -3, 0) \n",
    "print(\"起飞--------------------------------\")"
   ]
  },
  {
   "cell_type": "code",
   "execution_count": 7,
   "id": "7d1a9ecb-e9fc-4c0c-9700-69e61e20acdb",
   "metadata": {},
   "outputs": [],
   "source": [
    "# 初始化4个点的坐标\n",
    "points = [(5, 0, -3),\n",
    "          (5, 5, -3),\n",
    "          (0, 5, -3),\n",
    "          (0, 0, -3)]"
   ]
  },
  {
   "cell_type": "code",
   "execution_count": 8,
   "id": "c0cbf762-6563-416c-87d8-addd97f6a1b0",
   "metadata": {},
   "outputs": [],
   "source": [
    "#按T键可以显示轨迹\n",
    "for point in points:\n",
    "    mav.SendPosNED(point[0], point[1],point[2], 0)\n",
    "    time.sleep(3)"
   ]
  },
  {
   "cell_type": "code",
   "execution_count": 9,
   "id": "ba19bd89-0696-49dc-875d-abc5bbc4bb06",
   "metadata": {},
   "outputs": [
    {
     "name": "stdout",
     "output_type": "stream",
     "text": [
      "降落-------------------------\n"
     ]
    }
   ],
   "source": [
    "#降落\n",
    "mav.SendVelNED(0, 0, 0.2, 0) \n",
    "print(\"降落-------------------------\")"
   ]
  },
  {
   "cell_type": "markdown",
   "id": "13afedf6-baad-4de8-8db2-119f17af2a04",
   "metadata": {},
   "source": [
    "## 无人机的状态"
   ]
  },
  {
   "cell_type": "markdown",
   "id": "068e03c3-2ee7-4201-a1de-3b1af0d06330",
   "metadata": {},
   "source": [
    "在Rflysim中，通过PX4MavCtrlV4的PX4MavCtrler类的成员变量获得\n",
    "\n",
    "<img src='img/rflysim_status.png' width='600px' />\n",
    "\n",
    "数据来源于软飞控的传感器或者估算值，也就是和airsim一样，状态也分为真实状态和估算状态，如位置：\n",
    "\n",
    "- self.uavPosNED = [0, 0, 0] # Estimated Local Pos (related to takeoff position) from PX4 in NED frame\n",
    "- self.truePosNED = [0, 0, 0] # True simulated position (related to UE4 map center) from CopterSim's DLL model"
   ]
  },
  {
   "cell_type": "code",
   "execution_count": 10,
   "id": "84ab4b2b-ff89-4c9f-8fb0-84e484fcacfb",
   "metadata": {},
   "outputs": [
    {
     "name": "stdout",
     "output_type": "stream",
     "text": [
      "起飞--------------------------------\n"
     ]
    }
   ],
   "source": [
    "mav.SendPosNED(0, 0, -3, 0) \n",
    "print(\"起飞--------------------------------\")"
   ]
  },
  {
   "cell_type": "code",
   "execution_count": 13,
   "id": "b76d3518-cb2d-47bf-883a-fb812030c257",
   "metadata": {},
   "outputs": [
    {
     "name": "stdout",
     "output_type": "stream",
     "text": [
      "[12.921760559082031, 4.635617733001709, -5.486939430236816] 0\n",
      "[13.006129264831543, 4.4200544357299805, -5.552565097808838] 0\n",
      "[13.059415817260742, 4.2656049728393555, -5.609933853149414] 0\n",
      "[13.098451614379883, 4.114501953125, -5.6636528968811035] 0\n"
     ]
    }
   ],
   "source": [
    "for point in points:\n",
    "    mav.SendPosNED(point[0], point[1],point[2], 0)\n",
    "    time.sleep(3)\n",
    "    print(mav.uavPosNED, mav.yaw)"
   ]
  },
  {
   "cell_type": "markdown",
   "id": "7e8294b4-5c85-4683-85c8-dcc3aa00edb1",
   "metadata": {},
   "source": [
    "## API文档\n",
    "\n",
    "https://rflysim.com/doc/zh/RflySimAPIs/6.RflySimExtCtrl/API.pdf"
   ]
  },
  {
   "cell_type": "code",
   "execution_count": null,
   "id": "c7f7de9f-e78f-49b2-ba77-6b09730438a8",
   "metadata": {},
   "outputs": [],
   "source": []
  }
 ],
 "metadata": {
  "kernelspec": {
   "display_name": "Python 3 (ipykernel)",
   "language": "python",
   "name": "python3"
  },
  "language_info": {
   "codemirror_mode": {
    "name": "ipython",
    "version": 3
   },
   "file_extension": ".py",
   "mimetype": "text/x-python",
   "name": "python",
   "nbconvert_exporter": "python",
   "pygments_lexer": "ipython3",
   "version": "3.10.16"
  }
 },
 "nbformat": 4,
 "nbformat_minor": 5
}
