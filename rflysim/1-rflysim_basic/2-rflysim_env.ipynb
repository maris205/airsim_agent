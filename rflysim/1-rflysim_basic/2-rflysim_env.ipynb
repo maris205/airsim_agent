{
 "cells": [
  {
   "cell_type": "markdown",
   "id": "31cb4159-6e95-4d7d-9a94-bfb0ca81f9d6",
   "metadata": {},
   "source": [
    "# 1.2 RflySim仿真系统搭建"
   ]
  },
  {
   "cell_type": "markdown",
   "id": "7a71a127-b1ef-4fcb-a2cc-bc3217a3cd75",
   "metadata": {},
   "source": [
    "## Rflysim简介\n",
    "\n",
    "RflySim是由北京航空航天大学可靠飞行控制组主导开发的无人系统开发与仿真平台，支持基于模型设计（MBD）的全流程开发，涵盖算法设计、软件/硬件在环仿真（SIL/HIL）及实飞测试。其核心优势包括**一键化操作**（Windows平台快速部署）、**分布式架构**（支持多机联机仿真）和**多机型适配**（如四旋翼、固定翼、VTOL等），并集成虚幻引擎（UE4/UE5）提供高逼真三维视景，可模拟RGB、激光雷达、IMU等传感器数据。该平台分为基础版（免费）、高级版（付费）和企业版，支持从单机控制到大规模集群协同的开发需求。\n",
    "\n",
    "在应用层面，RflySim允许用户**自定义三维模型与场景**，通过3DsMax或AutoCAD设计无人机模型并导入UE引擎，结合XML配置实现动力系统参数定义与仿真验证。其特色功能包括**虚实结合仿真**（如SLAM算法硬件在环测试）、**故障注入测试**（模拟通信中断或环境干扰）以及**云端扩展**（RflySim Cloud支持分布式部署与强化学习训练），适用于学术研究、工业测试及AI视觉算法开发等场景。\n",
    "\n",
    "rflysim和airsim非常像，基本都是无人机动力学系统+UE场景，但侧重点各有不同，airsim偏向于上层的智能开发，如集群智能，无人机视觉等，rflysim系统则偏向于底层的无人机开发，包括无人机的基础设计、飞控设计、飞行安全等，但两者基本功能都比较类似，rflysim有上层的各种智能案例，airsim也支持底层的px4虚实结合控制等，如果项目要求是国产化的系统，或者无人机专业的，可选择rflysim。\n",
    "\n",
    "我们的课程因为是做无人机大模型，因此偏向于做上层控制，因此，课程相比rflysim网站上偏向硬件的学习教程邀简单。\n",
    "\n",
    "<img src=\"img/rflysim.png\" width='600px' />"
   ]
  },
  {
   "cell_type": "markdown",
   "id": "004e9115-b575-4204-bdaf-a0ec4a04cb18",
   "metadata": {},
   "source": [
    "## 2 rflysim基本安装\n",
    "\n",
    "下载页面，填写个email就行了：\n",
    "\n",
    "https://rflysim.com/download.html\n",
    "\n",
    "\n",
    "\n",
    "然后从网站给到的网盘下载即可：\n",
    "\n",
    "<img src=\"img/rflysim_pan.png\" width='600px' />\n",
    "\n",
    "其中：\n",
    ".iso文件就是全部的安装文件了,双击打开，就可以看到里面的安装文件了：\n",
    "\n",
    "<img src=\"img/rflysim_file.png\" width='600px' />\n",
    "\n",
    "\n",
    "HowToInstall.pdf 是安装文档\n",
    "\n",
    "因为我们是上层应用开发，因此使用文档中：\n",
    "\n",
    "1.11.1. 一键安装脚本(无 MATLAB 安装）的安装模式即可\n",
    "\n",
    "由于 MATLAB 需要占用很大空间，针对主要用 Python 进行单机、视觉、集群、通信\n",
    "上层算法开发的用户，也可不安装 MATLAB，采用 exe 安装程序一键安装。步骤如下：\n",
    "\n",
    "先下载并安装 MATLAB 的运行库文件 MCR_R2017b_win64：\n",
    "https://pan.baidu.com/s/1vVNJLtFIQg7fDrV4p0OeUg?pwd=yzdw\n",
    " \n",
    "然后双击安装包内“OnekeyScript.exe”文件，即可 \n",
    "\n",
    "\n",
    " <img src=\"img/rflysim_exe.png\" width='600px' />\n",
    "\n",
    "弹出安装界面:\n",
    "\n",
    " <img src=\"img/rfysim_box.png\" width='600px' />\n",
    "\n",
    " 可以把安装路径改下，其他都默认即可。\n",
    "安装过程中，如果没有安装wsl，需要新安装，电脑需要重启一次\n",
    "其他应该都没问题，安装可能需要30分钟左右。\n"
   ]
  },
  {
   "cell_type": "markdown",
   "id": "f62e9db4-91cb-4cdc-8683-784092c41fe0",
   "metadata": {},
   "source": [
    "## 3 基本运行\n",
    "\n",
    "安装完成后的目录内容如下：\n",
    "\n",
    " <img src=\"img/rflysim_install.png\" width='600px' />\n",
    "\n",
    " 其中HowToUse.pdf就是基本的使用文档，里面可以链接到其他文档：\n",
    "\n",
    " <img src=\"img/rflysim_use.png\" width='600px' />\n",
    "\n",
    " 然后双击RflySimAPIs目录下的\n",
    "SITLRun.bat\n",
    "出现弹出框，选择无人机数量1：\n",
    "\n",
    "\n",
    " <img src=\"img/rfysim_run1.png\" width='600px' />\n",
    "\n",
    " 然后回车即可，可以看到回运行地面站，ue3d画面，控制台软件\n",
    "\n",
    " \n",
    " <img src=\"img/rflysim_run2.png\" width='600px' />\n",
    "\n",
    "\n",
    "这样就表示安装基本成功了。\n",
    "\n",
    "\n",
    "然后是ue上的手动操作，和airsim类似的，就是键位稍有不同：\n",
    "\n",
    "F1：弹出帮助菜单提示\n",
    "\n",
    "ESC：清除所有飞机，相当于是刷新画面\n",
    "\n",
    "S：显示/隐藏飞机 ID，就是无人机头顶的编号\n",
    "\n",
    "H：隐藏/显示所有屏幕文字\n",
    "\n",
    "D：显示/隐藏当前飞机数据\n",
    "\n",
    "M：切换地图(有 CopterSim 下会被切换回 CopterSim 的地图)，M+数字*：切换到第*号地图\n",
    "\n",
    "B：在不同飞机间切换视角焦点，B+数字*：切换到第*号飞机\n",
    "\n",
    "V：飞机上的视角切换，0：跟随视角、1：前视摄像头、2：右视摄像头、等…；V+数字*：切换到第*号视角\n",
    "\n",
    "N：切换到飞机上帝视角，N+数字*：切换到第*号上帝视角\n",
    "\n",
    "按下鼠标拖动：鼠标左键按下拖动：切换视角角度；鼠标右键按下拖动：切换视角所在纵向 yz 位置\n",
    "\n",
    "CTRL+鼠标滚轮：缩放所有飞机尺寸"
   ]
  },
  {
   "cell_type": "markdown",
   "id": "e9098acf-c4c0-425f-b1f7-86c24b76bb70",
   "metadata": {},
   "source": [
    "\n",
    "## rflysim其他相关文档\n",
    "\n",
    "rflysim [文档](https://rflysim.com/docs/#/)"
   ]
  },
  {
   "cell_type": "code",
   "execution_count": null,
   "id": "76d31153-8aaa-4ba2-8624-eee34fb20ed4",
   "metadata": {},
   "outputs": [],
   "source": []
  }
 ],
 "metadata": {
  "kernelspec": {
   "display_name": "Python 3 (ipykernel)",
   "language": "python",
   "name": "python3"
  },
  "language_info": {
   "codemirror_mode": {
    "name": "ipython",
    "version": 3
   },
   "file_extension": ".py",
   "mimetype": "text/x-python",
   "name": "python",
   "nbconvert_exporter": "python",
   "pygments_lexer": "ipython3",
   "version": "3.10.16"
  }
 },
 "nbformat": 4,
 "nbformat_minor": 5
}
