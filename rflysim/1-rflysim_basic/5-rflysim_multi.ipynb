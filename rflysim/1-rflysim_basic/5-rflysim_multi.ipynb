{
 "cells": [
  {
   "cell_type": "markdown",
   "id": "a55426bd-20a6-4df5-aa10-7beaedb96894",
   "metadata": {},
   "source": [
    "# 1.5  Rflysim 多无人机控制"
   ]
  },
  {
   "cell_type": "markdown",
   "id": "899b4f8b-8c14-4288-8b12-9fd543ef48e5",
   "metadata": {},
   "source": [
    "Rflysim 的多无人机功能支持同时仿真和控制多架无人机，适用于集群任务、协同导航等复杂场景。通过sdk可定义无人机的初始位置、类型及通信参数，并利用 Python API 或 ROS 实现分布式控制。例如，用户可通过循环创建多个 `PX4MavCtrler` 实例，分别连接不同端口，实现多机同步起飞、路径规划及传感器数据共享。  \n",
    "\n",
    "该功能还支持动态环境交互，如天气模拟、光照变化及自定义地形，可验证无人机在 GPS 拒止环境下的自主导航能力。高级应用中，Rflysim 结合 PX4 和 ROS 框架，可构建分布式仿真平台，支持多机协同避障、任务分配等算法测试，为物流配送、搜索救援等场景提供高效验证工具。\n",
    "\n",
    "1. **协同任务**  \n",
    "   通过 ROS 或自定义协议实现多机通信，例如任务分配或避障协作。  \n",
    "2. **分布式仿真**  \n",
    "   在多台机器上运行多个 Rflysim 实例，模拟大规模集群场景。  \n",
    "3. **可视化调试**  \n",
    "   使用 RViz 可视化无人机状态和传感器数据。"
   ]
  },
  {
   "cell_type": "markdown",
   "id": "6446d922-6624-4be6-9db3-095aaf9bc67f",
   "metadata": {},
   "source": [
    "Rflysim主要通过python代码动态添加多个无人机：\n",
    "\n",
    "\n",
    "1. **连接多个无人机**  \n",
    "   使用不同端口即可\n",
    "   ```python\n",
    "    import PX4MavCtrlV4 as PX4MavCtrl\n",
    "    \n",
    "    VehilceNum = 3\n",
    "    START_INDEX=1\n",
    "    MavList=[]\n",
    "    # Create MAV instance\n",
    "    for i in range(VehilceNum):\n",
    "        ii=i+START_INDEX-1\n",
    "        MavList=MavList+[PX4MavCtrl.PX4MavCtrler(1+i)]\n",
    "\n",
    "   ```\n",
    "\n",
    "通过以上步骤，您可以在 Rflysim 中快速搭建 3 无人机仿真环境，并通过 Python 实现灵活控制。\n",
    "\n",
    "2. **质点多旋翼模型**\n",
    "\n",
    "从模型精度的角度，使用高精度 6DOF 模型（CopterSim）+真实飞控系统（PX4）的软\n",
    "/硬件在环仿真闭环的方式，能够有效提高模型可信度，从而减小仿真与真机实验的差距。\n",
    "但是上述构架的代码运算量较为复杂，导致一台电脑上运行的无人机数量受到限制(SITL 软件在环<20 架)\n",
    "\n",
    "为了提高单台电脑仿真集群飞机的数量，就需要降低模型精度并使用简化飞控模型。\n",
    "因此本平台在 Python 下开发出了质点多旋翼模型，只需 Python 和 RflySim3D 两个软件\n",
    "即可在单台电脑上实现百驾级别的无人机集群仿真。\n",
    "\n",
    "\n",
    "本节就使用质点无人机模型，只是初始化稍有不同，其他都是一样的。\n",
    "\n",
    "另外启动的时候，只需要启动UE环境即可，也就是启动Rflysim3D即可(PX4PSP\\RflySim3D\\RflySim3D.exe)"
   ]
  },
  {
   "cell_type": "markdown",
   "id": "269c49d1-1432-4da6-9c0a-7de43d2959d9",
   "metadata": {},
   "source": [
    "## 基本多机控制"
   ]
  },
  {
   "cell_type": "code",
   "execution_count": 1,
   "id": "b21ca143-2c22-46fe-9f85-5a6799b789f9",
   "metadata": {},
   "outputs": [
    {
     "name": "stdout",
     "output_type": "stream",
     "text": [
      "No Redis labs\n"
     ]
    }
   ],
   "source": [
    "import time\n",
    "import math\n",
    "import numpy as np\n",
    "import PX4MavCtrlV4 as PX4MavCtrl\n",
    "import UE4CtrlAPI\n",
    "ue = UE4CtrlAPI.UE4CtrlAPI()"
   ]
  },
  {
   "cell_type": "code",
   "execution_count": 2,
   "id": "eb536771-d708-466a-9467-5645d244a631",
   "metadata": {},
   "outputs": [],
   "source": [
    "#初始化8个无人机\n",
    "VehilceNum = 8\n",
    "START_INDEX=1\n",
    "MavList=[]\n",
    "# Create MAV instance\n",
    "for i in range(VehilceNum):\n",
    "    ii=i+START_INDEX-1\n",
    "    MavList=MavList+[PX4MavCtrl.PX4MavCtrler(1+i)]\n",
    "\n",
    "# sendUE4Cmd: RflySim3D API to modify scene display style\n",
    "# Format: ue.sendUE4Cmd(cmd,windowID=-1), where cmd is a command string, windowID is the received window number (assuming multiple RflySim3D windows are opened at the same time), windowID =-1 means sent to all windows\n",
    "# Augument: RflyChangeMapbyName command means to switch the map (scene), the following string is the map name, here will switch all open windows to the grass map\n",
    "ue.sendUE4Cmd('RflyChangeMapbyName Grasslands')"
   ]
  },
  {
   "cell_type": "code",
   "execution_count": 3,
   "id": "a3d32b90-5591-4a23-966e-4a3d1dceece4",
   "metadata": {},
   "outputs": [],
   "source": [
    "#初始化无人机，并设置起飞点\n",
    "InitPosList=[\n",
    "    [-8.086,0,0,0],\n",
    "    [-7.835,0,2,0],\n",
    "    [-7.497,0,4,0],\n",
    "    [-7.152,0,6,0],\n",
    "    [-7.788,2,2,0],\n",
    "    [-8.29,2,0,0],\n",
    "    [-7.568,2,4,0],\n",
    "    [-7.356,2,6,0],\n",
    "]\n",
    "\n",
    "time.sleep(2)\n",
    "# Start MAV loop with UDP mode: Udp_Simple\n",
    "# 就这一点和高精度无人机模型不同，其他都一样\n",
    "for i in range(VehilceNum):\n",
    "    MavList[i].initPointMassModel(InitPosList[i][0],InitPosList[i][1:4])"
   ]
  },
  {
   "cell_type": "code",
   "execution_count": 4,
   "id": "795aa54b-4997-4467-9fc2-5d09d9aad2cc",
   "metadata": {},
   "outputs": [],
   "source": [
    "#起飞\n",
    "# Get the takeoff position of each vehicle to the UE4 Map\n",
    "# this can be adopted to obtain the global position of a vehicle in swarm simulation\n",
    "time.sleep(2)\n",
    "Error2UE4Map=[]\n",
    "for i in range(VehilceNum):\n",
    "    mav=MavList[i]\n",
    "    Error2UE4Map = Error2UE4Map+[-np.array([mav.uavGlobalPos[0]-mav.uavPosNED[0],mav.uavGlobalPos[1]-mav.uavPosNED[1],mav.uavGlobalPos[2]-mav.uavPosNED[2]])]\n",
    "\n",
    "# Enable vehicle number and trajectory display\n",
    "ue.sendUE4Cmd('RflyChangeViewKeyCmd S')    \n",
    "time.sleep(0.5)\n",
    "ue.sendUE4Cmd('RflyChangeViewKeyCmd T')    \n",
    "\n",
    "# fly to 10m high above its takeoff position\n",
    "for i in range(VehilceNum):\n",
    "    MavList[i].SendPosNED(0, 0, -10, 0) \n",
    "time.sleep(10)"
   ]
  },
  {
   "cell_type": "code",
   "execution_count": 5,
   "id": "94c714ca-b19a-4f92-b060-5ea7c30158b9",
   "metadata": {
    "jupyter": {
     "source_hidden": true
    }
   },
   "outputs": [],
   "source": [
    "#多无人机控制飞行\n",
    "lastTime = time.time()\n",
    "startTime = time.time()\n",
    "timeInterval = 1/30.0 #here is 0.0333s (30Hz)\n",
    "while True:\n",
    "    lastTime = lastTime + timeInterval\n",
    "    sleepTime = lastTime - time.time()\n",
    "    if sleepTime > 0:\n",
    "        time.sleep(sleepTime) # sleep until the desired clock\n",
    "    else:\n",
    "        lastTime = time.time()\n",
    "    # The following code will be executed 30Hz (0.0333s)\n",
    "    \n",
    "    t=time.time()-startTime\n",
    "    for j in range(VehilceNum):\n",
    "        mav=MavList[j]\n",
    "        \n",
    "        # target position in UE4 map global frame\n",
    "        if t<10:\n",
    "            targetPosE=np.array([-0,0,-15])\n",
    "        else:\n",
    "            targetPosE=np.array([10*math.sin(t/2+math.pi/2)-10,10*math.sin(t/2.0),-15])\n",
    "        \n",
    "        # target position in vehilce takeoff frame\n",
    "        targetPosE=targetPosE+Error2UE4Map[j]\n",
    "        mav.SendPosNED(targetPosE[0],targetPosE[1],targetPosE[2],0)\n",
    "    \n",
    "    if t>200:\n",
    "        break"
   ]
  },
  {
   "cell_type": "code",
   "execution_count": 6,
   "id": "5ff814c2-b5bf-4ae9-90b8-c78cb98bbe5e",
   "metadata": {},
   "outputs": [],
   "source": [
    "#控制结束\n",
    "for i in range(VehilceNum):\n",
    "    MavList[i].EndPointMassModel() "
   ]
  },
  {
   "cell_type": "markdown",
   "id": "ec35e863-c27a-46a9-bfc2-7b1106910142",
   "metadata": {},
   "source": [
    "## 多无人机坐标系\n",
    "\n",
    "每个无人机的坐标系都是自己的机体坐标系（NED），统一任务时，一般以1个无人机的坐标系为基准，进行坐标转换即可。\n",
    "<img src=\"img/s1-5-1.png\" width='600px' />\n",
    "\n",
    "\n",
    "\n",
    "NED（North-East-Down，北东地）坐标系是无人机导航与控制中的核心参考系，其特点与应用如下：\n",
    "\n",
    "### **1. NED定义与构成**\n",
    "NED坐标系是一种**局部笛卡尔坐标系**，原点通常设在无人机的起飞点或任务起始位置：\n",
    "\n",
    "- **X轴（N轴）**：指向地理正北方向；\n",
    "\n",
    "- **Y轴（E轴）**：指向地理正东方向；\n",
    "\n",
    "- **Z轴（D轴）**：垂直向下指向地心，遵循右手定则。\n",
    "\n",
    "与机体坐标系（Body Frame）不同，NED坐标系是**固定在地面或惯性空间的导航坐标系**，用于全局位置和运动状态的描述。而机体坐标系则是固连在无人机上的坐标系，其X轴指向机头，Y轴指向右侧，Z轴垂直向下或向上（根据具体定义）。\n",
    "\n",
    "---\n",
    "\n",
    "### **2. 核心功能与应用**\n",
    "#### **（1）导航与控制**\n",
    "• **位置与速度基准**：NED坐标系将GPS提供的WGS-84经纬度转换为局部平面坐标，简化路径规划和高度控制。例如，无人机的位置偏移量（如北偏10米、东偏5米）可直接用NED坐标表示。\n",
    "\n",
    "• **传感器数据融合**：IMU测量的加速度、陀螺仪角速度等机体坐标系数据，需通过坐标转换矩阵映射到NED坐标系，才能用于导航解算。\n",
    "\n",
    "#### **（2）飞控系统兼容性**\n",
    "在PX4等飞控系统中，NED坐标系是默认的导航参考系。无人机的初始位置（0,0,0）对应起飞点，所有控制指令（如目标位置、速度）均基于此坐标系生成。\n",
    "\n",
    "---\n",
    "\n",
    "### **3. 与其他坐标系的关系**\n",
    "• **GPS（WGS-84）**：GPS的经纬度需通过地球模型转换到NED坐标系，以适配局部导航需求；\n",
    "\n",
    "• **ECEF（地心地固系）**：NED是ECEF的局部简化版本，适用于小范围高精度导航，避免地心坐标系的计算复杂度。\n"
   ]
  },
  {
   "cell_type": "markdown",
   "id": "3b6a7775-efc4-4003-9a24-685d0ff604cd",
   "metadata": {},
   "source": [
    "参考文档\n",
    "1. https://rflysim.com/doc/zh/10/RflySimSwarm.html"
   ]
  },
  {
   "cell_type": "code",
   "execution_count": null,
   "id": "fab40de1-1546-4267-96d6-65fb5b0504d8",
   "metadata": {},
   "outputs": [],
   "source": []
  }
 ],
 "metadata": {
  "kernelspec": {
   "display_name": "Python 3 (ipykernel)",
   "language": "python",
   "name": "python3"
  },
  "language_info": {
   "codemirror_mode": {
    "name": "ipython",
    "version": 3
   },
   "file_extension": ".py",
   "mimetype": "text/x-python",
   "name": "python",
   "nbconvert_exporter": "python",
   "pygments_lexer": "ipython3",
   "version": "3.10.16"
  }
 },
 "nbformat": 4,
 "nbformat_minor": 5
}
