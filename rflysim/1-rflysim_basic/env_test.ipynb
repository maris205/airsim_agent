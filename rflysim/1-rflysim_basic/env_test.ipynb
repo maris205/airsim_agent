{
 "cells": [
  {
   "cell_type": "code",
   "execution_count": 1,
   "id": "b936d6f3-f42d-4608-90b8-a2702ad707d9",
   "metadata": {},
   "outputs": [
    {
     "name": "stdout",
     "output_type": "stream",
     "text": [
      "No Redis labs\n"
     ]
    }
   ],
   "source": [
    "import time\n",
    "import math\n",
    "import sys\n",
    "import PX4MavCtrlV4 as PX4MavCtrl #无人机控制"
   ]
  },
  {
   "cell_type": "code",
   "execution_count": 2,
   "id": "89592e5b-f464-4675-9831-ec07de1436d2",
   "metadata": {},
   "outputs": [],
   "source": [
    "#Create a new MAVLink communication instance, UDP sending port (CopterSim’s receving port) is 20100\n",
    "mav = PX4MavCtrl.PX4MavCtrler(1)"
   ]
  },
  {
   "cell_type": "code",
   "execution_count": 3,
   "id": "347cd3b6-8b6e-4d26-a5d6-9a65e6b51921",
   "metadata": {},
   "outputs": [
    {
     "name": "stdout",
     "output_type": "stream",
     "text": [
      "Failsafe enabled: no offboard\n",
      "Failsafe mode activated\n",
      "Failsafe mode deactivated\n",
      "Failsafe enabled: no offboard\n",
      "Failsafe mode activated\n"
     ]
    }
   ],
   "source": [
    "#Turn on MAVLink to monitor CopterSim data and update it in real time. \n",
    "mav.InitMavLoop()\n",
    "time.sleep(0.5)"
   ]
  },
  {
   "cell_type": "code",
   "execution_count": 4,
   "id": "3bcc5d40-0963-46be-a4af-092108d5ed22",
   "metadata": {},
   "outputs": [
    {
     "name": "stdout",
     "output_type": "stream",
     "text": [
      "[0.072880320250988, 0.019714362919330597, 0.008388661779463291] 0\n"
     ]
    }
   ],
   "source": [
    "#Display Position information received from CopterSim\n",
    "print(mav.uavPosNED, mav.yaw)"
   ]
  },
  {
   "cell_type": "code",
   "execution_count": 5,
   "id": "6803b708-2cb7-41f8-a9c0-f3b382f3f9f9",
   "metadata": {},
   "outputs": [],
   "source": [
    "#Turn on Offboard mode\n",
    "mav.initOffboard()\n",
    "time.sleep(1)"
   ]
  },
  {
   "cell_type": "code",
   "execution_count": 6,
   "id": "89b0de11-b66f-4773-9a59-9ee818b34f4f",
   "metadata": {},
   "outputs": [
    {
     "name": "stdout",
     "output_type": "stream",
     "text": [
      "Send Arm Command\n"
     ]
    }
   ],
   "source": [
    "#Send arm command to arm the drone,解锁\n",
    "mav.SendMavArm(True) \n",
    "print(\"Send Arm Command\")\n",
    "time.sleep(0.5)"
   ]
  },
  {
   "cell_type": "code",
   "execution_count": 7,
   "id": "42c126e7-208e-464c-9125-fc97b07eeb77",
   "metadata": {},
   "outputs": [
    {
     "name": "stdout",
     "output_type": "stream",
     "text": [
      "Send target Pos\n"
     ]
    }
   ],
   "source": [
    "# Send the desired position signal, fly to the target point 0,0, -1.7 position, the yaw angle is 0\n",
    "mav.SendPosNED(0, 0, -10, 0) \n",
    "print(\"Send target Pos\")\n",
    "time.sleep(5)"
   ]
  },
  {
   "cell_type": "code",
   "execution_count": 8,
   "id": "51eb382c-1051-4728-b6ce-702a69f454ce",
   "metadata": {},
   "outputs": [
    {
     "name": "stdout",
     "output_type": "stream",
     "text": [
      "Send Velocity Speed\n"
     ]
    }
   ],
   "source": [
    "# Send the desired speed signal, 0.2m/s downwards, the z-axis downward is positive\n",
    "mav.SendVelNED(0, 0, 0.2, 0) \n",
    "print(\"Send Velocity Speed\")\n",
    "time.sleep(5)"
   ]
  },
  {
   "cell_type": "code",
   "execution_count": 9,
   "id": "f2be1198-6f0e-43c2-b46e-e9b6b8742962",
   "metadata": {},
   "outputs": [],
   "source": [
    "pos = mav.uavPosNED\n",
    "mav.SendPosNED(pos[0],pos[1],0, 0) "
   ]
  },
  {
   "cell_type": "code",
   "execution_count": null,
   "id": "d84b3559-20fa-4c04-b7db-b3ee00dec061",
   "metadata": {},
   "outputs": [],
   "source": []
  }
 ],
 "metadata": {
  "kernelspec": {
   "display_name": "Python 3 (ipykernel)",
   "language": "python",
   "name": "python3"
  },
  "language_info": {
   "codemirror_mode": {
    "name": "ipython",
    "version": 3
   },
   "file_extension": ".py",
   "mimetype": "text/x-python",
   "name": "python",
   "nbconvert_exporter": "python",
   "pygments_lexer": "ipython3",
   "version": "3.10.16"
  }
 },
 "nbformat": 4,
 "nbformat_minor": 5
}
