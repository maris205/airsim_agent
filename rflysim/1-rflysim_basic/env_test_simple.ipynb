{
 "cells": [
  {
   "cell_type": "code",
   "execution_count": 1,
   "id": "b936d6f3-f42d-4608-90b8-a2702ad707d9",
   "metadata": {},
   "outputs": [
    {
     "name": "stdout",
     "output_type": "stream",
     "text": [
      "No Redis labs\n"
     ]
    }
   ],
   "source": [
    "import time\n",
    "import math\n",
    "import sys\n",
    "import PX4MavCtrlV4 as PX4MavCtrl #无人机控制"
   ]
  },
  {
   "cell_type": "code",
   "execution_count": 2,
   "id": "89592e5b-f464-4675-9831-ec07de1436d2",
   "metadata": {},
   "outputs": [],
   "source": [
    "#Create a new MAVLink communication instance, UDP sending port (CopterSim’s receving port) is 20100\n",
    "mav = PX4MavCtrl.PX4MavCtrler(1)"
   ]
  },
  {
   "cell_type": "code",
   "execution_count": 3,
   "id": "347cd3b6-8b6e-4d26-a5d6-9a65e6b51921",
   "metadata": {},
   "outputs": [],
   "source": [
    "#简单模式,intAlt初始高度，intState初始位置\n",
    "mav.initPointMassModel(intAlt=-19,intState=[0,0,0])"
   ]
  },
  {
   "cell_type": "code",
   "execution_count": 4,
   "id": "3bcc5d40-0963-46be-a4af-092108d5ed22",
   "metadata": {},
   "outputs": [
    {
     "name": "stdout",
     "output_type": "stream",
     "text": [
      "[0.0, 0.0, 0.0]\n"
     ]
    }
   ],
   "source": [
    "#Display Position information received from CopterSim\n",
    "print(mav.uavPosNED)"
   ]
  },
  {
   "cell_type": "code",
   "execution_count": 5,
   "id": "6803b708-2cb7-41f8-a9c0-f3b382f3f9f9",
   "metadata": {},
   "outputs": [],
   "source": [
    "# fly to 10m high above its takeoff position\n",
    "mav.SendPosNED(0, 0, -28, 0) \n",
    "time.sleep(1)"
   ]
  },
  {
   "cell_type": "code",
   "execution_count": 6,
   "id": "89b0de11-b66f-4773-9a59-9ee818b34f4f",
   "metadata": {},
   "outputs": [
    {
     "name": "stdout",
     "output_type": "stream",
     "text": [
      "[0.0, 0.0, -27.962820770235865]\n"
     ]
    }
   ],
   "source": [
    "print(mav.uavPosNED)"
   ]
  },
  {
   "cell_type": "code",
   "execution_count": null,
   "id": "42c126e7-208e-464c-9125-fc97b07eeb77",
   "metadata": {},
   "outputs": [],
   "source": []
  }
 ],
 "metadata": {
  "kernelspec": {
   "display_name": "Python 3 (ipykernel)",
   "language": "python",
   "name": "python3"
  },
  "language_info": {
   "codemirror_mode": {
    "name": "ipython",
    "version": 3
   },
   "file_extension": ".py",
   "mimetype": "text/x-python",
   "name": "python",
   "nbconvert_exporter": "python",
   "pygments_lexer": "ipython3",
   "version": "3.10.16"
  }
 },
 "nbformat": 4,
 "nbformat_minor": 5
}
