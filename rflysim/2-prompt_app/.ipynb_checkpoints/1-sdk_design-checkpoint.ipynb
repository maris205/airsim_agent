{
 "cells": [
  {
   "cell_type": "markdown",
   "id": "efadd544-1278-4e37-b59c-6801c10fb243",
   "metadata": {},
   "source": [
    "# 2.1 无人机sdk封装"
   ]
  },
  {
   "cell_type": "markdown",
   "id": "d2721563-140b-4f9f-9a4b-db6571d7168b",
   "metadata": {},
   "source": [
    "1. **像人一样操作无人机**\n",
    "\n",
    "    使用大模型控制无人机，类似和飞手操作无人机一样，如何让操作更简单，是应用大模型的关键。\n",
    "\n",
    "2. **原始API过于复杂**\n",
    "\n",
    "    目前airsim如起飞就要调用多个api函数，主要是从系统稳定性，易用性等方面考虑设计的，但对一个大模型或者飞手而言，可能更需要的是“起飞”这一个操作就行\n",
    "\n",
    "\n",
    "----\n",
    "\n",
    "根据一些研究和实践，一般需要对无人机或者类似的无人装备的sdk进行二次封装，更方便大模型调用，常见的规则如下：\n",
    "\n",
    "\n",
    "1. **接口语义化封装**\n",
    "将底层坐标系转换（如AirSim的z轴负方向）封装在接口内部，对外暴露自然语义（如`fly_to([x,y,正数高度]`）），类似代码中`fly_to()`对z值的处理逻辑。\n",
    "\n",
    "2. **功能原子化**\n",
    "每个方法对应独立操作单元（如takeoff/land单独封装），避免复合操作，方便大模型按需调用（类似`set_yaw()`与`fly_to`的分离）\n",
    "\n",
    "3. **参数标准化**\n",
    "统一使用基础数据类型（list/dict）作为输入输出，如位置统一返回[x,y,z]列表，降低大模型处理复杂度（参见`get_drone_position()`返回值设计）\n",
    "\n",
    "4. **异常静默处理**\n",
    "内置重试机制和默认值返回，如`get_position()`中的while循环规避空值，避免调用链路中断\n",
    "\n",
    "5. **物理单位统一**\n",
    "内部统一转换量纲（如弧度转角度），对外始终使用直观单位（如`get_yaw()`返回角度值）\n",
    "\n",
    "6. **上下文保持**\n",
    "维持client连接状态（__init__中初始化连接），通过类属性保存会话上下文，确保多指令调用的连续性\n",
    "\n",
    "7. **语义别名映射**\n",
    "建立对象字典（objects_dict）实现自然语言到引擎对象的转换，提升提示词相容性\n",
    "\n",
    "8. **异步转同步**\n",
    "通过.join()将异步操作转为同步（如takeoffAsync().join()），避免大模型处理异步回调的复杂性\n",
    "\n",
    "9. **传感器抽象**\n",
    "对原始传感器数据（如Lidar点云）进行预处理，返回可直接使用的指标数据（`get_distance()`返回最小距离值）\n",
    "\n",
    "10. **安全边界设置**\n",
    "在关键操作（如reset）中保持API控制权，通过`enableApiControl`等机制防止失控\n",
    "\n",
    "建议补充规则：增加方法调用前的前置条件校验（如起飞前检查解锁状态）、返回结构标准化（统一包含success标志位）、增加调试模式开关等，可进一步提升大模型调用可靠性。"
   ]
  },
  {
   "cell_type": "markdown",
   "id": "fab21e17-f5e1-4ea3-9ba5-86ce82bf0fa5",
   "metadata": {},
   "source": [
    "一些典型的封装方式如下："
   ]
  },
  {
   "cell_type": "code",
   "execution_count": null,
   "id": "19637c65-3d1b-41ba-ad84-42a43259f4d6",
   "metadata": {},
   "outputs": [],
   "source": [
    "    def takeoff(self):\n",
    "        \"\"\"\n",
    "        takeoff the drone\n",
    "        \"\"\"\n",
    "        self.mav.SendPosNED(0, 0, -3, 0) \n",
    "\n",
    "    def land(self):\n",
    "        \"\"\"\n",
    "        land the drone\n",
    "        \"\"\"\n",
    "        self.mav.SendVelNED(0, 0, 0.2, 0) \n",
    "        time.sleep(1)\n",
    "\n",
    "\n",
    "    def get_drone_position(self):\n",
    "        \"\"\"\n",
    "        get the current position of the drone\n",
    "        :return: position, the current position of the drone\n",
    "        \"\"\"\n",
    "        pose = self.mav.uavPosNED\n",
    "        return pose"
   ]
  },
  {
   "cell_type": "markdown",
   "id": "2805abf5-d9a8-4b91-9fd0-2be600808534",
   "metadata": {},
   "source": [
    "具体可以参考rflysim_wrapper.py代码\n",
    "\n",
    "后面如果使用专门的框架，则对函数封装形式会有更明确的要求，如："
   ]
  },
  {
   "cell_type": "code",
   "execution_count": null,
   "id": "d0221763-a14a-46b4-b921-805d7ab81518",
   "metadata": {},
   "outputs": [],
   "source": [
    "@tool\n",
    "def suggest_menu(occasion: str) -> str:\n",
    "    \"\"\"\n",
    "    Suggests a menu based on the occasion.\n",
    "    Args:\n",
    "        occasion: The type of occasion for the party.\n",
    "    \"\"\"\n",
    "    if occasion == \"casual\":\n",
    "        return \"Pizza, snacks, and drinks.\"\n",
    "    elif occasion == \"formal\":\n",
    "        return \"3-course dinner with wine and dessert.\"\n",
    "    elif occasion == \"superhero\":\n",
    "        return \"Buffet with high-energy and healthy food.\"\n",
    "    else:\n",
    "        return \"Custom menu for the butler.\"\n",
    "\n",
    "@tool\n",
    "def get_position(object_name:str)->[float, float, float]:\n",
    "    \"\"\"\n",
    "    get the position of a specific object\n",
    "    :param object_name: the name of the object\n",
    "    :return: position, the position of the object\n",
    "    \"\"\"\n",
    "    query_string = objects_dict[object_name] + \".*\"\n",
    "    object_names_ue = []\n",
    "    while len(object_names_ue) == 0:\n",
    "        object_names_ue = self.client.simListSceneObjects(query_string)\n",
    "    pose = self.client.simGetObjectPose(object_names_ue[0])\n",
    "    return [pose.position.x_val, pose.position.y_val, pose.position.z_val]\n"
   ]
  },
  {
   "cell_type": "markdown",
   "id": "de1cdf6f-82de-412e-ba91-1d349479b42c",
   "metadata": {},
   "source": [
    "## SDK代码测试，打开rflysim模拟器"
   ]
  },
  {
   "cell_type": "code",
   "execution_count": 1,
   "id": "d3e0b9c4-0af2-40c4-8f90-0b4a7204e920",
   "metadata": {},
   "outputs": [
    {
     "name": "stdout",
     "output_type": "stream",
     "text": [
      "No Redis labs\n"
     ]
    }
   ],
   "source": [
    "#打开模拟器\n",
    "import rflysim_wrapper\n",
    "aw = rflysim_wrapper.RflySimWrapper()"
   ]
  },
  {
   "cell_type": "code",
   "execution_count": 2,
   "id": "6971ba3a-2735-4d52-b93b-e8cd1b2c37ce",
   "metadata": {},
   "outputs": [],
   "source": [
    "aw.takeoff()"
   ]
  },
  {
   "cell_type": "code",
   "execution_count": 3,
   "id": "0ecf5042-c4bd-4bdb-9ac5-abb7a8b9c429",
   "metadata": {},
   "outputs": [
    {
     "name": "stdout",
     "output_type": "stream",
     "text": [
      "done\n"
     ]
    }
   ],
   "source": [
    "aw.fly_to([20, 0, -10])\n",
    "print(\"done\")"
   ]
  },
  {
   "cell_type": "code",
   "execution_count": 4,
   "id": "a77a36b0-fbeb-41a9-a688-f6ea5986bdfa",
   "metadata": {},
   "outputs": [],
   "source": [
    "aw.land()"
   ]
  },
  {
   "cell_type": "code",
   "execution_count": null,
   "id": "574e4e48-b021-468b-8fb1-482a829575e6",
   "metadata": {},
   "outputs": [],
   "source": []
  }
 ],
 "metadata": {
  "kernelspec": {
   "display_name": "Python 3 (ipykernel)",
   "language": "python",
   "name": "python3"
  },
  "language_info": {
   "codemirror_mode": {
    "name": "ipython",
    "version": 3
   },
   "file_extension": ".py",
   "mimetype": "text/x-python",
   "name": "python",
   "nbconvert_exporter": "python",
   "pygments_lexer": "ipython3",
   "version": "3.10.16"
  }
 },
 "nbformat": 4,
 "nbformat_minor": 5
}
