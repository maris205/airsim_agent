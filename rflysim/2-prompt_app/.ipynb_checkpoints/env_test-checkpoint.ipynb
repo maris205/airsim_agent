{
 "cells": [
  {
   "cell_type": "code",
   "execution_count": 1,
   "id": "4c2be944-63a7-40f2-a5f0-fb745d143d98",
   "metadata": {},
   "outputs": [],
   "source": [
    "import sys\n",
    "sys.path.append('../external-libraries')\n",
    "import airsim\n",
    "import math\n",
    "import numpy as np"
   ]
  },
  {
   "cell_type": "code",
   "execution_count": null,
   "id": "c3cbde0b-a2c2-4a77-a4f5-ba5032aed733",
   "metadata": {},
   "outputs": [],
   "source": []
  }
 ],
 "metadata": {
  "kernelspec": {
   "display_name": "Python 3 (ipykernel)",
   "language": "python",
   "name": "python3"
  },
  "language_info": {
   "codemirror_mode": {
    "name": "ipython",
    "version": 3
   },
   "file_extension": ".py",
   "mimetype": "text/x-python",
   "name": "python",
   "nbconvert_exporter": "python",
   "pygments_lexer": "ipython3",
   "version": "3.10.13"
  }
 },
 "nbformat": 4,
 "nbformat_minor": 5
}
