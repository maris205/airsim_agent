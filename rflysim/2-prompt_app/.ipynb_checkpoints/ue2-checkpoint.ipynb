{
 "cells": [
  {
   "cell_type": "code",
   "execution_count": 1,
   "id": "fe563663-8f44-4e29-bab1-ecdb0b3ad69b",
   "metadata": {},
   "outputs": [],
   "source": [
    "import time\n",
    "import math\n",
    "import sys\n",
    "# import PX4MavCtrlV4 as PX4MavCtrl\n",
    "import UE4CtrlAPI\n",
    "ue = UE4CtrlAPI.UE4CtrlAPI()\n",
    "# The IP should be specified by the other computer\n",
    "# mav = PX4MavCtrl.PX4MavCtrler()"
   ]
  },
  {
   "cell_type": "code",
   "execution_count": 2,
   "id": "9c443617-7641-47de-be9f-0da56735e682",
   "metadata": {},
   "outputs": [],
   "source": [
    "# 创建一号障碍物\n",
    "# sendUE4Pos: RflySim3D API to generate 3D objects and control position\n",
    "# Formart: ue.sendUE4Pos(CopterID, VehicleType, RotorSpeed, PosM, AngEulerRad, windowsID=0)\n",
    "ue.sendUE4Pos(100,30,0,[2.5,0,-8.086],[0,0,math.pi])\n",
    "# Send and generate a 3D object to RflySim3D, where: the vehicle ID is CopterID=100;\n",
    "# Vehicle type VehicleType=30 (a man); RotorSpeed=0RPM; Position coordinate PosM=[2.5,0,-8.086]m\n",
    "# Vehicle attitude angle AngEulerRad=[0,0,math.pi]rad (rotate 180 degrees to face the vehicle), the receiving window number default windowsID=-1 (sent to all open RflySim3D programs)\n",
    "# VehicleType options: 3 for quadcopters, 5/6 for hexacopters, 30 for persons, 40 for checkerboard grids, 50/51 for cars, 60 for luminous lights, 100 for flying-wing or fixed-wing aircraft, 150/152 for circular square targets\n",
    "time.sleep(0.5)\n",
    "\n",
    "#创建2号障碍物\n",
    "ue.sendUE4PosScale(101,200030,0,[10.5,0,-8.086],[0,0,math.pi],[10,10,10])\n",
    "# Send and generate a 3D object to RflySim3D, where: the vehicle ID is CopterID=101;\n",
    "# Vehicle type VehicleType=200030 means Type=30 (a man) with model = 2; RotorSpeed=0RPM; Position coordinate PosM=[10.5,0,-8.086]m, scale=[10,10,10] times in xyz direction\n",
    "time.sleep(0.5)"
   ]
  },
  {
   "cell_type": "code",
   "execution_count": 3,
   "id": "7dcb7e62-33fd-4289-ba53-d73bd7afbb31",
   "metadata": {},
   "outputs": [
    {
     "name": "stdout",
     "output_type": "stream",
     "text": [
      "RflyReqObjData 2 Landscape_1 0\n"
     ]
    }
   ],
   "source": [
    "# 发送消息给RflySim3D，让其将当前收到的飞机数据转发出来，回传到组播地址224.0.0.10的20006端口\n",
    "TargetCopterID = 1\n",
    "ue.reqCamCoptObj(1,[TargetCopterID,100])#发送请求到RflySim3D，返回飞机数据，1和100号飞机\n",
    "# 注意：第二位输入可以是一个数，也可以是一个数组（同时请求多条）\n",
    "targetObj2='Landscape_1'\n",
    "ue.reqCamCoptObj(2,targetObj2)#发送请求到RflySim3D，返回物体数据，名字为Landscape_1的物体\n",
    "time.sleep(2)\n",
    "# 注：飞机位置发生改变时，数据会立刻传出；飞机位置未更新，则1s发出一次\n",
    "\n",
    "\n",
    "# Python开始飞机数据的监听，数据存储在inReqVect列表（碰撞数据）中\n",
    "ue.initUE4MsgRec()\n",
    "time.sleep(3)"
   ]
  },
  {
   "cell_type": "code",
   "execution_count": 5,
   "id": "57fc09c9-fce2-43a1-8d0b-212013d2d1bc",
   "metadata": {},
   "outputs": [
    {
     "name": "stdout",
     "output_type": "stream",
     "text": [
      "Total Copter:  1\n",
      "No data for copter 1\n",
      "Total Object:  1\n",
      "Got data for copter Landscape_1 :  (-504.0, -504.0, -1.0)\n"
     ]
    }
   ],
   "source": [
    "# 通过getUE4Data来获取\n",
    "print('Total Copter: ',len(ue.CoptDataVect))\n",
    "Copt = ue.getCamCoptObj(1,TargetCopterID) #获取目标1号飞机的结构体引用\n",
    "if isinstance(Copt,UE4CtrlAPI.CoptReqData):\n",
    "    print('Got data for copter',TargetCopterID,': ', Copt.PosUE)    \n",
    "else:\n",
    "    print('No data for copter',TargetCopterID)\n",
    "\n",
    "print('Total Object: ',len(ue.ObjDataVect))\n",
    "Obj = ue.getCamCoptObj(2,targetObj2) #获取目标1号飞机的结构体引用\n",
    "if isinstance(Obj,UE4CtrlAPI.ObjReqData):\n",
    "    print('Got data for copter',targetObj2,': ', Obj.PosUE)    \n",
    "else:\n",
    "    print('No data for copter',targetObj2)"
   ]
  },
  {
   "cell_type": "code",
   "execution_count": null,
   "id": "07ca8256-158c-4f74-bdf1-ce655e498338",
   "metadata": {},
   "outputs": [],
   "source": []
  }
 ],
 "metadata": {
  "kernelspec": {
   "display_name": "Python 3 (ipykernel)",
   "language": "python",
   "name": "python3"
  },
  "language_info": {
   "codemirror_mode": {
    "name": "ipython",
    "version": 3
   },
   "file_extension": ".py",
   "mimetype": "text/x-python",
   "name": "python",
   "nbconvert_exporter": "python",
   "pygments_lexer": "ipython3",
   "version": "3.10.16"
  }
 },
 "nbformat": 4,
 "nbformat_minor": 5
}
