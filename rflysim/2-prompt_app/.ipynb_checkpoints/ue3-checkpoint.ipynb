{
 "cells": [
  {
   "cell_type": "code",
   "execution_count": 1,
   "id": "fe563663-8f44-4e29-bab1-ecdb0b3ad69b",
   "metadata": {},
   "outputs": [],
   "source": [
    "import time\n",
    "import math\n",
    "import sys\n",
    "# import PX4MavCtrlV4 as PX4MavCtrl\n",
    "import UE4CtrlAPI\n",
    "ue = UE4CtrlAPI.UE4CtrlAPI()"
   ]
  },
  {
   "cell_type": "code",
   "execution_count": 2,
   "id": "7dcb7e62-33fd-4289-ba53-d73bd7afbb31",
   "metadata": {},
   "outputs": [
    {
     "name": "stdout",
     "output_type": "stream",
     "text": [
      "RflyReqObjData 2 Landscape_1 0\n"
     ]
    }
   ],
   "source": [
    "# Python开始飞机数据的监听，数据存储在inReqVect列表（碰撞数据）中\n",
    "ue.initUE4MsgRec()\n",
    "time.sleep(3)"
   ]
  },
  {
   "cell_type": "code",
   "execution_count": null,
   "id": "588b1bbc-8062-4b32-ba91-2be861886cf2",
   "metadata": {},
   "outputs": [],
   "source": [
    "targetObj2='Landscape_1'\n",
    "ue.reqCamCoptObj(2,targetObj2)#发送请求到RflySim3D，返回物体数据，名字为Landscape_1的物体\n",
    "time.sleep(2)\n",
    "# 注：飞机位置发生改变时，数据会立刻传出；飞机位置未更新，则1s发出一次"
   ]
  },
  {
   "cell_type": "code",
   "execution_count": 3,
   "id": "57fc09c9-fce2-43a1-8d0b-212013d2d1bc",
   "metadata": {},
   "outputs": [
    {
     "name": "stdout",
     "output_type": "stream",
     "text": [
      "Total Object:  1\n",
      "Got data for copter Landscape_1 :  (-504.0, -504.0, -1.0)\n"
     ]
    }
   ],
   "source": [
    "print('Total Object: ',len(ue.ObjDataVect))\n",
    "Obj = ue.getCamCoptObj(2,targetObj2) #获取目标1号飞机的结构体引用\n",
    "if isinstance(Obj,UE4CtrlAPI.ObjReqData):\n",
    "    print('Got data for copter',targetObj2,': ', Obj.PosUE)    \n",
    "else:\n",
    "    print('No data for copter',targetObj2)"
   ]
  },
  {
   "cell_type": "code",
   "execution_count": null,
   "id": "07ca8256-158c-4f74-bdf1-ce655e498338",
   "metadata": {},
   "outputs": [],
   "source": []
  },
  {
   "cell_type": "code",
   "execution_count": null,
   "id": "d4fa88b2-3ce9-4da6-9349-6c3b4579a41b",
   "metadata": {},
   "outputs": [],
   "source": []
  }
 ],
 "metadata": {
  "kernelspec": {
   "display_name": "Python 3 (ipykernel)",
   "language": "python",
   "name": "python3"
  },
  "language_info": {
   "codemirror_mode": {
    "name": "ipython",
    "version": 3
   },
   "file_extension": ".py",
   "mimetype": "text/x-python",
   "name": "python",
   "nbconvert_exporter": "python",
   "pygments_lexer": "ipython3",
   "version": "3.10.16"
  }
 },
 "nbformat": 4,
 "nbformat_minor": 5
}
