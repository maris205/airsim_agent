{
 "cells": [
  {
   "cell_type": "markdown",
   "id": "8f6d207c-e3bc-429b-b3ac-6a852b918248",
   "metadata": {},
   "source": [
    "# 2.3 大模型提示词工程入门"
   ]
  },
  {
   "cell_type": "markdown",
   "id": "a4cd645a-6a59-4783-ac9a-4e90819a5e48",
   "metadata": {},
   "source": [
    "### **大模型时代的编程==提示词撰写**\n",
    "\n",
    "\n",
    "提示词工程（Prompt Engineering）是一种系统性优化人工智能交互的关键技术，通过设计、调试和优化提示词（Prompt）来精准引导大语言模型（LLM）输出符合预期的结果。目前大部分应用都是通过提示词完成的。以下是其核心要点：\n",
    "\n",
    "---\n",
    "\n",
    "### **一、定义与核心目标**\n",
    "1. **定义**  \n",
    "   让大模型听懂人话。提示词工程将模糊的用户需求转化为结构化指令，通过控制输入内容来调节模型行为，减少输出的随机性并激发模型潜在能力。其本质是构建“人机协同”的标准化交互流程，而非简单的提问技巧。\n",
    "\n",
    "2. **核心目标**\n",
    "\n",
    "   \n",
    "• **对齐意图**：将人类需求转化为模型可理解的表达（例如通过角色扮演框架“你是一名资深律师”）。\n",
    "\n",
    "• **控制输出**：通过明确指令（如格式、长度）减少不确定性（例如要求生成Markdown表格）；  \n",
    "• **激发能力**：解锁模型的推理、创作等高级能力（如用思维链CoT技术引导复杂问题解决）；  \n",
    "\n",
    "---\n",
    "\n",
    "### **二、关键技术要素**\n",
    "1. **结构化设计**  \n",
    "   • **模块化构建**：将提示拆解为角色、任务、约束等模块（例如“角色+背景+输出要求”框架）；  \n",
    "   • **参数调节**：显式控制模型参数（如`temperature`调整输出随机性）；  \n",
    "   • **多模型协同**：复杂任务中调用多模型接力处理（如先用GPT生成文案，再用Stable Diffusion生成配图）。\n",
    "\n",
    "2. **优化方法**  \n",
    "   • **迭代测试**：通过多轮调试优化提示词，类似代码测试流程；  \n",
    "   • **领域知识嵌入**：在专业场景中注入术语和规范（如法律文件需引用《民法典》条款）；  \n",
    "   • **上下文管理**：动态截断或保留历史对话以平衡Token消耗。\n",
    "\n",
    "---\n",
    "\n",
    "### **三、应用场景**\n",
    "1. **内容创作**：生成营销文案、学术报告等结构化内容（如电商直播话术设计需包含价格锚点和互动机制）；  \n",
    "2. **专业提效**：辅助法律合规审查、金融数据分析等需高准确度的任务；  \n",
    "3. **跨模态生成**：在图像生成中描述风格参数（如“赛博朋克风格，霓虹灯光”）。\n",
    "\n",
    "---\n",
    "\n",
    "### **四、发展现状与挑战**\n",
    "• **职业化趋势**：提示词工程师（Prompt Engineer）成为新兴岗位，需兼具领域知识和模型理解能力；  \n",
    "• **技术挑战**：需解决模型幻觉、伦理风险（如偏见输出）及长上下文处理能力限制；  \n",
    "• **工具支持**：火山云方舟等平台已提供提示词开发、评估的全流程管理工具。\n",
    "\n",
    "通过系统化设计，提示词工程正推动AI从“工具”向“协作伙伴”演进，成为释放大模型潜力的核心方法论。"
   ]
  },
  {
   "cell_type": "markdown",
   "id": "e6e11744-74b9-4645-80d1-da6d67156001",
   "metadata": {},
   "source": [
    "## 适用于函数调用的提示词\n",
    "\n",
    "大模型控制无人机飞行，其实就是用大模型生成代码，控制无人机飞行，完成各类任务，最简单的方法就是通过提示词完成无人机相关的sdk函数调用。\n",
    "\n",
    "### 角色使用\n",
    "- system角色定义：如数据科学家（仅能调用分析类API）  \n",
    "- user角色权限：提交原始数据请求，调用函数等\n",
    "\n",
    "\n",
    "### 函数描述模板\n",
    "\n",
    "\n",
    "\n",
    "#### **模板1：简单描述**\n",
    "```text\n",
    "aw.takeoff() - 起飞无人机。\n",
    "aw.land() - 无人机着陆。\n",
    "aw.get_drone_position() - 以与 X,Y,Z 坐标相对应的 3 个浮点数的列表形式返回无人机的当前位置。\n",
    "\n",
    "```\n",
    "*特点*：  \n",
    "• 简单易懂  \n",
    "• 适用于简单的函数调用  \n",
    "\n",
    "\n",
    "#### **模板2：带参数描述**\n",
    "```text\n",
    "函数名: validate_user_registration  \n",
    "功能: 验证用户注册信息合法性  \n",
    "输入参数:  \n",
    "- username: 字符串（长度4-20字符，仅允许字母数字）  \n",
    "- password: 字符串（至少包含大写字母、数字和特殊符号）  \n",
    "- email: 符合RFC 5322标准的邮箱地址  \n",
    "返回值:  \n",
    "- {\"status\": \"success/error\", \"message\": \"详细描述\"}\n",
    "```\n",
    "*特点*：  \n",
    "• 参数添加表达式约束  \n",
    "• 返回值结构预定义\n",
    "\n",
    "---\n",
    "\n",
    "#### **模板3：场景应用模板**\n",
    "```text\n",
    "\n",
    "可用函数列表：\n",
    "1. 函数名: query_customer_orders  \n",
    "   功能: 查询客户历史订单  \n",
    "   输入:  \n",
    "   - customer_id: 整数（必填）  \n",
    "   - start_date: 日期格式YYYY-MM-DD（默认最近30天）  \n",
    "   输出:  \n",
    "   - JSON数组包含订单ID、金额、状态  \n",
    "2. 函数名: update_order_status  \n",
    "   功能: 修改订单物流状态  \n",
    "   输入:  \n",
    "   - order_id: 整数（必填）  \n",
    "   - new_status: 枚举值[\"已发货\",\"退货中\",\"已完成\"]  \n",
    "   输出:  \n",
    "   - {\"affected_rows\": 整数}\n",
    "```\n",
    "*优化点*：  \n",
    "• 日期格式标准化（避免歧义）  \n",
    "• 状态字段枚举限制\n",
    "\n",
    "---\n",
    "\n",
    "\n",
    "#### **错误处理模板**\n",
    "```text\n",
    "函数名: process_payment  \n",
    "功能: 信用卡支付处理  \n",
    "输入:  \n",
    "- card_number: 字符串（符合Luhn算法校验）  \n",
    "- amount: 数值（≥0.01美元）  \n",
    "- currency: 枚举[\"USD\",\"EUR\"]  \n",
    "错误代码:  \n",
    "- 1001: 卡号无效  \n",
    "- 1002: 余额不足  \n",
    "- 1003: 货币不匹配  \n",
    "返回:  \n",
    "- 成功: {\"transaction_id\": 字符串}  \n",
    "- 失败: {\"error_code\": 整数, \"suggestion\": 解决建议}\n",
    "```\n",
    "*优势*：  \n",
    "• 输入参数算法级校验\n",
    "• 错误代码与解决方案映射\n",
    "\n",
    "\n",
    "### 大模型函数调用的发展\n",
    "\n",
    "**提示词方式（Prompt）**、**函数调用方式（Function Call）** 和 **模型控制协议（MCP）** 对比\n",
    "\n",
    "---\n",
    "\n",
    "| **特性**                | **提示词方式（Prompt）**                                                                 | **函数调用方式（Function Call）**                                             | **模型控制协议（MCP）**                                                     |\n",
    "|-------------------------|----------------------------------------------------------------------------------------|-----------------------------------------------------------------------------|---------------------------------------------------------------------------|\n",
    "| **核心原理**            | 通过自然语言描述任务，引导模型生成输出。                                                  | 模型生成 JSON 格式的调用请求，外部工具执行具体操作并返回结果。                       | 标准化协议，支持多模型协同、动态任务分配和实时监控。                               |\n",
    "| **适用场景**            | 简单任务（如文本生成、问答、翻译）。                                                     | 复杂任务（如数据库查询、API 调用、计算任务）。                                   | 多模型协同任务（如文本生成 + 图像生成 + 数据分析）。                           |\n",
    "| **灵活性**              | 高：可通过自然语言自由描述任务。                                                         | 中：任务范围受限于预定义函数。                                                 | 高：支持动态任务分配和多模型协同。                                             |\n",
    "| **可控性**              | 低：输出结果可能偏离预期，需多次调试提示词。                                               | 高：通过结构化参数约束输出，减少模型幻觉。                                       | 高：通过配置文件定义模型行为和交互规则。                                       |\n",
    "| **开发成本**            | 低：无需额外工具，直接通过自然语言交互。                                                   | 高：需预先定义函数并实现逻辑。                                                 | 高：需掌握协议规范并配置工具链。                                               |\n",
    "| **效率**                | 低：复杂任务需多次交互，Token 消耗大。                                                    | 高：复杂任务可通过外部工具快速完成。                                             | 中：多模型协同需更多计算资源。                                                 |\n",
    "| **标准化程度**          | 低：提示词设计依赖开发者经验。                                                           | 中：需遵循函数调用规范。                                                       | 高：统一接口和配置文件，降低集成难度。                                           |\n",
    "| **示例**                | ```你是一名翻译，请将以下英文翻译为中文：\"Hello, world!\"```                              | ```{\"function\": \"get_weather\", \"parameters\": {\"location\": \"Beijing\"}}```     | ```models: [{name: gpt-4, role: text_generator}, {name: sd, role: image_generator}]``` |\n",
    "| **优点**                | 灵活性强，开发成本低。                                                                   | 可控性强，效率高。                                                             | 扩展性强，标准化程度高。                                                     |\n",
    "| **缺点**                | 可控性差，效率低。                                                                       | 开发成本高，灵活性低。                                                         | 复杂度高，资源消耗大。                                                       |\n",
    "| **未来优化方向**        | 结合强化学习自动生成高效提示词。                                                         | 支持动态函数注册和实时更新。                                                   | 更多厂商和开发者加入协议生态。                                                 |\n",
    "\n",
    "---\n",
    "\n",
    "### **总结**\n",
    "1. **提示词方式**：适合快速验证和简单任务，但可控性和效率较低。  \n",
    "2. **函数调用方式**：适合复杂任务，可控性和效率高，但开发成本较高。  \n",
    "3. **MCP**：适合多模型协同任务，扩展性和标准化程度高，但复杂度和资源消耗较大。\n",
    "\n",
    "根据具体任务需求选择合适的方式，或结合多种方式实现最佳效果。\n"
   ]
  },
  {
   "cell_type": "markdown",
   "id": "c24d56be-ebe5-473c-802d-d0d7bc0edf0c",
   "metadata": {},
   "source": [
    "## 无人机控制system角色\n",
    "\n",
    "提示词描述如下：\n",
    "\n",
    "```text\n",
    "你是一个帮助我使用RflySim无人机模拟器的助手。  \n",
    "当我要求你做某事时，你需要提供实现该任务所需的Python代码（仅使用AirSim和相关函数），并解释代码的功能。  \n",
    "你只能使用我已经定义的函数，不能假设或使用任何你认为可能存在的其他函数。  \n",
    "你可以使用简单的Python库函数，例如`math`和`numpy`。\n",
    "\n",
    "回复均按照如下格式：\n",
    "```python\n",
    "aw.land()\n",
    "```\n",
    "此代码功能为无人起飞\n",
    "\n",
    "```"
   ]
  },
  {
   "cell_type": "markdown",
   "id": "f13513e1-9613-4b58-9768-a6fd1ca20ab2",
   "metadata": {},
   "source": [
    "## 函数描述\n",
    "\n",
    "```text\n",
    "以下是您可以用来命令无人机的一些功能。\n",
    "aw.takeoff() - 起飞无人机。\n",
    "aw.land() - 无人机着陆。\n",
    "```"
   ]
  },
  {
   "cell_type": "code",
   "execution_count": 1,
   "id": "ba9a59ba-cfff-461a-a377-7a89409f17b0",
   "metadata": {},
   "outputs": [],
   "source": [
    "ARK_API_KEY=\"6e623313-5266-43b3-a42d-429b113e083e\""
   ]
  },
  {
   "cell_type": "code",
   "execution_count": 2,
   "id": "3ae41614-8d71-4996-8749-7afc64bc8313",
   "metadata": {},
   "outputs": [],
   "source": [
    "import os\n",
    "from openai import OpenAI\n",
    "\n",
    "# 请确保您已将 API Key 存储在环境变量 ARK_API_KEY 中\n",
    "# 初始化Openai客户端\n",
    "client = OpenAI(\n",
    "    # 此为默认路径，您可根据业务所在地域进行配置\n",
    "    base_url=\"https://ark.cn-beijing.volces.com/api/v3\",\n",
    "    api_key=ARK_API_KEY,\n",
    ")"
   ]
  },
  {
   "cell_type": "code",
   "execution_count": 3,
   "id": "fc21dbac-8268-481a-b9ea-33d97e7b5bdb",
   "metadata": {},
   "outputs": [],
   "source": [
    "chat_history = []"
   ]
  },
  {
   "cell_type": "code",
   "execution_count": 4,
   "id": "6775c8f5-b807-4dea-8af1-7b09ca170e96",
   "metadata": {},
   "outputs": [],
   "source": [
    "def chat(prompt, chat_history):\n",
    "    chat_history.append(\n",
    "            {\n",
    "                \"role\": \"user\",\n",
    "                \"content\": prompt,\n",
    "            }\n",
    "    )\n",
    "    completion = client.chat.completions.create(\n",
    "        model=\"doubao-1-5-pro-32k-250115\",\n",
    "        messages=chat_history, #chat_history[-10:0]\n",
    "        temperature=0.1,\n",
    "    )\n",
    "\n",
    "    content = completion.choices[0].message.content\n",
    "\n",
    "    # 加入机器人回复，相当于保存全部的历史记录，多轮对话\n",
    "    chat_history.append(\n",
    "            {\n",
    "                \"role\": \"assistant\",\n",
    "                \"content\": content,\n",
    "            }\n",
    "        )\n",
    "\n",
    "    return content"
   ]
  },
  {
   "cell_type": "code",
   "execution_count": 5,
   "id": "87203b77-d009-445f-b10a-bd6a3d2aba68",
   "metadata": {},
   "outputs": [],
   "source": [
    "SYS_MSG=\"\"\"\n",
    "你是一个帮助我使用RflySim无人机模拟器的助手。  \n",
    "当我要求你做某事时，你需要提供实现该任务所需的Python代码（仅使用RflySim和相关函数），并解释代码的功能。  \n",
    "你只能使用我已经定义的函数，不能假设或使用任何你认为可能存在的其他函数。  \n",
    "你可以使用简单的Python库函数，例如`math`和`numpy`。\n",
    "\"\"\"\n",
    "chat_history.append(\n",
    "    {\n",
    "        \"role\": \"system\",\n",
    "        \"content\": SYS_MSG,\n",
    "    }\n",
    ")"
   ]
  },
  {
   "cell_type": "code",
   "execution_count": 6,
   "id": "ca4e4734-9c90-4811-8692-ffce95a6cb17",
   "metadata": {},
   "outputs": [
    {
     "data": {
      "text/plain": [
       "'### 起飞无人机\\n```python\\naw.takeoff()\\n```\\n此代码功能为调用`aw`对象的`takeoff`方法，使无人机起飞。\\n\\n### 无人机着陆\\n```python\\naw.land()\\n```\\n此代码功能为调用`aw`对象的`land`方法，使无人机着陆。'"
      ]
     },
     "execution_count": 6,
     "metadata": {},
     "output_type": "execute_result"
    }
   ],
   "source": [
    "knowledge_prompt=\"\"\"\n",
    "以下是您可以用来命令无人机的一些功能。\n",
    "\n",
    "aw.takeoff() - 起飞无人机。\n",
    "aw.land() - 无人机着陆。\n",
    "\n",
    "回复均按照如下格式：\n",
    "```python\n",
    "i=1#这里输出python代码\n",
    "```\n",
    "此代码功能为赋值\n",
    "\n",
    "你无需考虑aw的import问题，在环境中已经声明\n",
    "\n",
    "\"\"\"\n",
    "\n",
    "ret = chat(knowledge_prompt, chat_history)\n",
    "ret"
   ]
  },
  {
   "cell_type": "code",
   "execution_count": 7,
   "id": "d9c1a873-ce6d-4922-838c-9662b0ec834b",
   "metadata": {},
   "outputs": [
    {
     "data": {
      "text/plain": [
       "[{'role': 'system',\n",
       "  'content': '\\n你是一个帮助我使用RflySim无人机模拟器的助手。  \\n当我要求你做某事时，你需要提供实现该任务所需的Python代码（仅使用RflySim和相关函数），并解释代码的功能。  \\n你只能使用我已经定义的函数，不能假设或使用任何你认为可能存在的其他函数。  \\n你可以使用简单的Python库函数，例如`math`和`numpy`。\\n'},\n",
       " {'role': 'user',\n",
       "  'content': '\\n以下是您可以用来命令无人机的一些功能。\\n\\naw.takeoff() - 起飞无人机。\\naw.land() - 无人机着陆。\\n\\n回复均按照如下格式：\\n```python\\ni=1#这里输出python代码\\n```\\n此代码功能为赋值\\n\\n你无需考虑aw的import问题，在环境中已经声明\\n\\n'},\n",
       " {'role': 'assistant',\n",
       "  'content': '### 起飞无人机\\n```python\\naw.takeoff()\\n```\\n此代码功能为调用`aw`对象的`takeoff`方法，使无人机起飞。\\n\\n### 无人机着陆\\n```python\\naw.land()\\n```\\n此代码功能为调用`aw`对象的`land`方法，使无人机着陆。'}]"
      ]
     },
     "execution_count": 7,
     "metadata": {},
     "output_type": "execute_result"
    }
   ],
   "source": [
    "chat_history"
   ]
  },
  {
   "cell_type": "code",
   "execution_count": 8,
   "id": "411d1c55-99ea-43e9-9f1e-528233d06b61",
   "metadata": {},
   "outputs": [
    {
     "name": "stdout",
     "output_type": "stream",
     "text": [
      "```python\n",
      "aw.takeoff()\n",
      "```\n",
      "此代码功能为调用`aw`对象的`takeoff`方法，从而让无人机执行起飞操作。 \n"
     ]
    }
   ],
   "source": [
    "prompt = \"起飞\"\n",
    "ret = chat(prompt, chat_history)\n",
    "print(ret)"
   ]
  },
  {
   "cell_type": "code",
   "execution_count": 9,
   "id": "674a5cab-5e23-4e6c-bc3f-c65b7bffb108",
   "metadata": {},
   "outputs": [],
   "source": [
    "# 解析python代码\n",
    "import re\n",
    "def extract_python_code(content):\n",
    "    \"\"\"\n",
    "    Extracts the python code from a response.\n",
    "    :param content:\n",
    "    :return:\n",
    "    \"\"\"\n",
    "    code_block_regex = re.compile(r\"```(.*?)```\", re.DOTALL)\n",
    "    code_blocks = code_block_regex.findall(content)\n",
    "    if code_blocks:\n",
    "        full_code = \"\\n\".join(code_blocks)\n",
    "\n",
    "        if full_code.startswith(\"python\"):\n",
    "            full_code = full_code[7:]\n",
    "\n",
    "        return full_code\n",
    "    else:\n",
    "        return None"
   ]
  },
  {
   "cell_type": "code",
   "execution_count": 10,
   "id": "78707411-333c-4789-8dba-15e71ff7f712",
   "metadata": {},
   "outputs": [
    {
     "name": "stdout",
     "output_type": "stream",
     "text": [
      "aw.takeoff()\n",
      "\n"
     ]
    }
   ],
   "source": [
    "code = extract_python_code(ret)\n",
    "print(code)"
   ]
  },
  {
   "cell_type": "code",
   "execution_count": 11,
   "id": "b0694bd2-2b95-4eef-963f-395463cb53e1",
   "metadata": {},
   "outputs": [
    {
     "data": {
      "text/plain": [
       "[{'role': 'system',\n",
       "  'content': '\\n你是一个帮助我使用RflySim无人机模拟器的助手。  \\n当我要求你做某事时，你需要提供实现该任务所需的Python代码（仅使用RflySim和相关函数），并解释代码的功能。  \\n你只能使用我已经定义的函数，不能假设或使用任何你认为可能存在的其他函数。  \\n你可以使用简单的Python库函数，例如`math`和`numpy`。\\n'},\n",
       " {'role': 'user',\n",
       "  'content': '\\n以下是您可以用来命令无人机的一些功能。\\n\\naw.takeoff() - 起飞无人机。\\naw.land() - 无人机着陆。\\n\\n回复均按照如下格式：\\n```python\\ni=1#这里输出python代码\\n```\\n此代码功能为赋值\\n\\n你无需考虑aw的import问题，在环境中已经声明\\n\\n'},\n",
       " {'role': 'assistant',\n",
       "  'content': '### 起飞无人机\\n```python\\naw.takeoff()\\n```\\n此代码功能为调用`aw`对象的`takeoff`方法，使无人机起飞。\\n\\n### 无人机着陆\\n```python\\naw.land()\\n```\\n此代码功能为调用`aw`对象的`land`方法，使无人机着陆。'},\n",
       " {'role': 'user', 'content': '起飞'},\n",
       " {'role': 'assistant',\n",
       "  'content': '```python\\naw.takeoff()\\n```\\n此代码功能为调用`aw`对象的`takeoff`方法，从而让无人机执行起飞操作。 '}]"
      ]
     },
     "execution_count": 11,
     "metadata": {},
     "output_type": "execute_result"
    }
   ],
   "source": [
    "chat_history"
   ]
  },
  {
   "cell_type": "markdown",
   "id": "92f016de-e903-480a-81af-6674bf60b440",
   "metadata": {},
   "source": [
    "## 请打开rflysim模拟器"
   ]
  },
  {
   "cell_type": "code",
   "execution_count": 12,
   "id": "7deb4223-f8dd-40af-bf52-a576fb62f80c",
   "metadata": {},
   "outputs": [
    {
     "name": "stdout",
     "output_type": "stream",
     "text": [
      "No Redis labs\n"
     ]
    }
   ],
   "source": [
    "#代码执行\n",
    "import rflysim_wrapper\n",
    "aw = rflysim_wrapper.RflySimWrapper()"
   ]
  },
  {
   "cell_type": "code",
   "execution_count": 13,
   "id": "75e7aae2-cdbb-4a36-a9d2-44c752dcaf7b",
   "metadata": {},
   "outputs": [],
   "source": [
    "exec(code)"
   ]
  },
  {
   "cell_type": "code",
   "execution_count": 14,
   "id": "380c0f9d-5145-4a89-bded-17d45676b969",
   "metadata": {},
   "outputs": [
    {
     "name": "stdout",
     "output_type": "stream",
     "text": [
      "aw.land()\n",
      "\n"
     ]
    }
   ],
   "source": [
    "prompt = \"降落吧，皮卡丘\"\n",
    "ret = chat(prompt, chat_history)\n",
    "code = extract_python_code(ret)\n",
    "print(code)\n",
    "exec(code)"
   ]
  },
  {
   "cell_type": "code",
   "execution_count": null,
   "id": "f3406e27-b345-4af3-8ccf-6429deeeb6dc",
   "metadata": {},
   "outputs": [],
   "source": []
  },
  {
   "cell_type": "code",
   "execution_count": null,
   "id": "14e9932a-2481-4c38-84e6-a2c0095ebd2c",
   "metadata": {},
   "outputs": [],
   "source": []
  },
  {
   "cell_type": "code",
   "execution_count": null,
   "id": "a96bdc64-c1cb-4b4a-97b6-68292f7f21d8",
   "metadata": {},
   "outputs": [],
   "source": []
  }
 ],
 "metadata": {
  "kernelspec": {
   "display_name": "Python 3 (ipykernel)",
   "language": "python",
   "name": "python3"
  },
  "language_info": {
   "codemirror_mode": {
    "name": "ipython",
    "version": 3
   },
   "file_extension": ".py",
   "mimetype": "text/x-python",
   "name": "python",
   "nbconvert_exporter": "python",
   "pygments_lexer": "ipython3",
   "version": "3.10.16"
  }
 },
 "nbformat": 4,
 "nbformat_minor": 5
}
