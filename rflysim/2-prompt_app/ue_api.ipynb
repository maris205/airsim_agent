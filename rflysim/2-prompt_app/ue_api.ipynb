{
 "cells": [
  {
   "cell_type": "code",
   "execution_count": 2,
   "id": "3a20f41b-af4d-4bdf-b3b7-364932ecf783",
   "metadata": {},
   "outputs": [
    {
     "name": "stdout",
     "output_type": "stream",
     "text": [
      "No Redis labs\n"
     ]
    }
   ],
   "source": [
    "#先运行软件在环仿真环境 SITLRun.bat\n",
    "import time\n",
    "import math\n",
    "import sys\n",
    "import PX4MavCtrlV4 as PX4MavCtrl #无人机控制\n",
    "import UE4CtrlAPI"
   ]
  },
  {
   "cell_type": "code",
   "execution_count": 6,
   "id": "7649a6e7-457f-493f-8a96-685618b375ed",
   "metadata": {},
   "outputs": [],
   "source": [
    "ue = UE4CtrlAPI.UE4CtrlAPI()"
   ]
  },
  {
   "cell_type": "code",
   "execution_count": 7,
   "id": "0619fc71-b859-406c-ab0f-9fb79d416051",
   "metadata": {},
   "outputs": [
    {
     "data": {
      "text/plain": [
       "[0, 0, 0, 0]"
      ]
     },
     "execution_count": 7,
     "metadata": {},
     "output_type": "execute_result"
    }
   ],
   "source": [
    "ue.getUE4Pos()"
   ]
  },
  {
   "cell_type": "code",
   "execution_count": 21,
   "id": "14649197-909e-4a85-987c-0809a05f3b01",
   "metadata": {},
   "outputs": [],
   "source": [
    "#请求场景中自带的物体数据。\n",
    "targetObj2='Landscape_1'\n",
    "\n",
    "req = ue.reqObj(ObjNameList=[\"Landscape_1\",\"InstancedFoliageActor_1\"])\n",
    "req"
   ]
  },
  {
   "cell_type": "code",
   "execution_count": 22,
   "id": "f85a2f6a-582a-4b17-8f8d-9b0f5fbe8f36",
   "metadata": {},
   "outputs": [
    {
     "name": "stdout",
     "output_type": "stream",
     "text": [
      "Total Object:  1\n"
     ]
    }
   ],
   "source": [
    "print('Total Object: ',len(ue.ObjDataVect))"
   ]
  },
  {
   "cell_type": "code",
   "execution_count": 23,
   "id": "75fb4e93-5f62-4638-8e22-0d51fa0c3373",
   "metadata": {},
   "outputs": [
    {
     "data": {
      "text/plain": [
       "[]"
      ]
     },
     "execution_count": 23,
     "metadata": {},
     "output_type": "execute_result"
    }
   ],
   "source": [
    "ue.CoptDataVect"
   ]
  },
  {
   "cell_type": "code",
   "execution_count": 24,
   "id": "e00e9f27-224a-40ff-af87-e6a510e1e794",
   "metadata": {},
   "outputs": [
    {
     "data": {
      "text/plain": [
       "0"
      ]
     },
     "execution_count": 24,
     "metadata": {},
     "output_type": "execute_result"
    }
   ],
   "source": [
    "obj = ue.getCamCoptObj(2,targetObj2)\n",
    "obj"
   ]
  },
  {
   "cell_type": "code",
   "execution_count": null,
   "id": "9eaa750c-fdea-4f2f-a9ea-8439236df6c1",
   "metadata": {},
   "outputs": [],
   "source": []
  }
 ],
 "metadata": {
  "kernelspec": {
   "display_name": "Python 3 (ipykernel)",
   "language": "python",
   "name": "python3"
  },
  "language_info": {
   "codemirror_mode": {
    "name": "ipython",
    "version": 3
   },
   "file_extension": ".py",
   "mimetype": "text/x-python",
   "name": "python",
   "nbconvert_exporter": "python",
   "pygments_lexer": "ipython3",
   "version": "3.10.16"
  }
 },
 "nbformat": 4,
 "nbformat_minor": 5
}
