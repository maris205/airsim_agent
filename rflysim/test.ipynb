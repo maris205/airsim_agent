{
 "cells": [
  {
   "cell_type": "code",
   "execution_count": 3,
   "id": "5a30edad-38a2-4e41-b852-f4df114bffc8",
   "metadata": {},
   "outputs": [
    {
     "name": "stdout",
     "output_type": "stream",
     "text": [
      "C:\\Users\\wangl\\miniconda3\\envs\\airsim_agent\n"
     ]
    },
    {
     "data": {
      "text/plain": [
       "'C:\\\\Users\\\\wangl\\\\miniconda3\\\\envs\\\\airsim_agent'"
      ]
     },
     "execution_count": 3,
     "metadata": {},
     "output_type": "execute_result"
    }
   ],
   "source": [
    "import sys\n",
    "print(sys.base_prefix)\n",
    "basepath = sys.base_prefix\n",
    "basepath"
   ]
  },
  {
   "cell_type": "code",
   "execution_count": 4,
   "id": "264839e5-3fb7-4988-b39c-47dcb530ef59",
   "metadata": {},
   "outputs": [
    {
     "data": {
      "text/plain": [
       "'C:\\\\Users\\\\wangl\\\\miniconda3\\\\envs\\\\airsim_agent\\\\python310.zip'"
      ]
     },
     "execution_count": 4,
     "metadata": {},
     "output_type": "execute_result"
    }
   ],
   "source": [
    "pthPath = basepath+'\\\\Lib\\\\site-packages\\\\rflysim.pth'\n",
    "\n",
    "curPath = sys.path[0]\n",
    "\n",
    "curPath"
   ]
  },
  {
   "cell_type": "code",
   "execution_count": 5,
   "id": "81353418-c3eb-4d75-8532-613ee5f5a7c3",
   "metadata": {},
   "outputs": [
    {
     "name": "stdout",
     "output_type": "stream",
     "text": [
      "Current Path is: C:\\Users\\wangl\\miniconda3\\envs\\airsim_agent\\python310.zip\n"
     ]
    }
   ],
   "source": [
    "print('Current Path is:',curPath)"
   ]
  },
  {
   "cell_type": "code",
   "execution_count": null,
   "id": "cbc2f74b-44f6-4228-8539-09d676207e8c",
   "metadata": {},
   "outputs": [],
   "source": []
  }
 ],
 "metadata": {
  "kernelspec": {
   "display_name": "Python 3 (ipykernel)",
   "language": "python",
   "name": "python3"
  },
  "language_info": {
   "codemirror_mode": {
    "name": "ipython",
    "version": 3
   },
   "file_extension": ".py",
   "mimetype": "text/x-python",
   "name": "python",
   "nbconvert_exporter": "python",
   "pygments_lexer": "ipython3",
   "version": "3.10.16"
  }
 },
 "nbformat": 4,
 "nbformat_minor": 5
}
